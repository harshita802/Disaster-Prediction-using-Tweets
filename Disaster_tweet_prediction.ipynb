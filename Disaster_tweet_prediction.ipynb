 {
 "cells": [
  {
   "cell_type": "markdown",
   "id": "d2d00ec8",
   "metadata": {
    "id": "d2d00ec8"
   },
   "source": [
    "# Intro to NLP in TensorFlow\n",
    "\n",
    "NLP has the goal of deriving information out of natural language( could be sequences text or speech)\n",
    "Another comman term for NLP problem is sequence to sequence problem(seq2seq)."
   ]
  },
  {
   "cell_type": "code",
   "execution_count": null,
   "id": "d05df15a",
   "metadata": {
    "colab": {
     "base_uri": "https://localhost:8080/"
    },
    "id": "d05df15a",
    "outputId": "93c83bea-307a-4b71-8b04-f20fe441efdb"
   },
   "outputs": [
    {
     "name": "stdout",
     "output_type": "stream",
     "text": [
      "Mon Mar 13 15:17:02 2023       \n",
      "+-----------------------------------------------------------------------------+\n",
      "| NVIDIA-SMI 525.85.12    Driver Version: 525.85.12    CUDA Version: 12.0     |\n",
      "|-------------------------------+----------------------+----------------------+\n",
      "| GPU  Name        Persistence-M| Bus-Id        Disp.A | Volatile Uncorr. ECC |\n",
      "| Fan  Temp  Perf  Pwr:Usage/Cap|         Memory-Usage | GPU-Util  Compute M. |\n",
      "|                               |                      |               MIG M. |\n",
      "|===============================+======================+======================|\n",
      "|   0  Tesla T4            Off  | 00000000:00:04.0 Off |                    0 |\n",
      "| N/A   37C    P0    25W /  70W |      0MiB / 15360MiB |      0%      Default |\n",
      "|                               |                      |                  N/A |\n",
      "+-------------------------------+----------------------+----------------------+\n",
      "                                                                               \n",
      "+-----------------------------------------------------------------------------+\n",
      "| Processes:                                                                  |\n",
      "|  GPU   GI   CI        PID   Type   Process name                  GPU Memory |\n",
      "|        ID   ID                                                   Usage      |\n",
      "|=============================================================================|\n",
      "|  No running processes found                                                 |\n",
      "+-----------------------------------------------------------------------------+\n"
     ]
    }
   ],
   "source": [
    "!nvidia-smi"
   ]
  },
  {
   "cell_type": "code",
   "execution_count": null,
   "id": "RIvqm1LxkmcP",
   "metadata": {
    "colab": {
     "base_uri": "https://localhost:8080/"
    },
    "id": "RIvqm1LxkmcP",
    "outputId": "f7bd8341-5abf-4810-f227-3eca6863c788"
   },
   "outputs": [
    {
     "name": "stdout",
     "output_type": "stream",
     "text": [
      "2.11.0\n"
     ]
    }
   ],
   "source": [
    "import tensorflow as tf\n",
    "print(tf.__version__)"
   ]
  },
  {
   "cell_type": "code",
   "execution_count": null,
   "id": "qCMjAjPskaF_",
   "metadata": {
    "colab": {
     "base_uri": "https://localhost:8080/"
    },
    "id": "qCMjAjPskaF_",
    "outputId": "7023a05d-e571-4939-c2e9-fb516bc974a8"
   },
   "outputs": [
    {
     "name": "stdout",
     "output_type": "stream",
     "text": [
      "--2023-03-13 15:17:12--  https://raw.githubusercontent.com/mrdbourke/tensorflow-deep-learning/main/extras/helper_functions.py\n",
      "Resolving raw.githubusercontent.com (raw.githubusercontent.com)... 185.199.110.133, 185.199.111.133, 185.199.109.133, ...\n",
      "Connecting to raw.githubusercontent.com (raw.githubusercontent.com)|185.199.110.133|:443... connected.\n",
      "HTTP request sent, awaiting response... 200 OK\n",
      "Length: 10246 (10K) [text/plain]\n",
      "Saving to: ‘helper_functions.py’\n",
      "\n",
      "helper_functions.py 100%[===================>]  10.01K  --.-KB/s    in 0s      \n",
      "\n",
      "2023-03-13 15:17:12 (83.7 MB/s) - ‘helper_functions.py’ saved [10246/10246]\n",
      "\n"
     ]
    }
   ],
   "source": [
    "!wget https://raw.githubusercontent.com/mrdbourke/tensorflow-deep-learning/main/extras/helper_functions.py\n"
   ]
  },
  {
   "cell_type": "markdown",
   "id": "a3dc1861",
   "metadata": {
    "id": "a3dc1861"
   },
   "source": [
    "## Get helper functions"
   ]
  },
  {
   "cell_type": "code",
   "execution_count": null,
   "id": "25acd9f9",
   "metadata": {
    "id": "25acd9f9"
   },
   "outputs": [],
   "source": [
    "from helper_functions import unzip_data, create_tensorboard_callback,plot_loss_curves,compare_historys"
   ]
  },
  {
   "cell_type": "markdown",
   "id": "e667a3a4",
   "metadata": {
    "id": "e667a3a4"
   },
   "source": [
    "## Get a text dataset\n",
    "The dataset we're going to using is Kaggle intro to NLP dataset ( text samples of tweet labelled as disaster or not disaster)"
   ]
  },
  {
   "cell_type": "code",
   "execution_count": null,
   "id": "520dfb75",
   "metadata": {
    "colab": {
     "base_uri": "https://localhost:8080/"
    },
    "id": "520dfb75",
    "outputId": "77c99771-dc97-41c9-daaa-1682fa84f75f"
   },
   "outputs": [
    {
     "name": "stdout",
     "output_type": "stream",
     "text": [
      "--2023-03-13 15:17:24--  https://storage.googleapis.com/ztm_tf_course/nlp_getting_started.zip\n",
      "Resolving storage.googleapis.com (storage.googleapis.com)... 74.125.143.128, 108.177.96.128, 108.177.127.128, ...\n",
      "Connecting to storage.googleapis.com (storage.googleapis.com)|74.125.143.128|:443... connected.\n",
      "HTTP request sent, awaiting response... 200 OK\n",
      "Length: 607343 (593K) [application/zip]\n",
      "Saving to: ‘nlp_getting_started.zip’\n",
      "\n",
      "nlp_getting_started 100%[===================>] 593.11K  1.28MB/s    in 0.5s    \n",
      "\n",
      "2023-03-13 15:17:24 (1.28 MB/s) - ‘nlp_getting_started.zip’ saved [607343/607343]\n",
      "\n"
     ]
    }
   ],
   "source": [
    "# Download data (same as from Kaggle)\n",
    "!wget \"https://storage.googleapis.com/ztm_tf_course/nlp_getting_started.zip\"\n",
    "#unzip data\n",
    "unzip_data(\"nlp-getting-started.zip\")"
   ]
  },
  {
   "cell_type": "markdown",
   "id": "96b0f2ef",
   "metadata": {
    "id": "96b0f2ef"
   },
   "source": [
    "## Visualizing text dataset"
   ]
  },
  {
   "cell_type": "code",
   "execution_count": null,
   "id": "fcced7cb",
   "metadata": {
    "id": "fcced7cb"
   },
   "outputs": [],
   "source": [
    "import pandas as pd\n",
    "\n",
    "train_df=pd.read_csv(\"train.csv\")\n",
    "\n",
    "test_df=pd.read_csv(\"test.csv\")"
   ]
  },
  {
   "cell_type": "code",
   "execution_count": null,
   "id": "9c9e0ee3",
   "metadata": {
    "colab": {
     "base_uri": "https://localhost:8080/",
     "height": 206
    },
    "id": "9c9e0ee3",
    "outputId": "3550390a-03ba-43c6-be97-1d1ba2950fb9"
   },
   "outputs": [
    {
     "data": {
      "text/html": [
       "\n",
       "  <div id=\"df-2f975a32-bee4-491e-be08-a97305a1e4db\">\n",
       "    <div class=\"colab-df-container\">\n",
       "      <div>\n",
       "<style scoped>\n",
       "    .dataframe tbody tr th:only-of-type {\n",
       "        vertical-align: middle;\n",
       "    }\n",
       "\n",
       "    .dataframe tbody tr th {\n",
       "        vertical-align: top;\n",
       "    }\n",
       "\n",
       "    .dataframe thead th {\n",
       "        text-align: right;\n",
       "    }\n",
       "</style>\n",
       "<table border=\"1\" class=\"dataframe\">\n",
       "  <thead>\n",
       "    <tr style=\"text-align: right;\">\n",
       "      <th></th>\n",
       "      <th>id</th>\n",
       "      <th>keyword</th>\n",
       "      <th>location</th>\n",
       "      <th>text</th>\n",
       "      <th>target</th>\n",
       "    </tr>\n",
       "  </thead>\n",
       "  <tbody>\n",
       "    <tr>\n",
       "      <th>0</th>\n",
       "      <td>1</td>\n",
       "      <td>NaN</td>\n",
       "      <td>NaN</td>\n",
       "      <td>Our Deeds are the Reason of this #earthquake M...</td>\n",
       "      <td>1</td>\n",
       "    </tr>\n",
       "    <tr>\n",
       "      <th>1</th>\n",
       "      <td>4</td>\n",
       "      <td>NaN</td>\n",
       "      <td>NaN</td>\n",
       "      <td>Forest fire near La Ronge Sask. Canada</td>\n",
       "      <td>1</td>\n",
       "    </tr>\n",
       "    <tr>\n",
       "      <th>2</th>\n",
       "      <td>5</td>\n",
       "      <td>NaN</td>\n",
       "      <td>NaN</td>\n",
       "      <td>All residents asked to 'shelter in place' are ...</td>\n",
       "      <td>1</td>\n",
       "    </tr>\n",
       "    <tr>\n",
       "      <th>3</th>\n",
       "      <td>6</td>\n",
       "      <td>NaN</td>\n",
       "      <td>NaN</td>\n",
       "      <td>13,000 people receive #wildfires evacuation or...</td>\n",
       "      <td>1</td>\n",
       "    </tr>\n",
       "    <tr>\n",
       "      <th>4</th>\n",
       "      <td>7</td>\n",
       "      <td>NaN</td>\n",
       "      <td>NaN</td>\n",
       "      <td>Just got sent this photo from Ruby #Alaska as ...</td>\n",
       "      <td>1</td>\n",
       "    </tr>\n",
       "  </tbody>\n",
       "</table>\n",
       "</div>\n",
       "      <button class=\"colab-df-convert\" onclick=\"convertToInteractive('df-2f975a32-bee4-491e-be08-a97305a1e4db')\"\n",
       "              title=\"Convert this dataframe to an interactive table.\"\n",
       "              style=\"display:none;\">\n",
       "        \n",
       "  <svg xmlns=\"http://www.w3.org/2000/svg\" height=\"24px\"viewBox=\"0 0 24 24\"\n",
       "       width=\"24px\">\n",
       "    <path d=\"M0 0h24v24H0V0z\" fill=\"none\"/>\n",
       "    <path d=\"M18.56 5.44l.94 2.06.94-2.06 2.06-.94-2.06-.94-.94-2.06-.94 2.06-2.06.94zm-11 1L8.5 8.5l.94-2.06 2.06-.94-2.06-.94L8.5 2.5l-.94 2.06-2.06.94zm10 10l.94 2.06.94-2.06 2.06-.94-2.06-.94-.94-2.06-.94 2.06-2.06.94z\"/><path d=\"M17.41 7.96l-1.37-1.37c-.4-.4-.92-.59-1.43-.59-.52 0-1.04.2-1.43.59L10.3 9.45l-7.72 7.72c-.78.78-.78 2.05 0 2.83L4 21.41c.39.39.9.59 1.41.59.51 0 1.02-.2 1.41-.59l7.78-7.78 2.81-2.81c.8-.78.8-2.07 0-2.86zM5.41 20L4 18.59l7.72-7.72 1.47 1.35L5.41 20z\"/>\n",
       "  </svg>\n",
       "      </button>\n",
       "      \n",
       "  <style>\n",
       "    .colab-df-container {\n",
       "      display:flex;\n",
       "      flex-wrap:wrap;\n",
       "      gap: 12px;\n",
       "    }\n",
       "\n",
       "    .colab-df-convert {\n",
       "      background-color: #E8F0FE;\n",
       "      border: none;\n",
       "      border-radius: 50%;\n",
       "      cursor: pointer;\n",
       "      display: none;\n",
       "      fill: #1967D2;\n",
       "      height: 32px;\n",
       "      padding: 0 0 0 0;\n",
       "      width: 32px;\n",
       "    }\n",
       "\n",
       "    .colab-df-convert:hover {\n",
       "      background-color: #E2EBFA;\n",
       "      box-shadow: 0px 1px 2px rgba(60, 64, 67, 0.3), 0px 1px 3px 1px rgba(60, 64, 67, 0.15);\n",
       "      fill: #174EA6;\n",
       "    }\n",
       "\n",
       "    [theme=dark] .colab-df-convert {\n",
       "      background-color: #3B4455;\n",
       "      fill: #D2E3FC;\n",
       "    }\n",
       "\n",
       "    [theme=dark] .colab-df-convert:hover {\n",
       "      background-color: #434B5C;\n",
       "      box-shadow: 0px 1px 3px 1px rgba(0, 0, 0, 0.15);\n",
       "      filter: drop-shadow(0px 1px 2px rgba(0, 0, 0, 0.3));\n",
       "      fill: #FFFFFF;\n",
       "    }\n",
       "  </style>\n",
       "\n",
       "      <script>\n",
       "        const buttonEl =\n",
       "          document.querySelector('#df-2f975a32-bee4-491e-be08-a97305a1e4db button.colab-df-convert');\n",
       "        buttonEl.style.display =\n",
       "          google.colab.kernel.accessAllowed ? 'block' : 'none';\n",
       "\n",
       "        async function convertToInteractive(key) {\n",
       "          const element = document.querySelector('#df-2f975a32-bee4-491e-be08-a97305a1e4db');\n",
       "          const dataTable =\n",
       "            await google.colab.kernel.invokeFunction('convertToInteractive',\n",
       "                                                     [key], {});\n",
       "          if (!dataTable) return;\n",
       "\n",
       "          const docLinkHtml = 'Like what you see? Visit the ' +\n",
       "            '<a target=\"_blank\" href=https://colab.research.google.com/notebooks/data_table.ipynb>data table notebook</a>'\n",
       "            + ' to learn more about interactive tables.';\n",
       "          element.innerHTML = '';\n",
       "          dataTable['output_type'] = 'display_data';\n",
       "          await google.colab.output.renderOutput(dataTable, element);\n",
       "          const docLink = document.createElement('div');\n",
       "          docLink.innerHTML = docLinkHtml;\n",
       "          element.appendChild(docLink);\n",
       "        }\n",
       "      </script>\n",
       "    </div>\n",
       "  </div>\n",
       "  "
      ],
      "text/plain": [
       "   id keyword location                                               text  \\\n",
       "0   1     NaN      NaN  Our Deeds are the Reason of this #earthquake M...   \n",
       "1   4     NaN      NaN             Forest fire near La Ronge Sask. Canada   \n",
       "2   5     NaN      NaN  All residents asked to 'shelter in place' are ...   \n",
       "3   6     NaN      NaN  13,000 people receive #wildfires evacuation or...   \n",
       "4   7     NaN      NaN  Just got sent this photo from Ruby #Alaska as ...   \n",
       "\n",
       "   target  \n",
       "0       1  \n",
       "1       1  \n",
       "2       1  \n",
       "3       1  \n",
       "4       1  "
      ]
     },
     "execution_count": 7,
     "metadata": {},
     "output_type": "execute_result"
    }
   ],
   "source": [
    "train_df.head()"
   ]
  },
  {
   "cell_type": "code",
   "execution_count": null,
   "id": "e18dc2c3",
   "metadata": {
    "colab": {
     "base_uri": "https://localhost:8080/",
     "height": 36
    },
    "id": "e18dc2c3",
    "outputId": "21d9d371-5736-4fca-d163-95293b899ea1"
   },
   "outputs": [
    {
     "data": {
      "application/vnd.google.colaboratory.intrinsic+json": {
       "type": "string"
      },
      "text/plain": [
       "'Forest fire near La Ronge Sask. Canada'"
      ]
     },
     "execution_count": 8,
     "metadata": {},
     "output_type": "execute_result"
    }
   ],
   "source": [
    "train_df[\"text\"][1]"
   ]
  },
  {
   "cell_type": "code",
   "execution_count": null,
   "id": "9c244bfb",
   "metadata": {
    "colab": {
     "base_uri": "https://localhost:8080/",
     "height": 206
    },
    "id": "9c244bfb",
    "outputId": "dbf6f326-d5f0-468f-f9b9-20cb8f20c7c3"
   },
   "outputs": [
    {
     "data": {
      "text/html": [
       "\n",
       "  <div id=\"df-14da64eb-f1fd-4b00-a7b3-90b7e5b52a45\">\n",
       "    <div class=\"colab-df-container\">\n",
       "      <div>\n",
       "<style scoped>\n",
       "    .dataframe tbody tr th:only-of-type {\n",
       "        vertical-align: middle;\n",
       "    }\n",
       "\n",
       "    .dataframe tbody tr th {\n",
       "        vertical-align: top;\n",
       "    }\n",
       "\n",
       "    .dataframe thead th {\n",
       "        text-align: right;\n",
       "    }\n",
       "</style>\n",
       "<table border=\"1\" class=\"dataframe\">\n",
       "  <thead>\n",
       "    <tr style=\"text-align: right;\">\n",
       "      <th></th>\n",
       "      <th>id</th>\n",
       "      <th>keyword</th>\n",
       "      <th>location</th>\n",
       "      <th>text</th>\n",
       "      <th>target</th>\n",
       "    </tr>\n",
       "  </thead>\n",
       "  <tbody>\n",
       "    <tr>\n",
       "      <th>2644</th>\n",
       "      <td>3796</td>\n",
       "      <td>destruction</td>\n",
       "      <td>NaN</td>\n",
       "      <td>So you have a new weapon that can cause un-ima...</td>\n",
       "      <td>1</td>\n",
       "    </tr>\n",
       "    <tr>\n",
       "      <th>2227</th>\n",
       "      <td>3185</td>\n",
       "      <td>deluge</td>\n",
       "      <td>NaN</td>\n",
       "      <td>The f$&amp;amp;@ing things I do for #GISHWHES Just...</td>\n",
       "      <td>0</td>\n",
       "    </tr>\n",
       "    <tr>\n",
       "      <th>5448</th>\n",
       "      <td>7769</td>\n",
       "      <td>police</td>\n",
       "      <td>UK</td>\n",
       "      <td>DT @georgegalloway: RT @Galloway4Mayor: ÛÏThe...</td>\n",
       "      <td>1</td>\n",
       "    </tr>\n",
       "    <tr>\n",
       "      <th>132</th>\n",
       "      <td>191</td>\n",
       "      <td>aftershock</td>\n",
       "      <td>NaN</td>\n",
       "      <td>Aftershock back to school kick off was great. ...</td>\n",
       "      <td>0</td>\n",
       "    </tr>\n",
       "    <tr>\n",
       "      <th>6845</th>\n",
       "      <td>9810</td>\n",
       "      <td>trauma</td>\n",
       "      <td>Montgomery County, MD</td>\n",
       "      <td>in response to trauma Children of Addicts deve...</td>\n",
       "      <td>0</td>\n",
       "    </tr>\n",
       "  </tbody>\n",
       "</table>\n",
       "</div>\n",
       "      <button class=\"colab-df-convert\" onclick=\"convertToInteractive('df-14da64eb-f1fd-4b00-a7b3-90b7e5b52a45')\"\n",
       "              title=\"Convert this dataframe to an interactive table.\"\n",
       "              style=\"display:none;\">\n",
       "        \n",
       "  <svg xmlns=\"http://www.w3.org/2000/svg\" height=\"24px\"viewBox=\"0 0 24 24\"\n",
       "       width=\"24px\">\n",
       "    <path d=\"M0 0h24v24H0V0z\" fill=\"none\"/>\n",
       "    <path d=\"M18.56 5.44l.94 2.06.94-2.06 2.06-.94-2.06-.94-.94-2.06-.94 2.06-2.06.94zm-11 1L8.5 8.5l.94-2.06 2.06-.94-2.06-.94L8.5 2.5l-.94 2.06-2.06.94zm10 10l.94 2.06.94-2.06 2.06-.94-2.06-.94-.94-2.06-.94 2.06-2.06.94z\"/><path d=\"M17.41 7.96l-1.37-1.37c-.4-.4-.92-.59-1.43-.59-.52 0-1.04.2-1.43.59L10.3 9.45l-7.72 7.72c-.78.78-.78 2.05 0 2.83L4 21.41c.39.39.9.59 1.41.59.51 0 1.02-.2 1.41-.59l7.78-7.78 2.81-2.81c.8-.78.8-2.07 0-2.86zM5.41 20L4 18.59l7.72-7.72 1.47 1.35L5.41 20z\"/>\n",
       "  </svg>\n",
       "      </button>\n",
       "      \n",
       "  <style>\n",
       "    .colab-df-container {\n",
       "      display:flex;\n",
       "      flex-wrap:wrap;\n",
       "      gap: 12px;\n",
       "    }\n",
       "\n",
       "    .colab-df-convert {\n",
       "      background-color: #E8F0FE;\n",
       "      border: none;\n",
       "      border-radius: 50%;\n",
       "      cursor: pointer;\n",
       "      display: none;\n",
       "      fill: #1967D2;\n",
       "      height: 32px;\n",
       "      padding: 0 0 0 0;\n",
       "      width: 32px;\n",
       "    }\n",
       "\n",
       "    .colab-df-convert:hover {\n",
       "      background-color: #E2EBFA;\n",
       "      box-shadow: 0px 1px 2px rgba(60, 64, 67, 0.3), 0px 1px 3px 1px rgba(60, 64, 67, 0.15);\n",
       "      fill: #174EA6;\n",
       "    }\n",
       "\n",
       "    [theme=dark] .colab-df-convert {\n",
       "      background-color: #3B4455;\n",
       "      fill: #D2E3FC;\n",
       "    }\n",
       "\n",
       "    [theme=dark] .colab-df-convert:hover {\n",
       "      background-color: #434B5C;\n",
       "      box-shadow: 0px 1px 3px 1px rgba(0, 0, 0, 0.15);\n",
       "      filter: drop-shadow(0px 1px 2px rgba(0, 0, 0, 0.3));\n",
       "      fill: #FFFFFF;\n",
       "    }\n",
       "  </style>\n",
       "\n",
       "      <script>\n",
       "        const buttonEl =\n",
       "          document.querySelector('#df-14da64eb-f1fd-4b00-a7b3-90b7e5b52a45 button.colab-df-convert');\n",
       "        buttonEl.style.display =\n",
       "          google.colab.kernel.accessAllowed ? 'block' : 'none';\n",
       "\n",
       "        async function convertToInteractive(key) {\n",
       "          const element = document.querySelector('#df-14da64eb-f1fd-4b00-a7b3-90b7e5b52a45');\n",
       "          const dataTable =\n",
       "            await google.colab.kernel.invokeFunction('convertToInteractive',\n",
       "                                                     [key], {});\n",
       "          if (!dataTable) return;\n",
       "\n",
       "          const docLinkHtml = 'Like what you see? Visit the ' +\n",
       "            '<a target=\"_blank\" href=https://colab.research.google.com/notebooks/data_table.ipynb>data table notebook</a>'\n",
       "            + ' to learn more about interactive tables.';\n",
       "          element.innerHTML = '';\n",
       "          dataTable['output_type'] = 'display_data';\n",
       "          await google.colab.output.renderOutput(dataTable, element);\n",
       "          const docLink = document.createElement('div');\n",
       "          docLink.innerHTML = docLinkHtml;\n",
       "          element.appendChild(docLink);\n",
       "        }\n",
       "      </script>\n",
       "    </div>\n",
       "  </div>\n",
       "  "
      ],
      "text/plain": [
       "        id      keyword               location  \\\n",
       "2644  3796  destruction                    NaN   \n",
       "2227  3185       deluge                    NaN   \n",
       "5448  7769       police                     UK   \n",
       "132    191   aftershock                    NaN   \n",
       "6845  9810       trauma  Montgomery County, MD   \n",
       "\n",
       "                                                   text  target  \n",
       "2644  So you have a new weapon that can cause un-ima...       1  \n",
       "2227  The f$&amp;@ing things I do for #GISHWHES Just...       0  \n",
       "5448  DT @georgegalloway: RT @Galloway4Mayor: ÛÏThe...       1  \n",
       "132   Aftershock back to school kick off was great. ...       0  \n",
       "6845  in response to trauma Children of Addicts deve...       0  "
      ]
     },
     "execution_count": 9,
     "metadata": {},
     "output_type": "execute_result"
    }
   ],
   "source": [
    "# Shuffle training dataframe\n",
    "train_df_shuffled=train_df.sample(frac=1,random_state=42)\n",
    "train_df_shuffled.head()"
   ]
  },
  {
   "cell_type": "code",
   "execution_count": null,
   "id": "87d58055",
   "metadata": {
    "colab": {
     "base_uri": "https://localhost:8080/",
     "height": 206
    },
    "id": "87d58055",
    "outputId": "654cd20e-311d-413a-947a-76f3225df11c"
   },
   "outputs": [
    {
     "data": {
      "text/html": [
       "\n",
       "  <div id=\"df-ba88701b-ab65-47be-b512-7dc6ec725670\">\n",
       "    <div class=\"colab-df-container\">\n",
       "      <div>\n",
       "<style scoped>\n",
       "    .dataframe tbody tr th:only-of-type {\n",
       "        vertical-align: middle;\n",
       "    }\n",
       "\n",
       "    .dataframe tbody tr th {\n",
       "        vertical-align: top;\n",
       "    }\n",
       "\n",
       "    .dataframe thead th {\n",
       "        text-align: right;\n",
       "    }\n",
       "</style>\n",
       "<table border=\"1\" class=\"dataframe\">\n",
       "  <thead>\n",
       "    <tr style=\"text-align: right;\">\n",
       "      <th></th>\n",
       "      <th>id</th>\n",
       "      <th>keyword</th>\n",
       "      <th>location</th>\n",
       "      <th>text</th>\n",
       "    </tr>\n",
       "  </thead>\n",
       "  <tbody>\n",
       "    <tr>\n",
       "      <th>0</th>\n",
       "      <td>0</td>\n",
       "      <td>NaN</td>\n",
       "      <td>NaN</td>\n",
       "      <td>Just happened a terrible car crash</td>\n",
       "    </tr>\n",
       "    <tr>\n",
       "      <th>1</th>\n",
       "      <td>2</td>\n",
       "      <td>NaN</td>\n",
       "      <td>NaN</td>\n",
       "      <td>Heard about #earthquake is different cities, s...</td>\n",
       "    </tr>\n",
       "    <tr>\n",
       "      <th>2</th>\n",
       "      <td>3</td>\n",
       "      <td>NaN</td>\n",
       "      <td>NaN</td>\n",
       "      <td>there is a forest fire at spot pond, geese are...</td>\n",
       "    </tr>\n",
       "    <tr>\n",
       "      <th>3</th>\n",
       "      <td>9</td>\n",
       "      <td>NaN</td>\n",
       "      <td>NaN</td>\n",
       "      <td>Apocalypse lighting. #Spokane #wildfires</td>\n",
       "    </tr>\n",
       "    <tr>\n",
       "      <th>4</th>\n",
       "      <td>11</td>\n",
       "      <td>NaN</td>\n",
       "      <td>NaN</td>\n",
       "      <td>Typhoon Soudelor kills 28 in China and Taiwan</td>\n",
       "    </tr>\n",
       "  </tbody>\n",
       "</table>\n",
       "</div>\n",
       "      <button class=\"colab-df-convert\" onclick=\"convertToInteractive('df-ba88701b-ab65-47be-b512-7dc6ec725670')\"\n",
       "              title=\"Convert this dataframe to an interactive table.\"\n",
       "              style=\"display:none;\">\n",
       "        \n",
       "  <svg xmlns=\"http://www.w3.org/2000/svg\" height=\"24px\"viewBox=\"0 0 24 24\"\n",
       "       width=\"24px\">\n",
       "    <path d=\"M0 0h24v24H0V0z\" fill=\"none\"/>\n",
       "    <path d=\"M18.56 5.44l.94 2.06.94-2.06 2.06-.94-2.06-.94-.94-2.06-.94 2.06-2.06.94zm-11 1L8.5 8.5l.94-2.06 2.06-.94-2.06-.94L8.5 2.5l-.94 2.06-2.06.94zm10 10l.94 2.06.94-2.06 2.06-.94-2.06-.94-.94-2.06-.94 2.06-2.06.94z\"/><path d=\"M17.41 7.96l-1.37-1.37c-.4-.4-.92-.59-1.43-.59-.52 0-1.04.2-1.43.59L10.3 9.45l-7.72 7.72c-.78.78-.78 2.05 0 2.83L4 21.41c.39.39.9.59 1.41.59.51 0 1.02-.2 1.41-.59l7.78-7.78 2.81-2.81c.8-.78.8-2.07 0-2.86zM5.41 20L4 18.59l7.72-7.72 1.47 1.35L5.41 20z\"/>\n",
       "  </svg>\n",
       "      </button>\n",
       "      \n",
       "  <style>\n",
       "    .colab-df-container {\n",
       "      display:flex;\n",
       "      flex-wrap:wrap;\n",
       "      gap: 12px;\n",
       "    }\n",
       "\n",
       "    .colab-df-convert {\n",
       "      background-color: #E8F0FE;\n",
       "      border: none;\n",
       "      border-radius: 50%;\n",
       "      cursor: pointer;\n",
       "      display: none;\n",
       "      fill: #1967D2;\n",
       "      height: 32px;\n",
       "      padding: 0 0 0 0;\n",
       "      width: 32px;\n",
       "    }\n",
       "\n",
       "    .colab-df-convert:hover {\n",
       "      background-color: #E2EBFA;\n",
       "      box-shadow: 0px 1px 2px rgba(60, 64, 67, 0.3), 0px 1px 3px 1px rgba(60, 64, 67, 0.15);\n",
       "      fill: #174EA6;\n",
       "    }\n",
       "\n",
       "    [theme=dark] .colab-df-convert {\n",
       "      background-color: #3B4455;\n",
       "      fill: #D2E3FC;\n",
       "    }\n",
       "\n",
       "    [theme=dark] .colab-df-convert:hover {\n",
       "      background-color: #434B5C;\n",
       "      box-shadow: 0px 1px 3px 1px rgba(0, 0, 0, 0.15);\n",
       "      filter: drop-shadow(0px 1px 2px rgba(0, 0, 0, 0.3));\n",
       "      fill: #FFFFFF;\n",
       "    }\n",
       "  </style>\n",
       "\n",
       "      <script>\n",
       "        const buttonEl =\n",
       "          document.querySelector('#df-ba88701b-ab65-47be-b512-7dc6ec725670 button.colab-df-convert');\n",
       "        buttonEl.style.display =\n",
       "          google.colab.kernel.accessAllowed ? 'block' : 'none';\n",
       "\n",
       "        async function convertToInteractive(key) {\n",
       "          const element = document.querySelector('#df-ba88701b-ab65-47be-b512-7dc6ec725670');\n",
       "          const dataTable =\n",
       "            await google.colab.kernel.invokeFunction('convertToInteractive',\n",
       "                                                     [key], {});\n",
       "          if (!dataTable) return;\n",
       "\n",
       "          const docLinkHtml = 'Like what you see? Visit the ' +\n",
       "            '<a target=\"_blank\" href=https://colab.research.google.com/notebooks/data_table.ipynb>data table notebook</a>'\n",
       "            + ' to learn more about interactive tables.';\n",
       "          element.innerHTML = '';\n",
       "          dataTable['output_type'] = 'display_data';\n",
       "          await google.colab.output.renderOutput(dataTable, element);\n",
       "          const docLink = document.createElement('div');\n",
       "          docLink.innerHTML = docLinkHtml;\n",
       "          element.appendChild(docLink);\n",
       "        }\n",
       "      </script>\n",
       "    </div>\n",
       "  </div>\n",
       "  "
      ],
      "text/plain": [
       "   id keyword location                                               text\n",
       "0   0     NaN      NaN                 Just happened a terrible car crash\n",
       "1   2     NaN      NaN  Heard about #earthquake is different cities, s...\n",
       "2   3     NaN      NaN  there is a forest fire at spot pond, geese are...\n",
       "3   9     NaN      NaN           Apocalypse lighting. #Spokane #wildfires\n",
       "4  11     NaN      NaN      Typhoon Soudelor kills 28 in China and Taiwan"
      ]
     },
     "execution_count": 10,
     "metadata": {},
     "output_type": "execute_result"
    }
   ],
   "source": [
    "test_df.head()"
   ]
  },
  {
   "cell_type": "code",
   "execution_count": null,
   "id": "28002e10",
   "metadata": {
    "colab": {
     "base_uri": "https://localhost:8080/"
    },
    "id": "28002e10",
    "outputId": "013218d5-aa1e-4f8c-90ae-f247993bb31c"
   },
   "outputs": [
    {
     "data": {
      "text/plain": [
       "0    4342\n",
       "1    3271\n",
       "Name: target, dtype: int64"
      ]
     },
     "execution_count": 11,
     "metadata": {},
     "output_type": "execute_result"
    }
   ],
   "source": [
    "#How many example of each class are there\n",
    "train_df[\"target\"].value_counts()"
   ]
  },
  {
   "cell_type": "code",
   "execution_count": null,
   "id": "b753cf2c",
   "metadata": {
    "colab": {
     "base_uri": "https://localhost:8080/"
    },
    "id": "b753cf2c",
    "outputId": "9e6581c8-2fc1-4f23-9c0f-9493e5d61f46"
   },
   "outputs": [
    {
     "data": {
      "text/plain": [
       "(7613, 3263)"
      ]
     },
     "execution_count": 12,
     "metadata": {},
     "output_type": "execute_result"
    }
   ],
   "source": [
    "# Total samples\n",
    "len(train_df),len(test_df)"
   ]
  },
  {
   "cell_type": "code",
   "execution_count": null,
   "id": "85513dd3",
   "metadata": {
    "colab": {
     "base_uri": "https://localhost:8080/"
    },
    "id": "85513dd3",
    "outputId": "a69a39e7-dfd0-458f-d2c1-25e7486b2e92",
    "scrolled": false
   },
   "outputs": [
    {
     "name": "stdout",
     "output_type": "stream",
     "text": [
      "Target:1 (real disaster)\n",
      "Text:\n",
      "Woodlawn Shooting Wounds 79-Year-Old Woman Teen - Woodlawn - http://t.co/nu3XXn55vS Chicago http://t.co/XNGrfNQSx3\n",
      "\n",
      "----\n",
      "\n",
      "Target:0 (not real disaster)\n",
      "Text:\n",
      "My dogÛªs just blown his kennel up ÛÒ Bloody Yorkshire Terrorist\n",
      "\n",
      "----\n",
      "\n",
      "Target:0 (not real disaster)\n",
      "Text:\n",
      "I chose you so if we can search for the joy of just the two of us WeÛªll be near smiles no matter what cold flames burn our bod #PortgassDK\n",
      "\n",
      "----\n",
      "\n",
      "Target:1 (real disaster)\n",
      "Text:\n",
      "#weed news How marijuana is making California drought worse - Christian Science Monitor http://t.co/2SZ7oKjRXi\n",
      "\n",
      "----\n",
      "\n",
      "Target:1 (real disaster)\n",
      "Text:\n",
      "#SigAlert: North &amp; Southbound 133 closed btwn 5 fwy and Irvine Blvd due to truck fire. CHP is detouring traffic.\n",
      "\n",
      "----\n",
      "\n"
     ]
    }
   ],
   "source": [
    "# Visualize random training example\n",
    "import random\n",
    "random_index=random.randint(0,len(train_df)-5)\n",
    "for row in train_df_shuffled[[\"text\",\"target\"]][random_index:random_index+5].itertuples():\n",
    "    _,text,target=row\n",
    "    print(f\"Target:{target}\",\"(real disaster)\" if target>0 else \"(not real disaster)\")\n",
    "    print(f\"Text:\\n{text}\\n\")\n",
    "    print(\"----\\n\")"
   ]
  },
  {
   "cell_type": "markdown",
   "id": "ab33b43f",
   "metadata": {
    "id": "ab33b43f"
   },
   "source": [
    "## Split data into training and validation sets"
   ]
  },
  {
   "cell_type": "code",
   "execution_count": null,
   "id": "69af0ef3",
   "metadata": {
    "id": "69af0ef3"
   },
   "outputs": [],
   "source": [
    "from sklearn.model_selection import train_test_split\n"
   ]
  },
  {
   "cell_type": "code",
   "execution_count": null,
   "id": "86f6457f",
   "metadata": {
    "id": "86f6457f"
   },
   "outputs": [],
   "source": [
    "# Use train_test_ split to split training data into training and validation sets\n",
    "train_sentences,val_sentences,train_labels,val_labels=train_test_split(train_df_shuffled[\"text\"].to_numpy(),\n",
    "                                                                      train_df_shuffled[\"target\"].to_numpy(),\n",
    "                                                                      test_size=0.1,\n",
    "                                                                      random_state=42\n",
    "                                                                      )"
   ]
  },
  {
   "cell_type": "code",
   "execution_count": null,
   "id": "01b7edc6",
   "metadata": {
    "colab": {
     "base_uri": "https://localhost:8080/"
    },
    "id": "01b7edc6",
    "outputId": "f5d5ed2f-84f0-4217-b79d-be3be02c388c"
   },
   "outputs": [
    {
     "data": {
      "text/plain": [
       "(6851, 6851, 762, 762)"
      ]
     },
     "execution_count": 17,
     "metadata": {},
     "output_type": "execute_result"
    }
   ],
   "source": [
    "#Check len\n",
    "len(train_sentences),len(train_labels),len(val_sentences),len(val_labels)"
   ]
  },
  {
   "cell_type": "code",
   "execution_count": null,
   "id": "45d7fb04",
   "metadata": {
    "colab": {
     "base_uri": "https://localhost:8080/"
    },
    "id": "45d7fb04",
    "outputId": "4d170349-4dd2-44d9-e0d0-30ed8fea56d1"
   },
   "outputs": [
    {
     "data": {
      "text/plain": [
       "(array(['@mogacola @zamtriossu i screamed after hitting tweet',\n",
       "        'Imagine getting flattened by Kurt Zouma',\n",
       "        '@Gurmeetramrahim #MSGDoing111WelfareWorks Green S welfare force ke appx 65000 members har time disaster victim ki help ke liye tyar hai....',\n",
       "        \"@shakjn @C7 @Magnums im shaking in fear he's gonna hack the planet\",\n",
       "        'Somehow find you and I collide http://t.co/Ee8RpOahPk',\n",
       "        '@EvaHanderek @MarleyKnysh great times until the bus driver held us hostage in the mall parking lot lmfao',\n",
       "        'destroy the free fandom honestly',\n",
       "        'Weapons stolen from National Guard Armory in New Albany still missing #Gunsense http://t.co/lKNU8902JE',\n",
       "        '@wfaaweather Pete when will the heat wave pass? Is it really going to be mid month? Frisco Boy Scouts have a canoe trip in Okla.',\n",
       "        'Patient-reported outcomes in long-term survivors of metastatic colorectal cancer - British Journal of Surgery http://t.co/5Yl4DC1Tqt'],\n",
       "       dtype=object), array([0, 0, 1, 0, 0, 1, 1, 0, 1, 1]))"
      ]
     },
     "execution_count": 18,
     "metadata": {},
     "output_type": "execute_result"
    }
   ],
   "source": [
    "#Check the samples\n",
    "train_sentences[:10],train_labels[:10]"
   ]
  },
  {
   "cell_type": "markdown",
   "id": "7f11597a",
   "metadata": {
    "id": "7f11597a"
   },
   "source": [
    "# Converting Text into Numbers\n",
    "When dealing with text problem, one of first thing you will gonna do is to convert text to numbers, ways to do these are:\n",
    "* Tokenziation - direct mapping of a token(word or character ) to a number.\n",
    "* Embedding - create a matrix of feature vectors of each token, size can be defined and it can be learned."
   ]
  },
  {
   "cell_type": "code",
   "execution_count": null,
   "id": "809b675e",
   "metadata": {
    "colab": {
     "base_uri": "https://localhost:8080/"
    },
    "id": "809b675e",
    "outputId": "b2bb954e-4a0f-4139-e63e-c8ceada4d04a"
   },
   "outputs": [
    {
     "data": {
      "text/plain": [
       "array(['@mogacola @zamtriossu i screamed after hitting tweet',\n",
       "       'Imagine getting flattened by Kurt Zouma',\n",
       "       '@Gurmeetramrahim #MSGDoing111WelfareWorks Green S welfare force ke appx 65000 members har time disaster victim ki help ke liye tyar hai....',\n",
       "       \"@shakjn @C7 @Magnums im shaking in fear he's gonna hack the planet\",\n",
       "       'Somehow find you and I collide http://t.co/Ee8RpOahPk',\n",
       "       '@EvaHanderek @MarleyKnysh great times until the bus driver held us hostage in the mall parking lot lmfao',\n",
       "       'destroy the free fandom honestly',\n",
       "       'Weapons stolen from National Guard Armory in New Albany still missing #Gunsense http://t.co/lKNU8902JE',\n",
       "       '@wfaaweather Pete when will the heat wave pass? Is it really going to be mid month? Frisco Boy Scouts have a canoe trip in Okla.',\n",
       "       'Patient-reported outcomes in long-term survivors of metastatic colorectal cancer - British Journal of Surgery http://t.co/5Yl4DC1Tqt'],\n",
       "      dtype=object)"
      ]
     },
     "execution_count": 18,
     "metadata": {},
     "output_type": "execute_result"
    }
   ],
   "source": [
    "train_sentences[:10]"
   ]
  },
  {
   "cell_type": "markdown",
   "id": "ca92bcc9",
   "metadata": {
    "id": "ca92bcc9"
   },
   "source": [
    "## Text vectorization (tokenization)"
   ]
  },
  {
   "cell_type": "code",
   "execution_count": null,
   "id": "f555d7d5",
   "metadata": {
    "id": "f555d7d5"
   },
   "outputs": [],
   "source": [
    "import tensorflow as tf\n",
    "from tensorflow.keras.layers.experimental.preprocessing import TextVectorization\n",
    "\n",
    "# Use the defalut TextVectorization parameters\n",
    "text_vectorizer = TextVectorization(max_tokens=None, # how many words in the vocabulary (all of the different words in your text)\n",
    "                                    standardize=\"lower_and_strip_punctuation\", # how to process text\n",
    "                                    split=\"whitespace\", # how to split tokens\n",
    "                                    ngrams=None, # create groups of n-words?\n",
    "                                    output_mode=\"int\", # how to map tokens to numbers\n",
    "                                    output_sequence_length=None) # how long should the output sequence of tokens be?\n",
    "                                    # pad_to_max_tokens=True) # Not valid if using max_tokens=None"
   ]
  },
  {
   "cell_type": "code",
   "execution_count": null,
   "id": "55253c8b",
   "metadata": {
    "colab": {
     "base_uri": "https://localhost:8080/"
    },
    "id": "55253c8b",
    "outputId": "5dd18955-136e-4c5f-8ce7-c15639c05cd1"
   },
   "outputs": [
    {
     "data": {
      "text/plain": [
       "15"
      ]
     },
     "execution_count": 20,
     "metadata": {},
     "output_type": "execute_result"
    }
   ],
   "source": [
    " # Find the average number of tokens (words) in the training tweets\n",
    "round(sum([len(i.split()) for i in train_sentences])/len(train_sentences))  "
   ]
  },
  {
   "cell_type": "code",
   "execution_count": null,
   "id": "465d45ad",
   "metadata": {
    "id": "465d45ad"
   },
   "outputs": [],
   "source": [
    "# Setup text vectorization variables\n",
    "max_vocab_length=10000 # max number of words to have in our vocabulary\n",
    "max_length=15 # max length of our sequences will be ( how many words from a tweet our model sees?)\n",
    "text_vectorizer=TextVectorization(max_tokens=max_vocab_length,\n",
    "                                 output_mode=\"int\",\n",
    "                                 output_sequence_length=max_length, \n",
    "                                 )"
   ]
  },
  {
   "cell_type": "code",
   "execution_count": null,
   "id": "bf0063a3",
   "metadata": {
    "id": "bf0063a3"
   },
   "outputs": [],
   "source": [
    "# Fit the text vectorizer to the training \n",
    "text_vectorizer.adapt(train_sentences)"
   ]
  },
  {
   "cell_type": "code",
   "execution_count": null,
   "id": "472eba8c",
   "metadata": {
    "colab": {
     "base_uri": "https://localhost:8080/"
    },
    "id": "472eba8c",
    "outputId": "6db4e64f-29cd-4f86-dc5b-9f9dcba4f026"
   },
   "outputs": [
    {
     "data": {
      "text/plain": [
       "<tf.Tensor: shape=(1, 15), dtype=int64, numpy=\n",
       "array([[264,   3, 232,   4,  13, 698,   0,   0,   0,   0,   0,   0,   0,\n",
       "          0,   0]])>"
      ]
     },
     "execution_count": 23,
     "metadata": {},
     "output_type": "execute_result"
    }
   ],
   "source": [
    "# Create a sample sentence and tokenize it\n",
    "sample_sentence=\"There's a flood in my street!\"\n",
    "text_vectorizer([sample_sentence])"
   ]
  },
  {
   "cell_type": "code",
   "execution_count": null,
   "id": "4f54d07f",
   "metadata": {
    "colab": {
     "base_uri": "https://localhost:8080/"
    },
    "id": "4f54d07f",
    "outputId": "60e0ee25-e3c0-4b72-be0a-361aa44b9928"
   },
   "outputs": [
    {
     "name": "stdout",
     "output_type": "stream",
     "text": [
      "Original text :\n",
      " A Marshall Plan for the United States by Dambisa Moyo via @ProSyn #oped http://t.co/GnPStnvi5G via @po_st \n",
      " \n",
      " Vectorized version:\n"
     ]
    },
    {
     "data": {
      "text/plain": [
       "<tf.Tensor: shape=(1, 15), dtype=int64, numpy=\n",
       "array([[   3, 5160,  241,   10,    2,  800, 1253,   18, 5867, 5086,   49,\n",
       "        4847, 4992,    1,   49]])>"
      ]
     },
     "execution_count": 24,
     "metadata": {},
     "output_type": "execute_result"
    }
   ],
   "source": [
    "# Choose a random sentences from training dataset and tokenize it\n",
    "random_sentence=random.choice(train_sentences)\n",
    "print(f\"Original text :\\n {random_sentence} \\n \\n Vectorized version:\")\n",
    "text_vectorizer([random_sentence])"
   ]
  },
  {
   "cell_type": "code",
   "execution_count": null,
   "id": "185bc8ca",
   "metadata": {
    "colab": {
     "base_uri": "https://localhost:8080/"
    },
    "id": "185bc8ca",
    "outputId": "e9f76844-d40b-4ea5-966f-4ed32c7c8f93"
   },
   "outputs": [
    {
     "name": "stdout",
     "output_type": "stream",
     "text": [
      "Number of words in vocab:10000\n",
      "\n",
      "5 most comman words:['', '[UNK]', 'the', 'a', 'in']\n",
      "\n",
      "5 least comman words:['pages', 'paeds', 'pads', 'padres', 'paddytomlinson1']\n"
     ]
    }
   ],
   "source": [
    "# Get the unique words in vocabulary\n",
    "words_in_vocab=text_vectorizer.get_vocabulary() # Get all unique words in train data\n",
    "top_5_words=words_in_vocab[:5]# get most comman words\n",
    "bottom_5_words=words_in_vocab[-5:]\n",
    "print(f\"Number of words in vocab:{len(words_in_vocab)}\\n\")\n",
    "print(f\"5 most comman words:{top_5_words}\\n\")\n",
    "print(f\"5 least comman words:{bottom_5_words}\")"
   ]
  },
  {
   "cell_type": "markdown",
   "id": "f50bd770",
   "metadata": {
    "id": "f50bd770"
   },
   "source": [
    "## Creating an Embedding using Embedding layer\n",
    "\n"
   ]
  },
  {
   "cell_type": "code",
   "execution_count": null,
   "id": "ba6665c8",
   "metadata": {
    "colab": {
     "base_uri": "https://localhost:8080/"
    },
    "id": "ba6665c8",
    "outputId": "0486f944-e68c-4c29-e0ac-6e6d8e0d75a5"
   },
   "outputs": [
    {
     "data": {
      "text/plain": [
       "<keras.layers.core.embedding.Embedding at 0x7fc2fc109cd0>"
      ]
     },
     "execution_count": 26,
     "metadata": {},
     "output_type": "execute_result"
    }
   ],
   "source": [
    "from tensorflow.keras import layers\n",
    "\n",
    "embedding=layers.Embedding(input_dim=max_vocab_length, #Input shape\n",
    "                           output_dim=128,\n",
    "                           input_length=max_length # How long is each input\n",
    "                          )\n",
    "embedding"
   ]
  },
  {
   "cell_type": "code",
   "execution_count": null,
   "id": "7a813b37",
   "metadata": {
    "colab": {
     "base_uri": "https://localhost:8080/"
    },
    "id": "7a813b37",
    "outputId": "0c040972-09ef-456e-d886-2da78672635e"
   },
   "outputs": [
    {
     "name": "stdout",
     "output_type": "stream",
     "text": [
      "Original text:\n",
      " Me pulling over and fighting the hoes that called Zayn a terrorist  http://t.co/FY30fV0Qbx \n",
      "\n",
      " Embedded version:\n"
     ]
    },
    {
     "data": {
      "text/plain": [
       "<tf.Tensor: shape=(1, 15, 128), dtype=float32, numpy=\n",
       "array([[[ 0.00237169, -0.00968661,  0.04656602, ..., -0.02186228,\n",
       "          0.01921448, -0.0168672 ],\n",
       "        [ 0.00388069, -0.01575743, -0.00309294, ..., -0.04421526,\n",
       "          0.0384897 , -0.0289856 ],\n",
       "        [-0.0229818 , -0.04251814,  0.00531583, ..., -0.03799275,\n",
       "         -0.0470774 , -0.01001848],\n",
       "        ...,\n",
       "        [-0.03654382, -0.01027132, -0.00522352, ..., -0.02702843,\n",
       "          0.00844718,  0.00455336],\n",
       "        [ 0.02285993, -0.04227626,  0.01199256, ..., -0.02573767,\n",
       "         -0.02052032, -0.00146844],\n",
       "        [ 0.02285993, -0.04227626,  0.01199256, ..., -0.02573767,\n",
       "         -0.02052032, -0.00146844]]], dtype=float32)>"
      ]
     },
     "execution_count": 27,
     "metadata": {},
     "output_type": "execute_result"
    }
   ],
   "source": [
    "# Get a random sentence from the training set\n",
    "random_sentence=random.choice(train_sentences)\n",
    "print(f\"Original text:\\n {random_sentence} \\n\\n Embedded version:\")\n",
    "\n",
    "# Embed the random sentence ( turn it into dense vector of fixed size)\n",
    "sample_embed=embedding(text_vectorizer([random_sentence]))\n",
    "sample_embed"
   ]
  },
  {
   "cell_type": "code",
   "execution_count": null,
   "id": "80a10d0c",
   "metadata": {
    "colab": {
     "base_uri": "https://localhost:8080/"
    },
    "id": "80a10d0c",
    "outputId": "f15fa926-e611-4d68-8984-2159b8d49d8a",
    "scrolled": true
   },
   "outputs": [
    {
     "data": {
      "text/plain": [
       "(<tf.Tensor: shape=(128,), dtype=float32, numpy=\n",
       " array([ 0.00237169, -0.00968661,  0.04656602, -0.03033717,  0.04609189,\n",
       "         0.00140361,  0.00053631, -0.02028385, -0.02288202,  0.0449557 ,\n",
       "         0.03786726,  0.02983857, -0.03273205, -0.00748779, -0.02122357,\n",
       "         0.01774717, -0.02538806,  0.0023067 ,  0.03983083, -0.02907622,\n",
       "         0.04400109, -0.00491367, -0.01552824, -0.00397383,  0.03041948,\n",
       "        -0.0360558 , -0.01758232, -0.03271081,  0.04783318,  0.0358079 ,\n",
       "         0.00991608, -0.03597474, -0.04587463,  0.02496526, -0.03113008,\n",
       "        -0.01664604, -0.03735084,  0.00134755, -0.04555521, -0.00429022,\n",
       "        -0.01518183, -0.03704578, -0.00638056,  0.03983653,  0.0129243 ,\n",
       "         0.03720272,  0.03820636, -0.00435139,  0.00707824,  0.00339569,\n",
       "        -0.03877985, -0.03626981, -0.02505749,  0.02288386,  0.0203483 ,\n",
       "         0.00218504,  0.02440754,  0.04470786, -0.04315951, -0.01123453,\n",
       "         0.04908333,  0.04554249,  0.03079244, -0.03131387, -0.0061833 ,\n",
       "         0.0127887 , -0.02472179,  0.04199482, -0.0259024 ,  0.0375923 ,\n",
       "        -0.04847956, -0.02866875,  0.04029114,  0.03540813, -0.02555393,\n",
       "         0.02050669, -0.01814527,  0.01750234, -0.03954086, -0.02240243,\n",
       "        -0.0114012 , -0.022452  , -0.01483386, -0.0251199 ,  0.03492183,\n",
       "        -0.01837056, -0.04035739, -0.04935198, -0.04712052,  0.00299484,\n",
       "         0.01514963,  0.02973087,  0.01657367,  0.02593846, -0.02975943,\n",
       "        -0.00410863,  0.00051107,  0.02622375,  0.01839704, -0.03622191,\n",
       "         0.01201896,  0.00723007, -0.00130073,  0.00689394, -0.03830604,\n",
       "        -0.01713767, -0.00788289,  0.04293216,  0.02082096,  0.01282148,\n",
       "        -0.02232281, -0.02684112, -0.02968429,  0.00060204,  0.00495734,\n",
       "        -0.02038383, -0.02351363, -0.0119918 ,  0.0280623 , -0.00414159,\n",
       "         0.04245687,  0.00075333,  0.00194703, -0.02045657, -0.0445346 ,\n",
       "        -0.02186228,  0.01921448, -0.0168672 ], dtype=float32)>,\n",
       " TensorShape([128]),\n",
       " 'Me pulling over and fighting the hoes that called Zayn a terrorist  http://t.co/FY30fV0Qbx')"
      ]
     },
     "execution_count": 28,
     "metadata": {},
     "output_type": "execute_result"
    }
   ],
   "source": [
    "# Check out a single token embedding\n",
    "sample_embed[0][0],sample_embed[0][0].shape,random_sentence"
   ]
  },
  {
   "cell_type": "markdown",
   "id": "afbc1944",
   "metadata": {
    "id": "afbc1944"
   },
   "source": [
    "## Model 0 : Base line (Sklearn Multinomial naive bayes)"
   ]
  },
  {
   "cell_type": "code",
   "execution_count": null,
   "id": "8e9931b8",
   "metadata": {
    "colab": {
     "base_uri": "https://localhost:8080/",
     "height": 125
    },
    "id": "8e9931b8",
    "outputId": "e6110bc1-7fd8-42ea-e709-12b3a7323561"
   },
   "outputs": [
    {
     "data": {
      "text/html": [
       "<style>#sk-container-id-1 {color: black;background-color: white;}#sk-container-id-1 pre{padding: 0;}#sk-container-id-1 div.sk-toggleable {background-color: white;}#sk-container-id-1 label.sk-toggleable__label {cursor: pointer;display: block;width: 100%;margin-bottom: 0;padding: 0.3em;box-sizing: border-box;text-align: center;}#sk-container-id-1 label.sk-toggleable__label-arrow:before {content: \"▸\";float: left;margin-right: 0.25em;color: #696969;}#sk-container-id-1 label.sk-toggleable__label-arrow:hover:before {color: black;}#sk-container-id-1 div.sk-estimator:hover label.sk-toggleable__label-arrow:before {color: black;}#sk-container-id-1 div.sk-toggleable__content {max-height: 0;max-width: 0;overflow: hidden;text-align: left;background-color: #f0f8ff;}#sk-container-id-1 div.sk-toggleable__content pre {margin: 0.2em;color: black;border-radius: 0.25em;background-color: #f0f8ff;}#sk-container-id-1 input.sk-toggleable__control:checked~div.sk-toggleable__content {max-height: 200px;max-width: 100%;overflow: auto;}#sk-container-id-1 input.sk-toggleable__control:checked~label.sk-toggleable__label-arrow:before {content: \"▾\";}#sk-container-id-1 div.sk-estimator input.sk-toggleable__control:checked~label.sk-toggleable__label {background-color: #d4ebff;}#sk-container-id-1 div.sk-label input.sk-toggleable__control:checked~label.sk-toggleable__label {background-color: #d4ebff;}#sk-container-id-1 input.sk-hidden--visually {border: 0;clip: rect(1px 1px 1px 1px);clip: rect(1px, 1px, 1px, 1px);height: 1px;margin: -1px;overflow: hidden;padding: 0;position: absolute;width: 1px;}#sk-container-id-1 div.sk-estimator {font-family: monospace;background-color: #f0f8ff;border: 1px dotted black;border-radius: 0.25em;box-sizing: border-box;margin-bottom: 0.5em;}#sk-container-id-1 div.sk-estimator:hover {background-color: #d4ebff;}#sk-container-id-1 div.sk-parallel-item::after {content: \"\";width: 100%;border-bottom: 1px solid gray;flex-grow: 1;}#sk-container-id-1 div.sk-label:hover label.sk-toggleable__label {background-color: #d4ebff;}#sk-container-id-1 div.sk-serial::before {content: \"\";position: absolute;border-left: 1px solid gray;box-sizing: border-box;top: 0;bottom: 0;left: 50%;z-index: 0;}#sk-container-id-1 div.sk-serial {display: flex;flex-direction: column;align-items: center;background-color: white;padding-right: 0.2em;padding-left: 0.2em;position: relative;}#sk-container-id-1 div.sk-item {position: relative;z-index: 1;}#sk-container-id-1 div.sk-parallel {display: flex;align-items: stretch;justify-content: center;background-color: white;position: relative;}#sk-container-id-1 div.sk-item::before, #sk-container-id-1 div.sk-parallel-item::before {content: \"\";position: absolute;border-left: 1px solid gray;box-sizing: border-box;top: 0;bottom: 0;left: 50%;z-index: -1;}#sk-container-id-1 div.sk-parallel-item {display: flex;flex-direction: column;z-index: 1;position: relative;background-color: white;}#sk-container-id-1 div.sk-parallel-item:first-child::after {align-self: flex-end;width: 50%;}#sk-container-id-1 div.sk-parallel-item:last-child::after {align-self: flex-start;width: 50%;}#sk-container-id-1 div.sk-parallel-item:only-child::after {width: 0;}#sk-container-id-1 div.sk-dashed-wrapped {border: 1px dashed gray;margin: 0 0.4em 0.5em 0.4em;box-sizing: border-box;padding-bottom: 0.4em;background-color: white;}#sk-container-id-1 div.sk-label label {font-family: monospace;font-weight: bold;display: inline-block;line-height: 1.2em;}#sk-container-id-1 div.sk-label-container {text-align: center;}#sk-container-id-1 div.sk-container {/* jupyter's `normalize.less` sets `[hidden] { display: none; }` but bootstrap.min.css set `[hidden] { display: none !important; }` so we also need the `!important` here to be able to override the default hidden behavior on the sphinx rendered scikit-learn.org. See: https://github.com/scikit-learn/scikit-learn/issues/21755 */display: inline-block !important;position: relative;}#sk-container-id-1 div.sk-text-repr-fallback {display: none;}</style><div id=\"sk-container-id-1\" class=\"sk-top-container\"><div class=\"sk-text-repr-fallback\"><pre>Pipeline(steps=[(&#x27;tfidf&#x27;, TfidfVectorizer()), (&#x27;clf&#x27;, MultinomialNB())])</pre><b>In a Jupyter environment, please rerun this cell to show the HTML representation or trust the notebook. <br />On GitHub, the HTML representation is unable to render, please try loading this page with nbviewer.org.</b></div><div class=\"sk-container\" hidden><div class=\"sk-item sk-dashed-wrapped\"><div class=\"sk-label-container\"><div class=\"sk-label sk-toggleable\"><input class=\"sk-toggleable__control sk-hidden--visually\" id=\"sk-estimator-id-1\" type=\"checkbox\" ><label for=\"sk-estimator-id-1\" class=\"sk-toggleable__label sk-toggleable__label-arrow\">Pipeline</label><div class=\"sk-toggleable__content\"><pre>Pipeline(steps=[(&#x27;tfidf&#x27;, TfidfVectorizer()), (&#x27;clf&#x27;, MultinomialNB())])</pre></div></div></div><div class=\"sk-serial\"><div class=\"sk-item\"><div class=\"sk-estimator sk-toggleable\"><input class=\"sk-toggleable__control sk-hidden--visually\" id=\"sk-estimator-id-2\" type=\"checkbox\" ><label for=\"sk-estimator-id-2\" class=\"sk-toggleable__label sk-toggleable__label-arrow\">TfidfVectorizer</label><div class=\"sk-toggleable__content\"><pre>TfidfVectorizer()</pre></div></div></div><div class=\"sk-item\"><div class=\"sk-estimator sk-toggleable\"><input class=\"sk-toggleable__control sk-hidden--visually\" id=\"sk-estimator-id-3\" type=\"checkbox\" ><label for=\"sk-estimator-id-3\" class=\"sk-toggleable__label sk-toggleable__label-arrow\">MultinomialNB</label><div class=\"sk-toggleable__content\"><pre>MultinomialNB()</pre></div></div></div></div></div></div></div>"
      ],
      "text/plain": [
       "Pipeline(steps=[('tfidf', TfidfVectorizer()), ('clf', MultinomialNB())])"
      ]
     },
     "execution_count": 29,
     "metadata": {},
     "output_type": "execute_result"
    }
   ],
   "source": [
    "from sklearn.feature_extraction.text import TfidfVectorizer #Convert text into numbers\n",
    "from sklearn.naive_bayes import MultinomialNB\n",
    "from sklearn.pipeline import Pipeline\n",
    "\n",
    "#Create tokenization and modelling pipeline\n",
    "\n",
    "model_0=Pipeline([\n",
    "    (\"tfidf\",TfidfVectorizer()),# Convert words to numbers \n",
    "    (\"clf\",MultinomialNB()) # Model the text\n",
    "])\n",
    "\n",
    "# Fit the pipeline to training data\n",
    "model_0.fit(train_sentences,train_labels)"
   ]
  },
  {
   "cell_type": "markdown",
   "id": "340c399b",
   "metadata": {
    "id": "340c399b"
   },
   "source": [
    "## Evaluate baseline model"
   ]
  },
  {
   "cell_type": "code",
   "execution_count": null,
   "id": "97228375",
   "metadata": {
    "colab": {
     "base_uri": "https://localhost:8080/"
    },
    "id": "97228375",
    "outputId": "caa9113b-a796-4480-a62e-f5f7ffc1aa9f"
   },
   "outputs": [
    {
     "data": {
      "text/plain": [
       "0.7926509186351706"
      ]
     },
     "execution_count": 30,
     "metadata": {},
     "output_type": "execute_result"
    }
   ],
   "source": [
    "baseline_score=model_0.score(val_sentences,val_labels)\n",
    "baseline_score"
   ]
  },
  {
   "cell_type": "code",
   "execution_count": null,
   "id": "e7b93be4",
   "metadata": {
    "colab": {
     "base_uri": "https://localhost:8080/"
    },
    "id": "e7b93be4",
    "outputId": "eca3625d-7c4f-4989-a0f7-c124f93b5dc0"
   },
   "outputs": [
    {
     "data": {
      "text/plain": [
       "0    4342\n",
       "1    3271\n",
       "Name: target, dtype: int64"
      ]
     },
     "execution_count": 31,
     "metadata": {},
     "output_type": "execute_result"
    }
   ],
   "source": [
    "train_df[\"target\"].value_counts()"
   ]
  },
  {
   "cell_type": "code",
   "execution_count": null,
   "id": "76825255",
   "metadata": {
    "colab": {
     "base_uri": "https://localhost:8080/"
    },
    "id": "76825255",
    "outputId": "5e06ebe0-2e3f-4d81-e82c-bbc8b816347e"
   },
   "outputs": [
    {
     "data": {
      "text/plain": [
       "array([1, 1, 1, 0, 0, 1, 1, 1, 1, 0, 0, 1, 0, 0, 0, 0, 0, 0, 0, 1])"
      ]
     },
     "execution_count": 32,
     "metadata": {},
     "output_type": "execute_result"
    }
   ],
   "source": [
    "#Make predictions\n",
    "baseline_preds=model_0.predict(val_sentences)\n",
    "baseline_preds[:20]"
   ]
  },
  {
   "cell_type": "markdown",
   "id": "c85f7ca6",
   "metadata": {
    "id": "c85f7ca6"
   },
   "source": [
    "## Creating Evaluation function for our model experiments"
   ]
  },
  {
   "cell_type": "code",
   "execution_count": null,
   "id": "a36041e7",
   "metadata": {
    "id": "a36041e7"
   },
   "outputs": [],
   "source": [
    "from sklearn.metrics import accuracy_score,precision_recall_fscore_support\n",
    "\n",
    "def calculate_results(y_true,y_pred):\n",
    "    #Calculte model accuracy\n",
    "    model_accuracy=accuracy_score(y_true,y_pred)*100\n",
    "    #Calculate model pression,recall and f1-score using \"weighted\" average\n",
    "    model_precision,model_recall,model_f1,_=precision_recall_fscore_support(y_true,y_pred,average=\"weighted\")\n",
    "    model_results={\"accuracy\":model_accuracy,\n",
    "                   \"precision\":model_precision,\n",
    "                   \"recall\":model_recall,\n",
    "                   \"f1\":model_f1\n",
    "                  }\n",
    "    return model_results"
   ]
  },
  {
   "cell_type": "code",
   "execution_count": null,
   "id": "01fd8e1a",
   "metadata": {
    "id": "01fd8e1a"
   },
   "outputs": [],
   "source": [
    "# Get baseleine results\n",
    "baseline_results=calculate_results(y_true=val_labels,y_pred=baseline_preds)"
   ]
  },
  {
   "cell_type": "code",
   "execution_count": null,
   "id": "92e3f7c9",
   "metadata": {
    "colab": {
     "base_uri": "https://localhost:8080/"
    },
    "id": "92e3f7c9",
    "outputId": "f19fb832-7b35-4cbc-dfa5-4bda2275c930"
   },
   "outputs": [
    {
     "data": {
      "text/plain": [
       "{'accuracy': 79.26509186351706,\n",
       " 'precision': 0.8111390004213173,\n",
       " 'recall': 0.7926509186351706,\n",
       " 'f1': 0.7862189758049549}"
      ]
     },
     "execution_count": 35,
     "metadata": {},
     "output_type": "execute_result"
    }
   ],
   "source": [
    "baseline_results"
   ]
  },
  {
   "cell_type": "markdown",
   "id": "18afd0b3",
   "metadata": {
    "id": "18afd0b3"
   },
   "source": [
    "### Model 1 : Simple dense model"
   ]
  },
  {
   "cell_type": "code",
   "execution_count": null,
   "id": "40cb6c60",
   "metadata": {
    "id": "40cb6c60"
   },
   "outputs": [],
   "source": [
    "# Create tensorboard callback\n",
    "from helper_functions import create_tensorboard_callback\n",
    "\n",
    "# Create a directoy to  save tensor logs\n",
    "save_dir=\"model_logs\""
   ]
  },
  {
   "cell_type": "code",
   "execution_count": null,
   "id": "3ceae1e0",
   "metadata": {
    "id": "3ceae1e0"
   },
   "outputs": [],
   "source": [
    "#  Build model with functional api\n",
    "from tensorflow.keras import layers\n",
    "inputs=layers.Input(shape=(1,),dtype=tf.string) #inputs are 1-dim strings\n",
    "x=text_vectorizer(inputs) #turn input text into numbers\n",
    "x=embedding(x)\n",
    "x = layers.GlobalAveragePooling1D()(x)\n",
    "outputs=layers.Dense(1,activation=\"sigmoid\")(x) #want binary output so sigmoid\n",
    "model_1=tf.keras.Model(inputs,outputs,name=\"model_1_dense\")"
   ]
  },
  {
   "cell_type": "code",
   "execution_count": null,
   "id": "46658b53",
   "metadata": {
    "colab": {
     "base_uri": "https://localhost:8080/"
    },
    "id": "46658b53",
    "outputId": "b79c7980-f0fc-4fe3-932e-3a244dc12649"
   },
   "outputs": [
    {
     "name": "stdout",
     "output_type": "stream",
     "text": [
      "Model: \"model_1_dense\"\n",
      "_________________________________________________________________\n",
      " Layer (type)                Output Shape              Param #   \n",
      "=================================================================\n",
      " input_1 (InputLayer)        [(None, 1)]               0         \n",
      "                                                                 \n",
      " text_vectorization_1 (TextV  (None, 15)               0         \n",
      " ectorization)                                                   \n",
      "                                                                 \n",
      " embedding (Embedding)       (None, 15, 128)           1280000   \n",
      "                                                                 \n",
      " global_average_pooling1d (G  (None, 128)              0         \n",
      " lobalAveragePooling1D)                                          \n",
      "                                                                 \n",
      " dense (Dense)               (None, 1)                 129       \n",
      "                                                                 \n",
      "=================================================================\n",
      "Total params: 1,280,129\n",
      "Trainable params: 1,280,129\n",
      "Non-trainable params: 0\n",
      "_________________________________________________________________\n"
     ]
    }
   ],
   "source": [
    "model_1.summary()"
   ]
  },
  {
   "cell_type": "code",
   "execution_count": null,
   "id": "df4a3a06",
   "metadata": {
    "id": "df4a3a06"
   },
   "outputs": [],
   "source": [
    "# Compile the model\n",
    "model_1.compile(\n",
    "   loss=tf.keras.losses.BinaryCrossentropy(),\n",
    "   optimizer=tf.keras.optimizers.Adam(),\n",
    "   metrics=[\"accuracy\"] \n",
    ")"
   ]
  },
  {
   "cell_type": "code",
   "execution_count": null,
   "id": "c86f09ff",
   "metadata": {
    "colab": {
     "base_uri": "https://localhost:8080/"
    },
    "id": "c86f09ff",
    "outputId": "976b2faa-13e9-4661-984c-7017ef3ff341"
   },
   "outputs": [
    {
     "name": "stdout",
     "output_type": "stream",
     "text": [
      "Saving TensorBoard log files to: model_logs/model_1_dense/20230309-151723\n",
      "Epoch 1/5\n",
      "215/215 [==============================] - 24s 78ms/step - loss: 0.6130 - accuracy: 0.6906 - val_loss: 0.5394 - val_accuracy: 0.7520\n",
      "Epoch 2/5\n",
      "215/215 [==============================] - 3s 14ms/step - loss: 0.4436 - accuracy: 0.8175 - val_loss: 0.4688 - val_accuracy: 0.7861\n",
      "Epoch 3/5\n",
      "215/215 [==============================] - 2s 8ms/step - loss: 0.3481 - accuracy: 0.8586 - val_loss: 0.4606 - val_accuracy: 0.7966\n",
      "Epoch 4/5\n",
      "215/215 [==============================] - 1s 7ms/step - loss: 0.2844 - accuracy: 0.8920 - val_loss: 0.4625 - val_accuracy: 0.7874\n",
      "Epoch 5/5\n",
      "215/215 [==============================] - 1s 6ms/step - loss: 0.2385 - accuracy: 0.9121 - val_loss: 0.4857 - val_accuracy: 0.7927\n"
     ]
    }
   ],
   "source": [
    "# Fit the model\n",
    "model_1_history=model_1.fit(x=train_sentences,\n",
    "                            y=train_labels,\n",
    "                            epochs=5,\n",
    "                            validation_data=(val_sentences,val_labels),\n",
    "                            callbacks=[create_tensorboard_callback(dir_name=save_dir,\n",
    "                                                                   experiment_name=\"model_1_dense\"\n",
    "                                                                  )]\n",
    "                           )"
   ]
  },
  {
   "cell_type": "code",
   "execution_count": null,
   "id": "4698d46b",
   "metadata": {
    "colab": {
     "base_uri": "https://localhost:8080/"
    },
    "id": "4698d46b",
    "outputId": "32da4206-6487-4684-a507-44fd8ec03219"
   },
   "outputs": [
    {
     "name": "stdout",
     "output_type": "stream",
     "text": [
      "24/24 [==============================] - 0s 3ms/step - loss: 0.4857 - accuracy: 0.7927\n"
     ]
    },
    {
     "data": {
      "text/plain": [
       "[0.4856875240802765, 0.7926509380340576]"
      ]
     },
     "execution_count": 41,
     "metadata": {},
     "output_type": "execute_result"
    }
   ],
   "source": [
    "#Check the results\n",
    "model_1.evaluate(val_sentences,val_labels)"
   ]
  },
  {
   "cell_type": "code",
   "execution_count": null,
   "id": "1c5ed0d2",
   "metadata": {
    "colab": {
     "base_uri": "https://localhost:8080/"
    },
    "id": "1c5ed0d2",
    "outputId": "87813add-026a-4be4-a874-221d5e7b6ae7"
   },
   "outputs": [
    {
     "name": "stdout",
     "output_type": "stream",
     "text": [
      "24/24 [==============================] - 0s 2ms/step\n"
     ]
    },
    {
     "data": {
      "text/plain": [
       "(762, 1)"
      ]
     },
     "execution_count": 42,
     "metadata": {},
     "output_type": "execute_result"
    }
   ],
   "source": [
    "#Make some predictions and evaluate those\n",
    "model_1_pred_probs=model_1.predict(val_sentences)\n",
    "model_1_pred_probs.shape"
   ]
  },
  {
   "cell_type": "code",
   "execution_count": null,
   "id": "3b3bea8e",
   "metadata": {
    "id": "3b3bea8e"
   },
   "outputs": [],
   "source": [
    "model_1_preds=tf.squeeze(tf.round(model_1_pred_probs))"
   ]
  },
  {
   "cell_type": "code",
   "execution_count": null,
   "id": "c1afdc19",
   "metadata": {
    "id": "c1afdc19"
   },
   "outputs": [],
   "source": [
    "#Calculate results\n",
    "model_1_results=calculate_results(y_true=val_labels,y_pred=model_1_preds)"
   ]
  },
  {
   "cell_type": "code",
   "execution_count": null,
   "id": "a107bef3",
   "metadata": {
    "colab": {
     "base_uri": "https://localhost:8080/"
    },
    "id": "a107bef3",
    "outputId": "9f3d1da9-f845-492b-dfa0-43fe5094d0b9"
   },
   "outputs": [
    {
     "data": {
      "text/plain": [
       "{'accuracy': 79.26509186351706,\n",
       " 'precision': 0.8008492102900203,\n",
       " 'recall': 0.7926509186351706,\n",
       " 'f1': 0.7888220986443327}"
      ]
     },
     "execution_count": 45,
     "metadata": {},
     "output_type": "execute_result"
    }
   ],
   "source": [
    "model_1_results"
   ]
  },
  {
   "cell_type": "code",
   "execution_count": null,
   "id": "7b30bafb",
   "metadata": {
    "colab": {
     "base_uri": "https://localhost:8080/"
    },
    "id": "7b30bafb",
    "outputId": "b98957de-feae-404b-a299-d4831ecdeb52"
   },
   "outputs": [
    {
     "data": {
      "text/plain": [
       "array([False, False, False,  True])"
      ]
     },
     "execution_count": 46,
     "metadata": {},
     "output_type": "execute_result"
    }
   ],
   "source": [
    "#Baseline outperforming Neural network\n",
    "import numpy as np\n",
    "np.array(list(model_1_results.values())) > np.array(list(baseline_results.values()))"
   ]
  },
  {
   "cell_type": "markdown",
   "id": "401689b5",
   "metadata": {
    "id": "401689b5"
   },
   "source": [
    "## Visualizing learned embeddings"
   ]
  },
  {
   "cell_type": "code",
   "execution_count": null,
   "id": "0f1c61d2",
   "metadata": {
    "colab": {
     "base_uri": "https://localhost:8080/"
    },
    "id": "0f1c61d2",
    "outputId": "be987277-05a1-4fd4-f9db-a740949e1edb"
   },
   "outputs": [
    {
     "data": {
      "text/plain": [
       "10000"
      ]
     },
     "execution_count": 47,
     "metadata": {},
     "output_type": "execute_result"
    }
   ],
   "source": [
    "# Get the vocabulary from the text vectorization layer\n",
    "words_in_vocab=text_vectorizer.get_vocabulary()\n",
    "len(words_in_vocab)"
   ]
  },
  {
   "cell_type": "code",
   "execution_count": null,
   "id": "8338f8df",
   "metadata": {
    "colab": {
     "base_uri": "https://localhost:8080/"
    },
    "id": "8338f8df",
    "outputId": "95d8d229-8010-44bc-b5a2-46974328e8fd"
   },
   "outputs": [
    {
     "name": "stdout",
     "output_type": "stream",
     "text": [
      "Model: \"model_1_dense\"\n",
      "_________________________________________________________________\n",
      " Layer (type)                Output Shape              Param #   \n",
      "=================================================================\n",
      " input_1 (InputLayer)        [(None, 1)]               0         \n",
      "                                                                 \n",
      " text_vectorization_1 (TextV  (None, 15)               0         \n",
      " ectorization)                                                   \n",
      "                                                                 \n",
      " embedding (Embedding)       (None, 15, 128)           1280000   \n",
      "                                                                 \n",
      " global_average_pooling1d (G  (None, 128)              0         \n",
      " lobalAveragePooling1D)                                          \n",
      "                                                                 \n",
      " dense (Dense)               (None, 1)                 129       \n",
      "                                                                 \n",
      "=================================================================\n",
      "Total params: 1,280,129\n",
      "Trainable params: 1,280,129\n",
      "Non-trainable params: 0\n",
      "_________________________________________________________________\n"
     ]
    }
   ],
   "source": [
    "# Model 1 summary\n",
    "model_1.summary()"
   ]
  },
  {
   "cell_type": "code",
   "execution_count": null,
   "id": "5ae0ec03",
   "metadata": {
    "id": "5ae0ec03"
   },
   "outputs": [],
   "source": [
    "# Get the weight matrix pf embedding layer\n",
    "embed_weights=model_1.get_layer(\"embedding\").get_weights()[0]"
   ]
  },
  {
   "cell_type": "code",
   "execution_count": null,
   "id": "53af5c3b",
   "metadata": {
    "colab": {
     "base_uri": "https://localhost:8080/"
    },
    "id": "53af5c3b",
    "outputId": "2f3074b4-f3ca-4201-fad7-ed8b3ab26d65"
   },
   "outputs": [
    {
     "data": {
      "text/plain": [
       "(10000, 128)"
      ]
     },
     "execution_count": 50,
     "metadata": {},
     "output_type": "execute_result"
    }
   ],
   "source": [
    "embed_weights.shape #same size as vocab size and embedding dim"
   ]
  },
  {
   "cell_type": "code",
   "execution_count": null,
   "id": "5f395b71",
   "metadata": {
    "id": "5f395b71"
   },
   "outputs": [],
   "source": [
    "vocab=words_in_vocab\n",
    "weights=embed_weights"
   ]
  },
  {
   "cell_type": "code",
   "execution_count": null,
   "id": "8bc7ef54",
   "metadata": {
    "id": "8bc7ef54"
   },
   "outputs": [],
   "source": [
    "#Create embedding files\n",
    "import io\n",
    "out_v = io.open('vectors.tsv', 'w', encoding='utf-8')\n",
    "out_m = io.open('metadata.tsv', 'w', encoding='utf-8')\n",
    "\n",
    "for index, word in enumerate(vocab):\n",
    "  if index == 0:\n",
    "    continue  # skip 0, it's padding.\n",
    "  vec = weights[index]\n",
    "  out_v.write('\\t'.join([str(x) for x in vec]) + \"\\n\")\n",
    "  out_m.write(word + \"\\n\")\n",
    "out_v.close()\n",
    "out_m.close()"
   ]
  },
  {
   "cell_type": "markdown",
   "id": "77f29256",
   "metadata": {
    "id": "77f29256"
   },
   "source": [
    " ## Recurrent Neural Network (RNN)\n",
    "RNN's are useful for sequence data.\n",
    "The premise of a RNN is to use the representation of previous input to aid the representation of a later input"
   ]
  },
  {
   "cell_type": "markdown",
   "id": "b1eadd07",
   "metadata": {
    "id": "b1eadd07"
   },
   "source": [
    "## Model 2: LSTM\n",
    "LSTM =Long sort term memory (one of most popular LSTM cells)"
   ]
  },
  {
   "cell_type": "code",
   "execution_count": null,
   "id": "dea8818c",
   "metadata": {
    "id": "dea8818c"
   },
   "outputs": [],
   "source": [
    "# Create LSTM model\n",
    "from tensorflow.keras import layers\n",
    "inputs=layers.Input(shape=(1,),dtype=tf.string)\n",
    "x=text_vectorizer(inputs)\n",
    "x=embedding(x)\n",
    "# print(x.shape)\n",
    "# x=layers.LSTM(units=64,return_sequences=True) (x)#64 hidden units\n",
    "# print(x.shape)\n",
    "x=layers.LSTM(64)(x)\n",
    "# print(x.shape)\n",
    "# x=layers.Dense(64,activation=\"relu\")(x)\n",
    "outputs=layers.Dense(1,activation=\"sigmoid\")(x)\n",
    "model_2=tf.keras.Model(inputs,outputs,name=\"model_2_LSTM\")"
   ]
  },
  {
   "cell_type": "code",
   "execution_count": null,
   "id": "2b4807b3",
   "metadata": {
    "colab": {
     "base_uri": "https://localhost:8080/"
    },
    "id": "2b4807b3",
    "outputId": "5f686837-71f5-4421-be2e-a4ce77e2079f"
   },
   "outputs": [
    {
     "name": "stdout",
     "output_type": "stream",
     "text": [
      "Model: \"model_2_LSTM\"\n",
      "_________________________________________________________________\n",
      " Layer (type)                Output Shape              Param #   \n",
      "=================================================================\n",
      " input_2 (InputLayer)        [(None, 1)]               0         \n",
      "                                                                 \n",
      " text_vectorization_1 (TextV  (None, 15)               0         \n",
      " ectorization)                                                   \n",
      "                                                                 \n",
      " embedding (Embedding)       (None, 15, 128)           1280000   \n",
      "                                                                 \n",
      " lstm (LSTM)                 (None, 64)                49408     \n",
      "                                                                 \n",
      " dense_1 (Dense)             (None, 1)                 65        \n",
      "                                                                 \n",
      "=================================================================\n",
      "Total params: 1,329,473\n",
      "Trainable params: 1,329,473\n",
      "Non-trainable params: 0\n",
      "_________________________________________________________________\n"
     ]
    }
   ],
   "source": [
    "model_2.summary()"
   ]
  },
  {
   "cell_type": "code",
   "execution_count": null,
   "id": "e9666c7a",
   "metadata": {
    "id": "e9666c7a"
   },
   "outputs": [],
   "source": [
    "#Compile the model\n",
    "model_2.compile( loss=\"binary_crossentropy\",\n",
    "                optimizer=tf.keras.optimizers.Adam(),\n",
    "                metrics=[\"accuracy\"]\n",
    "               )"
   ]
  },
  {
   "cell_type": "code",
   "execution_count": null,
   "id": "813dae1b",
   "metadata": {
    "colab": {
     "base_uri": "https://localhost:8080/"
    },
    "id": "813dae1b",
    "outputId": "e09d61d9-c78d-41b1-ec05-9ab1093953de"
   },
   "outputs": [
    {
     "name": "stdout",
     "output_type": "stream",
     "text": [
      "Saving TensorBoard log files to: model_logs/model_2_LSTM/20230309-151756\n",
      "Epoch 1/5\n",
      "215/215 [==============================] - 13s 38ms/step - loss: 0.2268 - accuracy: 0.9232 - val_loss: 0.5503 - val_accuracy: 0.7822\n",
      "Epoch 2/5\n",
      "215/215 [==============================] - 3s 14ms/step - loss: 0.1583 - accuracy: 0.9426 - val_loss: 0.6250 - val_accuracy: 0.7835\n",
      "Epoch 3/5\n",
      "215/215 [==============================] - 2s 9ms/step - loss: 0.1307 - accuracy: 0.9520 - val_loss: 0.6760 - val_accuracy: 0.7900\n",
      "Epoch 4/5\n",
      "215/215 [==============================] - 2s 10ms/step - loss: 0.1033 - accuracy: 0.9616 - val_loss: 0.7879 - val_accuracy: 0.7822\n",
      "Epoch 5/5\n",
      "215/215 [==============================] - 2s 8ms/step - loss: 0.0807 - accuracy: 0.9676 - val_loss: 0.8897 - val_accuracy: 0.7795\n"
     ]
    }
   ],
   "source": [
    "#Fit the model \n",
    "model_2_history=model_2.fit(train_sentences,\n",
    "                            train_labels,\n",
    "                            epochs=5,\n",
    "                            validation_data=(val_sentences,val_labels),\n",
    "                            callbacks=[create_tensorboard_callback(save_dir,\n",
    "                                                                   \"model_2_LSTM\"\n",
    "                                                                  )]\n",
    "                           )"
   ]
  },
  {
   "cell_type": "code",
   "execution_count": null,
   "id": "2331bd1e",
   "metadata": {
    "colab": {
     "base_uri": "https://localhost:8080/"
    },
    "id": "2331bd1e",
    "outputId": "4b07c709-993f-4dc5-f486-bb77450f97c3"
   },
   "outputs": [
    {
     "name": "stdout",
     "output_type": "stream",
     "text": [
      "24/24 [==============================] - 0s 3ms/step\n"
     ]
    },
    {
     "data": {
      "text/plain": [
       "array([[1.09129295e-01],\n",
       "       [9.05074418e-01],\n",
       "       [9.99507904e-01],\n",
       "       [7.61133060e-02],\n",
       "       [4.25049657e-04],\n",
       "       [9.96040463e-01],\n",
       "       [7.26443410e-01],\n",
       "       [9.99608576e-01],\n",
       "       [9.99240518e-01],\n",
       "       [5.31031787e-01]], dtype=float32)"
      ]
     },
     "execution_count": 57,
     "metadata": {},
     "output_type": "execute_result"
    }
   ],
   "source": [
    "# Make prediction with LSTM model\n",
    "model_2_pred_probs=model_2.predict(val_sentences)\n",
    "model_2_pred_probs[:10]"
   ]
  },
  {
   "cell_type": "code",
   "execution_count": null,
   "id": "b3fb4f80",
   "metadata": {
    "id": "b3fb4f80"
   },
   "outputs": [],
   "source": [
    "# Convert model2 pred probs to labels\n",
    "model_2_preds=tf.squeeze(tf.round(model_2_pred_probs))"
   ]
  },
  {
   "cell_type": "code",
   "execution_count": null,
   "id": "20e7e811",
   "metadata": {
    "id": "20e7e811"
   },
   "outputs": [],
   "source": [
    "#Calculate model 2 results\n",
    "model_2_results=calculate_results(y_true=val_labels,y_pred=model_2_preds)"
   ]
  },
  {
   "cell_type": "code",
   "execution_count": null,
   "id": "a7ae95f0",
   "metadata": {
    "colab": {
     "base_uri": "https://localhost:8080/"
    },
    "id": "a7ae95f0",
    "outputId": "2579dc10-366f-4415-ca72-284a5d84d7b6"
   },
   "outputs": [
    {
     "data": {
      "text/plain": [
       "{'accuracy': 77.95275590551181,\n",
       " 'precision': 0.7799065773530309,\n",
       " 'recall': 0.7795275590551181,\n",
       " 'f1': 0.7783167829714759}"
      ]
     },
     "execution_count": 60,
     "metadata": {},
     "output_type": "execute_result"
    }
   ],
   "source": [
    "model_2_results"
   ]
  },
  {
   "cell_type": "code",
   "execution_count": null,
   "id": "77ca708e",
   "metadata": {
    "colab": {
     "base_uri": "https://localhost:8080/"
    },
    "id": "77ca708e",
    "outputId": "8f90ed3e-5aa5-4442-90f6-0509f4892574"
   },
   "outputs": [
    {
     "data": {
      "text/plain": [
       "{'accuracy': 79.26509186351706,\n",
       " 'precision': 0.8111390004213173,\n",
       " 'recall': 0.7926509186351706,\n",
       " 'f1': 0.7862189758049549}"
      ]
     },
     "execution_count": 61,
     "metadata": {},
     "output_type": "execute_result"
    }
   ],
   "source": [
    "baseline_results"
   ]
  },
  {
   "cell_type": "markdown",
   "id": "6f497e71",
   "metadata": {
    "id": "6f497e71"
   },
   "source": [
    "## Model 3 :GRU\n",
    "GRU states for gated recurrent unit.\n",
    "GRU cell has similar feature to an LSTM but has less parameters"
   ]
  },
  {
   "cell_type": "code",
   "execution_count": null,
   "id": "e6393a95",
   "metadata": {
    "id": "e6393a95"
   },
   "outputs": [],
   "source": [
    "# Set random seed and create embedding layer (new embedding layer for each model)\n",
    "tf.random.set_seed(42)\n",
    "from tensorflow.keras import layers\n",
    "model_3_embedding = layers.Embedding(input_dim=max_vocab_length,\n",
    "                                     output_dim=128,\n",
    "                                     embeddings_initializer=\"uniform\",\n",
    "                                     input_length=max_length,\n",
    "                                     name=\"embedding_3\")\n",
    "\n",
    "# Build an RNN using the GRU cell\n",
    "inputs = layers.Input(shape=(1,), dtype=\"string\")\n",
    "x = text_vectorizer(inputs)\n",
    "x = model_3_embedding(x)\n",
    "# x = layers.GRU(64, return_sequences=True) # stacking recurrent cells requires return_sequences=True\n",
    "x = layers.GRU(64)(x) \n",
    "# x = layers.Dense(64, activation=\"relu\")(x) # optional dense layer after GRU cell\n",
    "outputs = layers.Dense(1, activation=\"sigmoid\")(x)\n",
    "model_3 = tf.keras.Model(inputs, outputs, name=\"model_3_GRU\")"
   ]
  },
  {
   "cell_type": "code",
   "execution_count": null,
   "id": "6f7abd8b",
   "metadata": {
    "colab": {
     "base_uri": "https://localhost:8080/"
    },
    "id": "6f7abd8b",
    "outputId": "d39cf79c-c4c9-496a-ab36-0bdd24771d4a"
   },
   "outputs": [
    {
     "name": "stdout",
     "output_type": "stream",
     "text": [
      "Model: \"model_3_GRU\"\n",
      "_________________________________________________________________\n",
      " Layer (type)                Output Shape              Param #   \n",
      "=================================================================\n",
      " input_3 (InputLayer)        [(None, 1)]               0         \n",
      "                                                                 \n",
      " text_vectorization_1 (TextV  (None, 15)               0         \n",
      " ectorization)                                                   \n",
      "                                                                 \n",
      " embedding_3 (Embedding)     (None, 15, 128)           1280000   \n",
      "                                                                 \n",
      " gru (GRU)                   (None, 64)                37248     \n",
      "                                                                 \n",
      " dense_2 (Dense)             (None, 1)                 65        \n",
      "                                                                 \n",
      "=================================================================\n",
      "Total params: 1,317,313\n",
      "Trainable params: 1,317,313\n",
      "Non-trainable params: 0\n",
      "_________________________________________________________________\n"
     ]
    }
   ],
   "source": [
    "model_3.summary()"
   ]
  },
  {
   "cell_type": "code",
   "execution_count": null,
   "id": "10f8efa8",
   "metadata": {
    "id": "10f8efa8"
   },
   "outputs": [],
   "source": [
    "# Compile GRU model\n",
    "model_3.compile(loss=\"binary_crossentropy\",\n",
    "                optimizer=tf.keras.optimizers.Adam(),\n",
    "                metrics=[\"accuracy\"])"
   ]
  },
  {
   "cell_type": "code",
   "execution_count": null,
   "id": "0d1a85e5",
   "metadata": {
    "colab": {
     "base_uri": "https://localhost:8080/"
    },
    "id": "0d1a85e5",
    "outputId": "82eae2fc-9164-49b4-e66c-7f4ab6eb802c"
   },
   "outputs": [
    {
     "name": "stdout",
     "output_type": "stream",
     "text": [
      "Saving TensorBoard log files to: model_logs/GRU/20230309-151821\n",
      "Epoch 1/5\n",
      "215/215 [==============================] - 11s 36ms/step - loss: 0.5229 - accuracy: 0.7335 - val_loss: 0.4545 - val_accuracy: 0.7743\n",
      "Epoch 2/5\n",
      "215/215 [==============================] - 2s 11ms/step - loss: 0.3178 - accuracy: 0.8708 - val_loss: 0.4947 - val_accuracy: 0.7848\n",
      "Epoch 3/5\n",
      "215/215 [==============================] - 3s 16ms/step - loss: 0.2183 - accuracy: 0.9184 - val_loss: 0.5660 - val_accuracy: 0.7677\n",
      "Epoch 4/5\n",
      "215/215 [==============================] - 3s 14ms/step - loss: 0.1577 - accuracy: 0.9447 - val_loss: 0.6150 - val_accuracy: 0.7822\n",
      "Epoch 5/5\n",
      "215/215 [==============================] - 2s 9ms/step - loss: 0.1204 - accuracy: 0.9581 - val_loss: 0.6013 - val_accuracy: 0.7769\n"
     ]
    }
   ],
   "source": [
    "# Fit model\n",
    "model_3_history = model_3.fit(train_sentences,\n",
    "                              train_labels,\n",
    "                              epochs=5,\n",
    "                              validation_data=(val_sentences, val_labels),\n",
    "                              callbacks=[create_tensorboard_callback(save_dir ,\"GRU\")])"
   ]
  },
  {
   "cell_type": "code",
   "execution_count": null,
   "id": "494b096e",
   "metadata": {
    "colab": {
     "base_uri": "https://localhost:8080/"
    },
    "id": "494b096e",
    "outputId": "e01850f8-a969-46c9-d30e-51fac06eaef8"
   },
   "outputs": [
    {
     "name": "stdout",
     "output_type": "stream",
     "text": [
      "24/24 [==============================] - 0s 3ms/step\n"
     ]
    },
    {
     "data": {
      "text/plain": [
       "((762, 1), array([[0.40286952],\n",
       "        [0.88402605],\n",
       "        [0.9970101 ],\n",
       "        [0.14055683],\n",
       "        [0.01461776],\n",
       "        [0.9876079 ],\n",
       "        [0.6913437 ],\n",
       "        [0.99666303],\n",
       "        [0.996621  ],\n",
       "        [0.52531064]], dtype=float32))"
      ]
     },
     "execution_count": 66,
     "metadata": {},
     "output_type": "execute_result"
    }
   ],
   "source": [
    "# Make predictions on the validation data\n",
    "model_3_pred_probs = model_3.predict(val_sentences)\n",
    "model_3_pred_probs.shape, model_3_pred_probs[:10]"
   ]
  },
  {
   "cell_type": "code",
   "execution_count": null,
   "id": "8a3dfc83",
   "metadata": {
    "colab": {
     "base_uri": "https://localhost:8080/"
    },
    "id": "8a3dfc83",
    "outputId": "91780ebe-6d61-4a48-94e2-7a030d73a64d"
   },
   "outputs": [
    {
     "data": {
      "text/plain": [
       "<tf.Tensor: shape=(10,), dtype=float32, numpy=array([0., 1., 1., 0., 0., 1., 1., 1., 1., 1.], dtype=float32)>"
      ]
     },
     "execution_count": 67,
     "metadata": {},
     "output_type": "execute_result"
    }
   ],
   "source": [
    "# Convert prediction probabilities to prediction classes\n",
    "model_3_preds = tf.squeeze(tf.round(model_3_pred_probs))\n",
    "model_3_preds[:10]"
   ]
  },
  {
   "cell_type": "code",
   "execution_count": null,
   "id": "dabf6900",
   "metadata": {
    "colab": {
     "base_uri": "https://localhost:8080/"
    },
    "id": "dabf6900",
    "outputId": "ff76c40c-89d0-4df5-faef-8f9ca78b7985"
   },
   "outputs": [
    {
     "data": {
      "text/plain": [
       "{'accuracy': 77.69028871391076,\n",
       " 'precision': 0.7767817074616054,\n",
       " 'recall': 0.7769028871391076,\n",
       " 'f1': 0.7760612229809302}"
      ]
     },
     "execution_count": 68,
     "metadata": {},
     "output_type": "execute_result"
    }
   ],
   "source": [
    "# Calcuate model_3 results\n",
    "model_3_results = calculate_results(y_true=val_labels, \n",
    "                                    y_pred=model_3_preds)\n",
    "model_3_results"
   ]
  },
  {
   "cell_type": "markdown",
   "id": "517d7dba",
   "metadata": {
    "id": "517d7dba"
   },
   "source": [
    "## Model 4: Bidirectional RNN\n",
    " "
   ]
  },
  {
   "cell_type": "code",
   "execution_count": null,
   "id": "14902efd",
   "metadata": {
    "id": "14902efd"
   },
   "outputs": [],
   "source": [
    "from tensorflow.keras import layers\n",
    "inputs=layers.Input(shape=(1,),dtype=tf.string)\n",
    "x=text_vectorizer(inputs)\n",
    "x=embedding(x)\n",
    "# x=layers.Bidirectional(layers.LSTM(64,return_sequences=True))(x)\n",
    "x=layers.Bidirectional(layers.LSTM(64))(x)\n",
    "outputs=layers.Dense(1,activation=\"sigmoid\")(x)\n",
    "model_4=tf.keras.Model(inputs,outputs,name=\"model_4_bidirectional\")"
   ]
  },
  {
   "cell_type": "code",
   "execution_count": null,
   "id": "185d2850",
   "metadata": {
    "colab": {
     "base_uri": "https://localhost:8080/"
    },
    "id": "185d2850",
    "outputId": "0318702d-3bcd-4971-b800-3c4be6578f1a"
   },
   "outputs": [
    {
     "name": "stdout",
     "output_type": "stream",
     "text": [
      "Model: \"model_4_bidirectional\"\n",
      "_________________________________________________________________\n",
      " Layer (type)                Output Shape              Param #   \n",
      "=================================================================\n",
      " input_4 (InputLayer)        [(None, 1)]               0         \n",
      "                                                                 \n",
      " text_vectorization_1 (TextV  (None, 15)               0         \n",
      " ectorization)                                                   \n",
      "                                                                 \n",
      " embedding (Embedding)       (None, 15, 128)           1280000   \n",
      "                                                                 \n",
      " bidirectional (Bidirectiona  (None, 128)              98816     \n",
      " l)                                                              \n",
      "                                                                 \n",
      " dense_3 (Dense)             (None, 1)                 129       \n",
      "                                                                 \n",
      "=================================================================\n",
      "Total params: 1,378,945\n",
      "Trainable params: 1,378,945\n",
      "Non-trainable params: 0\n",
      "_________________________________________________________________\n"
     ]
    }
   ],
   "source": [
    "model_4.summary()"
   ]
  },
  {
   "cell_type": "code",
   "execution_count": null,
   "id": "9f5c5cac",
   "metadata": {
    "id": "9f5c5cac"
   },
   "outputs": [],
   "source": [
    "#Compile model\n",
    "model_4.compile(loss=\"binary_crossentropy\",\n",
    "                optimizer=tf.keras.optimizers.Adam(),\n",
    "                metrics=[\"accuracy\"]\n",
    "               )"
   ]
  },
  {
   "cell_type": "code",
   "execution_count": null,
   "id": "f65f39b2",
   "metadata": {
    "colab": {
     "base_uri": "https://localhost:8080/"
    },
    "id": "f65f39b2",
    "outputId": "07f5fd01-c41d-4782-8c0b-b0b2e346021e"
   },
   "outputs": [
    {
     "name": "stdout",
     "output_type": "stream",
     "text": [
      "Saving TensorBoard log files to: model_logs/Model_4_Bidirectional/20230309-151845\n",
      "Epoch 1/5\n",
      "215/215 [==============================] - 13s 38ms/step - loss: 0.1312 - accuracy: 0.9571 - val_loss: 0.8011 - val_accuracy: 0.7848\n",
      "Epoch 2/5\n",
      "215/215 [==============================] - 3s 15ms/step - loss: 0.0753 - accuracy: 0.9711 - val_loss: 1.0430 - val_accuracy: 0.7782\n",
      "Epoch 3/5\n",
      "215/215 [==============================] - 2s 11ms/step - loss: 0.0568 - accuracy: 0.9749 - val_loss: 1.2890 - val_accuracy: 0.7690\n",
      "Epoch 4/5\n",
      "215/215 [==============================] - 2s 10ms/step - loss: 0.0534 - accuracy: 0.9745 - val_loss: 1.1404 - val_accuracy: 0.7664\n",
      "Epoch 5/5\n",
      "215/215 [==============================] - 2s 11ms/step - loss: 0.0479 - accuracy: 0.9775 - val_loss: 1.3335 - val_accuracy: 0.7664\n"
     ]
    }
   ],
   "source": [
    "#Fit model\n",
    "model_4_history=model_4.fit(train_sentences,\n",
    "                            train_labels,\n",
    "                            epochs=5,\n",
    "                            validation_data=(val_sentences,val_labels),\n",
    "                            callbacks=[create_tensorboard_callback(save_dir ,\"Model_4_Bidirectional\")]\n",
    "                           )"
   ]
  },
  {
   "cell_type": "code",
   "execution_count": null,
   "id": "b6fbae62",
   "metadata": {
    "colab": {
     "base_uri": "https://localhost:8080/"
    },
    "id": "b6fbae62",
    "outputId": "f5278388-f921-4586-9639-ce54ab5a05dc"
   },
   "outputs": [
    {
     "name": "stdout",
     "output_type": "stream",
     "text": [
      "24/24 [==============================] - 1s 3ms/step\n"
     ]
    }
   ],
   "source": [
    "#Make predictions\n",
    "model_4_pred_probs=model_4.predict(val_sentences)"
   ]
  },
  {
   "cell_type": "code",
   "execution_count": null,
   "id": "23770c63",
   "metadata": {
    "colab": {
     "base_uri": "https://localhost:8080/"
    },
    "id": "23770c63",
    "outputId": "49648aa1-4409-48ee-b943-bb99b0285476"
   },
   "outputs": [
    {
     "data": {
      "text/plain": [
       "<tf.Tensor: shape=(10,), dtype=float32, numpy=array([1., 1., 1., 0., 0., 1., 1., 1., 1., 1.], dtype=float32)>"
      ]
     },
     "execution_count": 74,
     "metadata": {},
     "output_type": "execute_result"
    }
   ],
   "source": [
    "model_4_preds=tf.squeeze(tf.round(model_4_pred_probs))\n",
    "model_4_preds[:10]"
   ]
  },
  {
   "cell_type": "code",
   "execution_count": null,
   "id": "b1ed5d37",
   "metadata": {
    "id": "b1ed5d37"
   },
   "outputs": [],
   "source": [
    "#Calculate the result of bidirectional model\n",
    "model_4_results=calculate_results(y_true=val_labels,\n",
    "                                  y_pred=model_4_preds\n",
    "                                 )"
   ]
  },
  {
   "cell_type": "code",
   "execution_count": null,
   "id": "b8b32025",
   "metadata": {
    "colab": {
     "base_uri": "https://localhost:8080/"
    },
    "id": "b8b32025",
    "outputId": "e934974f-93d9-4be8-f0d5-a963fbb55c15"
   },
   "outputs": [
    {
     "data": {
      "text/plain": [
       "{'accuracy': 76.64041994750657,\n",
       " 'precision': 0.7662194035303838,\n",
       " 'recall': 0.7664041994750657,\n",
       " 'f1': 0.7662905954702527}"
      ]
     },
     "execution_count": 76,
     "metadata": {},
     "output_type": "execute_result"
    }
   ],
   "source": [
    "model_4_results"
   ]
  },
  {
   "cell_type": "markdown",
   "id": "0af7203b",
   "metadata": {
    "id": "0af7203b"
   },
   "source": [
    "## Convolutional Neural Network for Text (and other type of sequences)"
   ]
  },
  {
   "cell_type": "code",
   "execution_count": null,
   "id": "86f9e4e9",
   "metadata": {
    "colab": {
     "base_uri": "https://localhost:8080/"
    },
    "id": "86f9e4e9",
    "outputId": "d2d568b9-46b0-419b-b3c5-0a6bedcdf3d0"
   },
   "outputs": [
    {
     "data": {
      "text/plain": [
       "(TensorShape([1, 15, 128]), TensorShape([1, 15, 32]), TensorShape([1, 32]))"
      ]
     },
     "execution_count": 77,
     "metadata": {},
     "output_type": "execute_result"
    }
   ],
   "source": [
    "# Testing out our embedding layer ,Conv1D layer and max pooling\n",
    "embedding_test=embedding(text_vectorizer([\"This is a test sentence\"])) #turn target sentence into embedding\n",
    "conv_1d=layers.Conv1D(filters=32,\n",
    "                      kernel_size=5,\n",
    "                      activation=\"relu\",\n",
    "                      padding=\"same\" # valid me output samller hoga\n",
    "                     )\n",
    "conv_1d_output=conv_1d(embedding_test)#pass test  embedding through conv1d layer\n",
    "max_pool=layers.GlobalMaxPool1D()\n",
    "max_pool_output=max_pool(conv_1d_output)# getting most important feature\n",
    "embedding_test.shape,conv_1d_output.shape,max_pool_output.shape"
   ]
  },
  {
   "cell_type": "code",
   "execution_count": null,
   "id": "76468c57",
   "metadata": {
    "colab": {
     "base_uri": "https://localhost:8080/"
    },
    "id": "76468c57",
    "outputId": "c7c73c14-4af2-4967-ddc6-36652b6ac7f0"
   },
   "outputs": [
    {
     "data": {
      "text/plain": [
       "<tf.Tensor: shape=(1, 15, 128), dtype=float32, numpy=\n",
       "array([[[ 0.03744745, -0.00134166,  0.04512056, ...,  0.03022231,\n",
       "          0.02399519, -0.00150355],\n",
       "        [-0.05004394, -0.09460915,  0.01151084, ...,  0.0550012 ,\n",
       "          0.06716085,  0.01560022],\n",
       "        [ 0.01641557, -0.03360842, -0.00302744, ..., -0.02720496,\n",
       "          0.0046132 , -0.04023582],\n",
       "        ...,\n",
       "        [-0.00657872, -0.01510202, -0.0149211 , ...,  0.02135514,\n",
       "          0.00605814,  0.01404862],\n",
       "        [-0.00657872, -0.01510202, -0.0149211 , ...,  0.02135514,\n",
       "          0.00605814,  0.01404862],\n",
       "        [-0.00657872, -0.01510202, -0.0149211 , ...,  0.02135514,\n",
       "          0.00605814,  0.01404862]]], dtype=float32)>"
      ]
     },
     "execution_count": 78,
     "metadata": {},
     "output_type": "execute_result"
    }
   ],
   "source": [
    "embedding_test"
   ]
  },
  {
   "cell_type": "code",
   "execution_count": null,
   "id": "9dfcd26e",
   "metadata": {
    "colab": {
     "base_uri": "https://localhost:8080/"
    },
    "id": "9dfcd26e",
    "outputId": "63fdb78e-751d-40a8-aaa4-2d75e7b6e567"
   },
   "outputs": [
    {
     "data": {
      "text/plain": [
       "<tf.Tensor: shape=(1, 15, 32), dtype=float32, numpy=\n",
       "array([[[0.00000000e+00, 0.00000000e+00, 4.59847972e-02, 0.00000000e+00,\n",
       "         5.72145805e-02, 0.00000000e+00, 0.00000000e+00, 0.00000000e+00,\n",
       "         5.58117554e-02, 2.97931936e-02, 4.75079753e-02, 1.34966234e-02,\n",
       "         0.00000000e+00, 0.00000000e+00, 0.00000000e+00, 0.00000000e+00,\n",
       "         1.31041437e-01, 4.21099924e-02, 4.77294344e-03, 1.17749721e-03,\n",
       "         2.65747011e-02, 5.90411201e-02, 2.85828859e-02, 2.48790570e-02,\n",
       "         0.00000000e+00, 0.00000000e+00, 0.00000000e+00, 0.00000000e+00,\n",
       "         0.00000000e+00, 1.57415587e-02, 0.00000000e+00, 5.68654165e-02],\n",
       "        [0.00000000e+00, 3.56220417e-02, 0.00000000e+00, 4.91926149e-02,\n",
       "         0.00000000e+00, 0.00000000e+00, 2.69341823e-02, 7.13590235e-02,\n",
       "         1.16104428e-02, 0.00000000e+00, 3.03045437e-02, 3.85258496e-02,\n",
       "         0.00000000e+00, 7.74373021e-03, 3.38190459e-02, 7.29913861e-02,\n",
       "         5.04715480e-02, 5.99042028e-02, 5.52333221e-02, 0.00000000e+00,\n",
       "         3.05349343e-02, 2.13584416e-02, 0.00000000e+00, 3.44039351e-02,\n",
       "         0.00000000e+00, 0.00000000e+00, 0.00000000e+00, 0.00000000e+00,\n",
       "         5.54568879e-03, 7.80420080e-02, 3.04181911e-02, 0.00000000e+00],\n",
       "        [0.00000000e+00, 0.00000000e+00, 4.16077077e-02, 0.00000000e+00,\n",
       "         9.86613333e-02, 0.00000000e+00, 0.00000000e+00, 0.00000000e+00,\n",
       "         0.00000000e+00, 0.00000000e+00, 0.00000000e+00, 8.62457603e-02,\n",
       "         9.40372760e-04, 0.00000000e+00, 6.62859529e-02, 3.72254476e-02,\n",
       "         4.38943729e-02, 0.00000000e+00, 4.91033494e-02, 0.00000000e+00,\n",
       "         0.00000000e+00, 0.00000000e+00, 3.87287177e-02, 6.30823076e-02,\n",
       "         0.00000000e+00, 0.00000000e+00, 9.41583235e-03, 6.01675622e-02,\n",
       "         0.00000000e+00, 0.00000000e+00, 2.50462797e-02, 3.98320854e-02],\n",
       "        [1.70123726e-02, 8.50060433e-02, 5.59028089e-02, 0.00000000e+00,\n",
       "         0.00000000e+00, 0.00000000e+00, 0.00000000e+00, 6.61789030e-02,\n",
       "         5.73451556e-02, 0.00000000e+00, 0.00000000e+00, 0.00000000e+00,\n",
       "         0.00000000e+00, 0.00000000e+00, 0.00000000e+00, 2.75886469e-02,\n",
       "         7.68337995e-02, 1.30939204e-02, 2.18182839e-02, 0.00000000e+00,\n",
       "         0.00000000e+00, 0.00000000e+00, 3.30032483e-02, 4.57092449e-02,\n",
       "         1.28829209e-02, 0.00000000e+00, 0.00000000e+00, 0.00000000e+00,\n",
       "         0.00000000e+00, 6.12507984e-02, 1.78799555e-02, 2.42885333e-02],\n",
       "        [6.64724559e-02, 0.00000000e+00, 4.42521647e-02, 0.00000000e+00,\n",
       "         0.00000000e+00, 6.57173693e-02, 0.00000000e+00, 3.80522870e-02,\n",
       "         2.21999511e-02, 2.26334557e-02, 0.00000000e+00, 3.91202495e-02,\n",
       "         0.00000000e+00, 2.68334188e-02, 3.05377003e-02, 6.88769948e-03,\n",
       "         7.93749839e-03, 0.00000000e+00, 8.02842714e-03, 3.90379177e-03,\n",
       "         0.00000000e+00, 0.00000000e+00, 0.00000000e+00, 5.42508699e-02,\n",
       "         0.00000000e+00, 5.77454269e-02, 2.05134042e-02, 0.00000000e+00,\n",
       "         0.00000000e+00, 0.00000000e+00, 6.70827646e-03, 0.00000000e+00],\n",
       "        [3.15136462e-02, 0.00000000e+00, 0.00000000e+00, 0.00000000e+00,\n",
       "         1.09011633e-02, 0.00000000e+00, 2.39349529e-02, 0.00000000e+00,\n",
       "         0.00000000e+00, 5.23249879e-02, 9.73934680e-03, 4.16145399e-02,\n",
       "         0.00000000e+00, 0.00000000e+00, 0.00000000e+00, 0.00000000e+00,\n",
       "         3.39128301e-02, 0.00000000e+00, 5.61514907e-02, 9.02561471e-04,\n",
       "         1.76736414e-02, 0.00000000e+00, 9.63493623e-03, 2.72256415e-02,\n",
       "         0.00000000e+00, 6.47858828e-02, 0.00000000e+00, 2.67647542e-02,\n",
       "         1.22211631e-02, 1.00764241e-02, 4.16224077e-02, 0.00000000e+00],\n",
       "        [3.13391257e-03, 0.00000000e+00, 0.00000000e+00, 0.00000000e+00,\n",
       "         0.00000000e+00, 1.43753849e-02, 0.00000000e+00, 0.00000000e+00,\n",
       "         5.05696889e-03, 9.39126611e-02, 2.95452084e-02, 1.88361853e-02,\n",
       "         0.00000000e+00, 1.21287620e-02, 0.00000000e+00, 0.00000000e+00,\n",
       "         2.14364356e-03, 0.00000000e+00, 0.00000000e+00, 0.00000000e+00,\n",
       "         0.00000000e+00, 1.55506730e-02, 2.25037560e-02, 0.00000000e+00,\n",
       "         1.21367173e-02, 3.31243500e-02, 0.00000000e+00, 0.00000000e+00,\n",
       "         3.41618881e-02, 0.00000000e+00, 0.00000000e+00, 0.00000000e+00],\n",
       "        [0.00000000e+00, 1.02978386e-02, 3.93040776e-02, 9.10540298e-03,\n",
       "         0.00000000e+00, 0.00000000e+00, 2.13490650e-02, 0.00000000e+00,\n",
       "         1.23054888e-02, 7.57238567e-02, 3.55628729e-02, 3.59295681e-02,\n",
       "         4.06394154e-03, 6.96498016e-03, 0.00000000e+00, 3.95396817e-03,\n",
       "         4.16217521e-02, 0.00000000e+00, 2.29479140e-03, 0.00000000e+00,\n",
       "         0.00000000e+00, 0.00000000e+00, 8.28183442e-03, 0.00000000e+00,\n",
       "         0.00000000e+00, 1.74105223e-02, 0.00000000e+00, 0.00000000e+00,\n",
       "         5.19008711e-02, 7.41152465e-03, 3.09218373e-02, 0.00000000e+00],\n",
       "        [0.00000000e+00, 1.02978367e-02, 3.93040851e-02, 9.10540670e-03,\n",
       "         0.00000000e+00, 0.00000000e+00, 2.13490687e-02, 0.00000000e+00,\n",
       "         1.23054907e-02, 7.57238716e-02, 3.55628729e-02, 3.59295718e-02,\n",
       "         4.06395039e-03, 6.96499180e-03, 0.00000000e+00, 3.95396957e-03,\n",
       "         4.16217595e-02, 0.00000000e+00, 2.29478581e-03, 0.00000000e+00,\n",
       "         0.00000000e+00, 0.00000000e+00, 8.28184001e-03, 0.00000000e+00,\n",
       "         0.00000000e+00, 1.74105205e-02, 0.00000000e+00, 0.00000000e+00,\n",
       "         5.19008860e-02, 7.41152326e-03, 3.09218392e-02, 0.00000000e+00],\n",
       "        [0.00000000e+00, 1.02978377e-02, 3.93040776e-02, 9.10540298e-03,\n",
       "         0.00000000e+00, 0.00000000e+00, 2.13490725e-02, 0.00000000e+00,\n",
       "         1.23054869e-02, 7.57238567e-02, 3.55628654e-02, 3.59295718e-02,\n",
       "         4.06394713e-03, 6.96499413e-03, 0.00000000e+00, 3.95397097e-03,\n",
       "         4.16217521e-02, 0.00000000e+00, 2.29478953e-03, 0.00000000e+00,\n",
       "         0.00000000e+00, 0.00000000e+00, 8.28183442e-03, 0.00000000e+00,\n",
       "         0.00000000e+00, 1.74105205e-02, 0.00000000e+00, 0.00000000e+00,\n",
       "         5.19008823e-02, 7.41153024e-03, 3.09218429e-02, 0.00000000e+00],\n",
       "        [0.00000000e+00, 1.02978386e-02, 3.93040851e-02, 9.10540484e-03,\n",
       "         0.00000000e+00, 0.00000000e+00, 2.13490725e-02, 0.00000000e+00,\n",
       "         1.23054935e-02, 7.57238567e-02, 3.55628729e-02, 3.59295644e-02,\n",
       "         4.06395365e-03, 6.96499273e-03, 0.00000000e+00, 3.95397050e-03,\n",
       "         4.16217521e-02, 0.00000000e+00, 2.29478767e-03, 0.00000000e+00,\n",
       "         0.00000000e+00, 0.00000000e+00, 8.28184001e-03, 0.00000000e+00,\n",
       "         0.00000000e+00, 1.74105149e-02, 0.00000000e+00, 0.00000000e+00,\n",
       "         5.19008785e-02, 7.41152186e-03, 3.09218355e-02, 0.00000000e+00],\n",
       "        [0.00000000e+00, 1.02978433e-02, 3.93040851e-02, 9.10540204e-03,\n",
       "         0.00000000e+00, 0.00000000e+00, 2.13490669e-02, 0.00000000e+00,\n",
       "         1.23054944e-02, 7.57238418e-02, 3.55628729e-02, 3.59295681e-02,\n",
       "         4.06394992e-03, 6.96499087e-03, 0.00000000e+00, 3.95397004e-03,\n",
       "         4.16217446e-02, 0.00000000e+00, 2.29478930e-03, 0.00000000e+00,\n",
       "         0.00000000e+00, 0.00000000e+00, 8.28183629e-03, 0.00000000e+00,\n",
       "         0.00000000e+00, 1.74105093e-02, 0.00000000e+00, 0.00000000e+00,\n",
       "         5.19008785e-02, 7.41152326e-03, 3.09218392e-02, 0.00000000e+00],\n",
       "        [0.00000000e+00, 1.02978405e-02, 3.93040888e-02, 9.10540111e-03,\n",
       "         0.00000000e+00, 0.00000000e+00, 2.13490669e-02, 0.00000000e+00,\n",
       "         1.23054953e-02, 7.57238716e-02, 3.55628729e-02, 3.59295681e-02,\n",
       "         4.06395178e-03, 6.96498808e-03, 0.00000000e+00, 3.95396259e-03,\n",
       "         4.16217595e-02, 0.00000000e+00, 2.29478278e-03, 0.00000000e+00,\n",
       "         0.00000000e+00, 0.00000000e+00, 8.28183629e-03, 0.00000000e+00,\n",
       "         0.00000000e+00, 1.74105167e-02, 0.00000000e+00, 0.00000000e+00,\n",
       "         5.19008785e-02, 7.41152652e-03, 3.09218392e-02, 0.00000000e+00],\n",
       "        [0.00000000e+00, 7.39603862e-03, 2.99618058e-02, 2.95716687e-03,\n",
       "         1.49596808e-03, 0.00000000e+00, 1.68647319e-02, 0.00000000e+00,\n",
       "         8.36223178e-03, 4.52993698e-02, 2.94458568e-02, 4.91885357e-02,\n",
       "         5.54633979e-03, 2.71617323e-02, 0.00000000e+00, 9.71025508e-03,\n",
       "         2.64192577e-02, 0.00000000e+00, 8.06902535e-05, 0.00000000e+00,\n",
       "         0.00000000e+00, 0.00000000e+00, 2.36250628e-02, 0.00000000e+00,\n",
       "         0.00000000e+00, 2.69348063e-02, 0.00000000e+00, 0.00000000e+00,\n",
       "         6.41400367e-02, 0.00000000e+00, 4.43339571e-02, 7.88657926e-05],\n",
       "        [0.00000000e+00, 1.80940256e-02, 4.30390015e-02, 9.45643522e-03,\n",
       "         2.51612198e-02, 0.00000000e+00, 1.09119527e-02, 0.00000000e+00,\n",
       "         2.73265205e-02, 4.15491536e-02, 3.74257639e-02, 2.68794131e-02,\n",
       "         2.33900435e-02, 1.48824975e-02, 0.00000000e+00, 6.23108912e-03,\n",
       "         1.70313567e-02, 0.00000000e+00, 6.87530125e-03, 0.00000000e+00,\n",
       "         0.00000000e+00, 1.38634956e-02, 1.55135151e-02, 0.00000000e+00,\n",
       "         3.00021190e-03, 4.61764075e-03, 0.00000000e+00, 0.00000000e+00,\n",
       "         5.88274486e-02, 0.00000000e+00, 1.09801227e-02, 1.60775576e-02]]],\n",
       "      dtype=float32)>"
      ]
     },
     "execution_count": 79,
     "metadata": {},
     "output_type": "execute_result"
    }
   ],
   "source": [
    "conv_1d_output"
   ]
  },
  {
   "cell_type": "code",
   "execution_count": null,
   "id": "3cf6f8b7",
   "metadata": {
    "colab": {
     "base_uri": "https://localhost:8080/"
    },
    "id": "3cf6f8b7",
    "outputId": "56a45a23-cbe7-44c2-e0e1-d1a69ae6aa27"
   },
   "outputs": [
    {
     "data": {
      "text/plain": [
       "<tf.Tensor: shape=(1, 32), dtype=float32, numpy=\n",
       "array([[0.06647246, 0.08500604, 0.05590281, 0.04919261, 0.09866133,\n",
       "        0.06571737, 0.02693418, 0.07135902, 0.05734516, 0.09391266,\n",
       "        0.04750798, 0.08624576, 0.02339004, 0.02716173, 0.06628595,\n",
       "        0.07299139, 0.13104144, 0.0599042 , 0.05615149, 0.00390379,\n",
       "        0.03053493, 0.05904112, 0.03872872, 0.06308231, 0.01288292,\n",
       "        0.06478588, 0.0205134 , 0.06016756, 0.06414004, 0.07804201,\n",
       "        0.04433396, 0.05686542]], dtype=float32)>"
      ]
     },
     "execution_count": 80,
     "metadata": {},
     "output_type": "execute_result"
    }
   ],
   "source": [
    "max_pool_output"
   ]
  },
  {
   "cell_type": "code",
   "execution_count": null,
   "id": "e14e2250",
   "metadata": {
    "colab": {
     "base_uri": "https://localhost:8080/"
    },
    "id": "e14e2250",
    "outputId": "b15b1e81-b1b3-439a-85e8-064eff8ce3c6"
   },
   "outputs": [
    {
     "name": "stdout",
     "output_type": "stream",
     "text": [
      "Model: \"model_5_Conv1D\"\n",
      "_________________________________________________________________\n",
      " Layer (type)                Output Shape              Param #   \n",
      "=================================================================\n",
      " input_5 (InputLayer)        [(None, 1)]               0         \n",
      "                                                                 \n",
      " text_vectorization_1 (TextV  (None, 15)               0         \n",
      " ectorization)                                                   \n",
      "                                                                 \n",
      " embedding (Embedding)       (None, 15, 128)           1280000   \n",
      "                                                                 \n",
      " conv1d_1 (Conv1D)           (None, 11, 64)            41024     \n",
      "                                                                 \n",
      " global_max_pooling1d_1 (Glo  (None, 64)               0         \n",
      " balMaxPooling1D)                                                \n",
      "                                                                 \n",
      " dense_4 (Dense)             (None, 1)                 65        \n",
      "                                                                 \n",
      "=================================================================\n",
      "Total params: 1,321,089\n",
      "Trainable params: 1,321,089\n",
      "Non-trainable params: 0\n",
      "_________________________________________________________________\n"
     ]
    }
   ],
   "source": [
    "# Create 1 Dim CNN to model sequences\n",
    "from tensorflow.keras import layers\n",
    "inputs=layers.Input(shape=(1,),dtype=tf.string)\n",
    "x=text_vectorizer(inputs)\n",
    "x=embedding(x)\n",
    "x=layers.Conv1D(filters=64,kernel_size=5,padding=\"valid\",activation=\"relu\",strides=1)(x)\n",
    "x=layers.GlobalMaxPool1D()(x)\n",
    "#x=layers.Dense(64,act=relu)\n",
    "outputs=layers.Dense(1,activation=\"sigmoid\")(x)\n",
    "model_5=tf.keras.Model(inputs,outputs,name=\"model_5_Conv1D\")\n",
    "\n",
    "#Compile\n",
    "model_5.compile(loss=\"binary_crossentropy\",\n",
    "                optimizer=tf.keras.optimizers.Adam(),\n",
    "                metrics=[\"accuracy\"]\n",
    "               )\n",
    "\n",
    "\n",
    "#Summary\n",
    "model_5.summary()"
   ]
  },
  {
   "cell_type": "code",
   "execution_count": null,
   "id": "165350a6",
   "metadata": {
    "colab": {
     "base_uri": "https://localhost:8080/"
    },
    "id": "165350a6",
    "outputId": "c137682e-b905-483d-af99-ffe7876a2483"
   },
   "outputs": [
    {
     "name": "stdout",
     "output_type": "stream",
     "text": [
      "Saving TensorBoard log files to: model_logs/Conv1D/20230309-151914\n",
      "Epoch 1/5\n",
      "215/215 [==============================] - 11s 37ms/step - loss: 0.1384 - accuracy: 0.9548 - val_loss: 0.8139 - val_accuracy: 0.7782\n",
      "Epoch 2/5\n",
      "215/215 [==============================] - 2s 10ms/step - loss: 0.0855 - accuracy: 0.9677 - val_loss: 0.9660 - val_accuracy: 0.7717\n",
      "Epoch 3/5\n",
      "215/215 [==============================] - 2s 9ms/step - loss: 0.0684 - accuracy: 0.9745 - val_loss: 1.0435 - val_accuracy: 0.7756\n",
      "Epoch 4/5\n",
      "215/215 [==============================] - 2s 8ms/step - loss: 0.0601 - accuracy: 0.9766 - val_loss: 1.1118 - val_accuracy: 0.7664\n",
      "Epoch 5/5\n",
      "215/215 [==============================] - 2s 8ms/step - loss: 0.0535 - accuracy: 0.9777 - val_loss: 1.1811 - val_accuracy: 0.7703\n"
     ]
    }
   ],
   "source": [
    "#Fit the model\n",
    "model_5_history=model_5.fit(train_sentences,\n",
    "                           train_labels,\n",
    "                           epochs=5,\n",
    "                            validation_data=(val_sentences,val_labels),\n",
    "                            callbacks=[create_tensorboard_callback(save_dir,\"Conv1D\")]\n",
    "                           )"
   ]
  },
  {
   "cell_type": "code",
   "execution_count": null,
   "id": "8d03a658",
   "metadata": {
    "colab": {
     "base_uri": "https://localhost:8080/"
    },
    "id": "8d03a658",
    "outputId": "32e9a928-1bc5-485a-e220-90f1dec1101e"
   },
   "outputs": [
    {
     "name": "stdout",
     "output_type": "stream",
     "text": [
      "24/24 [==============================] - 0s 2ms/step\n"
     ]
    },
    {
     "data": {
      "text/plain": [
       "array([[2.7349836e-01],\n",
       "       [6.7196393e-01],\n",
       "       [9.9995029e-01],\n",
       "       [8.5592672e-02],\n",
       "       [4.0238587e-07]], dtype=float32)"
      ]
     },
     "execution_count": 83,
     "metadata": {},
     "output_type": "execute_result"
    }
   ],
   "source": [
    "#Make some predictions\n",
    "model_5_pred_probs=model_5.predict(val_sentences)\n",
    "model_5_pred_probs[:5]"
   ]
  },
  {
   "cell_type": "code",
   "execution_count": null,
   "id": "28871730",
   "metadata": {
    "id": "28871730"
   },
   "outputs": [],
   "source": [
    "#Convert model 5 pred probs to labels\n",
    "model_5_preds=tf.squeeze(tf.round(model_5_pred_probs))"
   ]
  },
  {
   "cell_type": "code",
   "execution_count": null,
   "id": "ab79710e",
   "metadata": {
    "colab": {
     "base_uri": "https://localhost:8080/"
    },
    "id": "ab79710e",
    "outputId": "f498974a-3513-4e3b-9811-79da6480d159"
   },
   "outputs": [
    {
     "data": {
      "text/plain": [
       "{'accuracy': 77.03412073490814,\n",
       " 'precision': 0.7711671866902318,\n",
       " 'recall': 0.7703412073490814,\n",
       " 'f1': 0.7686901866564684}"
      ]
     },
     "execution_count": 85,
     "metadata": {},
     "output_type": "execute_result"
    }
   ],
   "source": [
    "#Evaluate predictions\n",
    "model_5_results=calculate_results(y_true=val_labels,y_pred=model_5_preds)\n",
    "model_5_results"
   ]
  },
  {
   "cell_type": "code",
   "execution_count": null,
   "id": "416803dc",
   "metadata": {
    "colab": {
     "base_uri": "https://localhost:8080/"
    },
    "id": "416803dc",
    "outputId": "cda57aa9-616b-41e2-f104-be45ac63f0ad"
   },
   "outputs": [
    {
     "data": {
      "text/plain": [
       "{'accuracy': 79.26509186351706,\n",
       " 'precision': 0.8111390004213173,\n",
       " 'recall': 0.7926509186351706,\n",
       " 'f1': 0.7862189758049549}"
      ]
     },
     "execution_count": 86,
     "metadata": {},
     "output_type": "execute_result"
    }
   ],
   "source": [
    "baseline_results"
   ]
  },
  {
   "cell_type": "markdown",
   "id": "826f3f87",
   "metadata": {
    "id": "826f3f87"
   },
   "source": [
    "# Model 6: Tensorflow Hub Pretrained Sentence Encoder"
   ]
  },
  {
   "cell_type": "code",
   "execution_count": null,
   "id": "0ec7733f",
   "metadata": {
    "colab": {
     "base_uri": "https://localhost:8080/",
     "height": 380
    },
    "id": "0ec7733f",
    "outputId": "89da7d14-7367-4dc3-85bd-624267793e94"
   },
   "outputs": [
    {
     "ename": "KeyboardInterrupt",
     "evalue": "ignored",
     "output_type": "error",
     "traceback": [
      "\u001b[0;31m---------------------------------------------------------------------------\u001b[0m",
      "\u001b[0;31mKeyboardInterrupt\u001b[0m                         Traceback (most recent call last)",
      "\u001b[0;32m<ipython-input-14-23f420861222>\u001b[0m in \u001b[0;36m<module>\u001b[0;34m\u001b[0m\n\u001b[1;32m      1\u001b[0m \u001b[0;31m# Example of pretrained embedding with universal sentence encoder - https://tfhub.dev/google/universal-sentence-encoder/4\u001b[0m\u001b[0;34m\u001b[0m\u001b[0;34m\u001b[0m\u001b[0m\n\u001b[1;32m      2\u001b[0m \u001b[0;32mimport\u001b[0m \u001b[0mtensorflow_hub\u001b[0m \u001b[0;32mas\u001b[0m \u001b[0mhub\u001b[0m\u001b[0;34m\u001b[0m\u001b[0;34m\u001b[0m\u001b[0m\n\u001b[0;32m----> 3\u001b[0;31m \u001b[0membed\u001b[0m \u001b[0;34m=\u001b[0m \u001b[0mhub\u001b[0m\u001b[0;34m.\u001b[0m\u001b[0mload\u001b[0m\u001b[0;34m(\u001b[0m\u001b[0;34m\"https://tfhub.dev/google/universal-sentence-encoder-large/5\"\u001b[0m\u001b[0;34m)\u001b[0m \u001b[0;31m# load Universal Sentence Encoder\u001b[0m\u001b[0;34m\u001b[0m\u001b[0;34m\u001b[0m\u001b[0m\n\u001b[0m\u001b[1;32m      4\u001b[0m embed_samples = embed([sample_sentence,\n\u001b[1;32m      5\u001b[0m                       \"When you call the universal sentence encoder on a sentence, it turns it into numbers.\"])\n",
      "\u001b[0;32m/usr/local/lib/python3.9/dist-packages/tensorflow_hub/module_v2.py\u001b[0m in \u001b[0;36mload\u001b[0;34m(handle, tags, options)\u001b[0m\n\u001b[1;32m     90\u001b[0m   \u001b[0;32mif\u001b[0m \u001b[0;32mnot\u001b[0m \u001b[0misinstance\u001b[0m\u001b[0;34m(\u001b[0m\u001b[0mhandle\u001b[0m\u001b[0;34m,\u001b[0m \u001b[0mstr\u001b[0m\u001b[0;34m)\u001b[0m\u001b[0;34m:\u001b[0m\u001b[0;34m\u001b[0m\u001b[0;34m\u001b[0m\u001b[0m\n\u001b[1;32m     91\u001b[0m     \u001b[0;32mraise\u001b[0m \u001b[0mValueError\u001b[0m\u001b[0;34m(\u001b[0m\u001b[0;34m\"Expected a string, got %s\"\u001b[0m \u001b[0;34m%\u001b[0m \u001b[0mhandle\u001b[0m\u001b[0;34m)\u001b[0m\u001b[0;34m\u001b[0m\u001b[0;34m\u001b[0m\u001b[0m\n\u001b[0;32m---> 92\u001b[0;31m   \u001b[0mmodule_path\u001b[0m \u001b[0;34m=\u001b[0m \u001b[0mresolve\u001b[0m\u001b[0;34m(\u001b[0m\u001b[0mhandle\u001b[0m\u001b[0;34m)\u001b[0m\u001b[0;34m\u001b[0m\u001b[0;34m\u001b[0m\u001b[0m\n\u001b[0m\u001b[1;32m     93\u001b[0m   is_hub_module_v1 = tf.io.gfile.exists(\n\u001b[1;32m     94\u001b[0m       native_module.get_module_proto_path(module_path))\n",
      "\u001b[0;32m/usr/local/lib/python3.9/dist-packages/tensorflow_hub/module_v2.py\u001b[0m in \u001b[0;36mresolve\u001b[0;34m(handle)\u001b[0m\n\u001b[1;32m     45\u001b[0m     \u001b[0mA\u001b[0m \u001b[0mstring\u001b[0m \u001b[0mrepresenting\u001b[0m \u001b[0mthe\u001b[0m \u001b[0mModule\u001b[0m \u001b[0mpath\u001b[0m\u001b[0;34m.\u001b[0m\u001b[0;34m\u001b[0m\u001b[0;34m\u001b[0m\u001b[0m\n\u001b[1;32m     46\u001b[0m   \"\"\"\n\u001b[0;32m---> 47\u001b[0;31m   \u001b[0;32mreturn\u001b[0m \u001b[0mregistry\u001b[0m\u001b[0;34m.\u001b[0m\u001b[0mresolver\u001b[0m\u001b[0;34m(\u001b[0m\u001b[0mhandle\u001b[0m\u001b[0;34m)\u001b[0m\u001b[0;34m\u001b[0m\u001b[0;34m\u001b[0m\u001b[0m\n\u001b[0m\u001b[1;32m     48\u001b[0m \u001b[0;34m\u001b[0m\u001b[0m\n\u001b[1;32m     49\u001b[0m \u001b[0;34m\u001b[0m\u001b[0m\n",
      "\u001b[0;32m/usr/local/lib/python3.9/dist-packages/tensorflow_hub/registry.py\u001b[0m in \u001b[0;36m__call__\u001b[0;34m(self, *args, **kwargs)\u001b[0m\n\u001b[1;32m     49\u001b[0m     \u001b[0;32mfor\u001b[0m \u001b[0mimpl\u001b[0m \u001b[0;32min\u001b[0m \u001b[0mreversed\u001b[0m\u001b[0;34m(\u001b[0m\u001b[0mself\u001b[0m\u001b[0;34m.\u001b[0m\u001b[0m_impls\u001b[0m\u001b[0;34m)\u001b[0m\u001b[0;34m:\u001b[0m\u001b[0;34m\u001b[0m\u001b[0;34m\u001b[0m\u001b[0m\n\u001b[1;32m     50\u001b[0m       \u001b[0;32mif\u001b[0m \u001b[0mimpl\u001b[0m\u001b[0;34m.\u001b[0m\u001b[0mis_supported\u001b[0m\u001b[0;34m(\u001b[0m\u001b[0;34m*\u001b[0m\u001b[0margs\u001b[0m\u001b[0;34m,\u001b[0m \u001b[0;34m**\u001b[0m\u001b[0mkwargs\u001b[0m\u001b[0;34m)\u001b[0m\u001b[0;34m:\u001b[0m\u001b[0;34m\u001b[0m\u001b[0;34m\u001b[0m\u001b[0m\n\u001b[0;32m---> 51\u001b[0;31m         \u001b[0;32mreturn\u001b[0m \u001b[0mimpl\u001b[0m\u001b[0;34m(\u001b[0m\u001b[0;34m*\u001b[0m\u001b[0margs\u001b[0m\u001b[0;34m,\u001b[0m \u001b[0;34m**\u001b[0m\u001b[0mkwargs\u001b[0m\u001b[0;34m)\u001b[0m\u001b[0;34m\u001b[0m\u001b[0;34m\u001b[0m\u001b[0m\n\u001b[0m\u001b[1;32m     52\u001b[0m       \u001b[0;32melse\u001b[0m\u001b[0;34m:\u001b[0m\u001b[0;34m\u001b[0m\u001b[0;34m\u001b[0m\u001b[0m\n\u001b[1;32m     53\u001b[0m         \u001b[0mfails\u001b[0m\u001b[0;34m.\u001b[0m\u001b[0mappend\u001b[0m\u001b[0;34m(\u001b[0m\u001b[0mtype\u001b[0m\u001b[0;34m(\u001b[0m\u001b[0mimpl\u001b[0m\u001b[0;34m)\u001b[0m\u001b[0;34m.\u001b[0m\u001b[0m__name__\u001b[0m\u001b[0;34m)\u001b[0m\u001b[0;34m\u001b[0m\u001b[0;34m\u001b[0m\u001b[0m\n",
      "\u001b[0;32m/usr/local/lib/python3.9/dist-packages/tensorflow_hub/compressed_module_resolver.py\u001b[0m in \u001b[0;36m__call__\u001b[0;34m(self, handle)\u001b[0m\n\u001b[1;32m     65\u001b[0m           response, tmp_dir)\n\u001b[1;32m     66\u001b[0m \u001b[0;34m\u001b[0m\u001b[0m\n\u001b[0;32m---> 67\u001b[0;31m     return resolver.atomic_download(handle, download, module_dir,\n\u001b[0m\u001b[1;32m     68\u001b[0m                                     self._lock_file_timeout_sec())\n\u001b[1;32m     69\u001b[0m \u001b[0;34m\u001b[0m\u001b[0m\n",
      "\u001b[0;32m/usr/local/lib/python3.9/dist-packages/tensorflow_hub/resolver.py\u001b[0m in \u001b[0;36matomic_download\u001b[0;34m(handle, download_fn, module_dir, lock_file_timeout_sec)\u001b[0m\n\u001b[1;32m    416\u001b[0m     \u001b[0mlogging\u001b[0m\u001b[0;34m.\u001b[0m\u001b[0minfo\u001b[0m\u001b[0;34m(\u001b[0m\u001b[0;34m\"Downloading TF-Hub Module '%s'.\"\u001b[0m\u001b[0;34m,\u001b[0m \u001b[0mhandle\u001b[0m\u001b[0;34m)\u001b[0m\u001b[0;34m\u001b[0m\u001b[0;34m\u001b[0m\u001b[0m\n\u001b[1;32m    417\u001b[0m     \u001b[0mtf\u001b[0m\u001b[0;34m.\u001b[0m\u001b[0mcompat\u001b[0m\u001b[0;34m.\u001b[0m\u001b[0mv1\u001b[0m\u001b[0;34m.\u001b[0m\u001b[0mgfile\u001b[0m\u001b[0;34m.\u001b[0m\u001b[0mMakeDirs\u001b[0m\u001b[0;34m(\u001b[0m\u001b[0mtmp_dir\u001b[0m\u001b[0;34m)\u001b[0m\u001b[0;34m\u001b[0m\u001b[0;34m\u001b[0m\u001b[0m\n\u001b[0;32m--> 418\u001b[0;31m     \u001b[0mdownload_fn\u001b[0m\u001b[0;34m(\u001b[0m\u001b[0mhandle\u001b[0m\u001b[0;34m,\u001b[0m \u001b[0mtmp_dir\u001b[0m\u001b[0;34m)\u001b[0m\u001b[0;34m\u001b[0m\u001b[0;34m\u001b[0m\u001b[0m\n\u001b[0m\u001b[1;32m    419\u001b[0m     \u001b[0;31m# Write module descriptor to capture information about which module was\u001b[0m\u001b[0;34m\u001b[0m\u001b[0;34m\u001b[0m\u001b[0m\n\u001b[1;32m    420\u001b[0m     \u001b[0;31m# downloaded by whom and when. The file stored at the same level as a\u001b[0m\u001b[0;34m\u001b[0m\u001b[0;34m\u001b[0m\u001b[0m\n",
      "\u001b[0;32m/usr/local/lib/python3.9/dist-packages/tensorflow_hub/compressed_module_resolver.py\u001b[0m in \u001b[0;36mdownload\u001b[0;34m(handle, tmp_dir)\u001b[0m\n\u001b[1;32m     62\u001b[0m           self._append_compressed_format_query(handle))\n\u001b[1;32m     63\u001b[0m       \u001b[0mresponse\u001b[0m \u001b[0;34m=\u001b[0m \u001b[0mself\u001b[0m\u001b[0;34m.\u001b[0m\u001b[0m_call_urlopen\u001b[0m\u001b[0;34m(\u001b[0m\u001b[0mrequest\u001b[0m\u001b[0;34m)\u001b[0m\u001b[0;34m\u001b[0m\u001b[0;34m\u001b[0m\u001b[0m\n\u001b[0;32m---> 64\u001b[0;31m       return resolver.DownloadManager(handle).download_and_uncompress(\n\u001b[0m\u001b[1;32m     65\u001b[0m           response, tmp_dir)\n\u001b[1;32m     66\u001b[0m \u001b[0;34m\u001b[0m\u001b[0m\n",
      "\u001b[0;32m/usr/local/lib/python3.9/dist-packages/tensorflow_hub/resolver.py\u001b[0m in \u001b[0;36mdownload_and_uncompress\u001b[0;34m(self, fileobj, dst_path)\u001b[0m\n\u001b[1;32m    187\u001b[0m     \"\"\"\n\u001b[1;32m    188\u001b[0m     \u001b[0;32mtry\u001b[0m\u001b[0;34m:\u001b[0m\u001b[0;34m\u001b[0m\u001b[0;34m\u001b[0m\u001b[0m\n\u001b[0;32m--> 189\u001b[0;31m       file_utils.extract_tarfile_to_destination(\n\u001b[0m\u001b[1;32m    190\u001b[0m           fileobj, dst_path, log_function=self._log_progress)\n\u001b[1;32m    191\u001b[0m       total_size_str = tf_utils.bytes_to_readable_str(\n",
      "\u001b[0;32m/usr/local/lib/python3.9/dist-packages/tensorflow_hub/file_utils.py\u001b[0m in \u001b[0;36mextract_tarfile_to_destination\u001b[0;34m(fileobj, dst_path, log_function)\u001b[0m\n\u001b[1;32m     50\u001b[0m \u001b[0;34m\u001b[0m\u001b[0m\n\u001b[1;32m     51\u001b[0m       \u001b[0;32mif\u001b[0m \u001b[0mtarinfo\u001b[0m\u001b[0;34m.\u001b[0m\u001b[0misfile\u001b[0m\u001b[0;34m(\u001b[0m\u001b[0;34m)\u001b[0m\u001b[0;34m:\u001b[0m\u001b[0;34m\u001b[0m\u001b[0;34m\u001b[0m\u001b[0m\n\u001b[0;32m---> 52\u001b[0;31m         \u001b[0mextract_file\u001b[0m\u001b[0;34m(\u001b[0m\u001b[0mtgz\u001b[0m\u001b[0;34m,\u001b[0m \u001b[0mtarinfo\u001b[0m\u001b[0;34m,\u001b[0m \u001b[0mabs_target_path\u001b[0m\u001b[0;34m,\u001b[0m \u001b[0mlog_function\u001b[0m\u001b[0;34m=\u001b[0m\u001b[0mlog_function\u001b[0m\u001b[0;34m)\u001b[0m\u001b[0;34m\u001b[0m\u001b[0;34m\u001b[0m\u001b[0m\n\u001b[0m\u001b[1;32m     53\u001b[0m       \u001b[0;32melif\u001b[0m \u001b[0mtarinfo\u001b[0m\u001b[0;34m.\u001b[0m\u001b[0misdir\u001b[0m\u001b[0;34m(\u001b[0m\u001b[0;34m)\u001b[0m\u001b[0;34m:\u001b[0m\u001b[0;34m\u001b[0m\u001b[0;34m\u001b[0m\u001b[0m\n\u001b[1;32m     54\u001b[0m         \u001b[0mtf\u001b[0m\u001b[0;34m.\u001b[0m\u001b[0mcompat\u001b[0m\u001b[0;34m.\u001b[0m\u001b[0mv1\u001b[0m\u001b[0;34m.\u001b[0m\u001b[0mgfile\u001b[0m\u001b[0;34m.\u001b[0m\u001b[0mMakeDirs\u001b[0m\u001b[0;34m(\u001b[0m\u001b[0mabs_target_path\u001b[0m\u001b[0;34m)\u001b[0m\u001b[0;34m\u001b[0m\u001b[0;34m\u001b[0m\u001b[0m\n",
      "\u001b[0;32m/usr/local/lib/python3.9/dist-packages/tensorflow_hub/file_utils.py\u001b[0m in \u001b[0;36mextract_file\u001b[0;34m(tgz, tarinfo, dst_path, buffer_size, log_function)\u001b[0m\n\u001b[1;32m     33\u001b[0m   \u001b[0mdst\u001b[0m \u001b[0;34m=\u001b[0m \u001b[0mtf\u001b[0m\u001b[0;34m.\u001b[0m\u001b[0mcompat\u001b[0m\u001b[0;34m.\u001b[0m\u001b[0mv1\u001b[0m\u001b[0;34m.\u001b[0m\u001b[0mgfile\u001b[0m\u001b[0;34m.\u001b[0m\u001b[0mGFile\u001b[0m\u001b[0;34m(\u001b[0m\u001b[0mdst_path\u001b[0m\u001b[0;34m,\u001b[0m \u001b[0;34m\"wb\"\u001b[0m\u001b[0;34m)\u001b[0m\u001b[0;34m\u001b[0m\u001b[0;34m\u001b[0m\u001b[0m\n\u001b[1;32m     34\u001b[0m   \u001b[0;32mwhile\u001b[0m \u001b[0;36m1\u001b[0m\u001b[0;34m:\u001b[0m\u001b[0;34m\u001b[0m\u001b[0;34m\u001b[0m\u001b[0m\n\u001b[0;32m---> 35\u001b[0;31m     \u001b[0mbuf\u001b[0m \u001b[0;34m=\u001b[0m \u001b[0msrc\u001b[0m\u001b[0;34m.\u001b[0m\u001b[0mread\u001b[0m\u001b[0;34m(\u001b[0m\u001b[0mbuffer_size\u001b[0m\u001b[0;34m)\u001b[0m\u001b[0;34m\u001b[0m\u001b[0;34m\u001b[0m\u001b[0m\n\u001b[0m\u001b[1;32m     36\u001b[0m     \u001b[0;32mif\u001b[0m \u001b[0;32mnot\u001b[0m \u001b[0mbuf\u001b[0m\u001b[0;34m:\u001b[0m\u001b[0;34m\u001b[0m\u001b[0;34m\u001b[0m\u001b[0m\n\u001b[1;32m     37\u001b[0m       \u001b[0;32mbreak\u001b[0m\u001b[0;34m\u001b[0m\u001b[0;34m\u001b[0m\u001b[0m\n",
      "\u001b[0;32m/usr/lib/python3.9/tarfile.py\u001b[0m in \u001b[0;36mreadinto\u001b[0;34m(self, b)\u001b[0m\n\u001b[1;32m    693\u001b[0m \u001b[0;34m\u001b[0m\u001b[0m\n\u001b[1;32m    694\u001b[0m     \u001b[0;32mdef\u001b[0m \u001b[0mreadinto\u001b[0m\u001b[0;34m(\u001b[0m\u001b[0mself\u001b[0m\u001b[0;34m,\u001b[0m \u001b[0mb\u001b[0m\u001b[0;34m)\u001b[0m\u001b[0;34m:\u001b[0m\u001b[0;34m\u001b[0m\u001b[0;34m\u001b[0m\u001b[0m\n\u001b[0;32m--> 695\u001b[0;31m         \u001b[0mbuf\u001b[0m \u001b[0;34m=\u001b[0m \u001b[0mself\u001b[0m\u001b[0;34m.\u001b[0m\u001b[0mread\u001b[0m\u001b[0;34m(\u001b[0m\u001b[0mlen\u001b[0m\u001b[0;34m(\u001b[0m\u001b[0mb\u001b[0m\u001b[0;34m)\u001b[0m\u001b[0;34m)\u001b[0m\u001b[0;34m\u001b[0m\u001b[0;34m\u001b[0m\u001b[0m\n\u001b[0m\u001b[1;32m    696\u001b[0m         \u001b[0mb\u001b[0m\u001b[0;34m[\u001b[0m\u001b[0;34m:\u001b[0m\u001b[0mlen\u001b[0m\u001b[0;34m(\u001b[0m\u001b[0mbuf\u001b[0m\u001b[0;34m)\u001b[0m\u001b[0;34m]\u001b[0m \u001b[0;34m=\u001b[0m \u001b[0mbuf\u001b[0m\u001b[0;34m\u001b[0m\u001b[0;34m\u001b[0m\u001b[0m\n\u001b[1;32m    697\u001b[0m         \u001b[0;32mreturn\u001b[0m \u001b[0mlen\u001b[0m\u001b[0;34m(\u001b[0m\u001b[0mbuf\u001b[0m\u001b[0;34m)\u001b[0m\u001b[0;34m\u001b[0m\u001b[0;34m\u001b[0m\u001b[0m\n",
      "\u001b[0;32m/usr/lib/python3.9/tarfile.py\u001b[0m in \u001b[0;36mread\u001b[0;34m(self, size)\u001b[0m\n\u001b[1;32m    682\u001b[0m             \u001b[0;32mif\u001b[0m \u001b[0mdata\u001b[0m\u001b[0;34m:\u001b[0m\u001b[0;34m\u001b[0m\u001b[0;34m\u001b[0m\u001b[0m\n\u001b[1;32m    683\u001b[0m                 \u001b[0mself\u001b[0m\u001b[0;34m.\u001b[0m\u001b[0mfileobj\u001b[0m\u001b[0;34m.\u001b[0m\u001b[0mseek\u001b[0m\u001b[0;34m(\u001b[0m\u001b[0moffset\u001b[0m \u001b[0;34m+\u001b[0m \u001b[0;34m(\u001b[0m\u001b[0mself\u001b[0m\u001b[0;34m.\u001b[0m\u001b[0mposition\u001b[0m \u001b[0;34m-\u001b[0m \u001b[0mstart\u001b[0m\u001b[0;34m)\u001b[0m\u001b[0;34m)\u001b[0m\u001b[0;34m\u001b[0m\u001b[0;34m\u001b[0m\u001b[0m\n\u001b[0;32m--> 684\u001b[0;31m                 \u001b[0mb\u001b[0m \u001b[0;34m=\u001b[0m \u001b[0mself\u001b[0m\u001b[0;34m.\u001b[0m\u001b[0mfileobj\u001b[0m\u001b[0;34m.\u001b[0m\u001b[0mread\u001b[0m\u001b[0;34m(\u001b[0m\u001b[0mlength\u001b[0m\u001b[0;34m)\u001b[0m\u001b[0;34m\u001b[0m\u001b[0;34m\u001b[0m\u001b[0m\n\u001b[0m\u001b[1;32m    685\u001b[0m                 \u001b[0;32mif\u001b[0m \u001b[0mlen\u001b[0m\u001b[0;34m(\u001b[0m\u001b[0mb\u001b[0m\u001b[0;34m)\u001b[0m \u001b[0;34m!=\u001b[0m \u001b[0mlength\u001b[0m\u001b[0;34m:\u001b[0m\u001b[0;34m\u001b[0m\u001b[0;34m\u001b[0m\u001b[0m\n\u001b[1;32m    686\u001b[0m                     \u001b[0;32mraise\u001b[0m \u001b[0mReadError\u001b[0m\u001b[0;34m(\u001b[0m\u001b[0;34m\"unexpected end of data\"\u001b[0m\u001b[0;34m)\u001b[0m\u001b[0;34m\u001b[0m\u001b[0;34m\u001b[0m\u001b[0m\n",
      "\u001b[0;32m/usr/lib/python3.9/tarfile.py\u001b[0m in \u001b[0;36mread\u001b[0;34m(self, size)\u001b[0m\n\u001b[1;32m    519\u001b[0m         \u001b[0;34m\"\"\"Return the next size number of bytes from the stream.\"\"\"\u001b[0m\u001b[0;34m\u001b[0m\u001b[0;34m\u001b[0m\u001b[0m\n\u001b[1;32m    520\u001b[0m         \u001b[0;32massert\u001b[0m \u001b[0msize\u001b[0m \u001b[0;32mis\u001b[0m \u001b[0;32mnot\u001b[0m \u001b[0;32mNone\u001b[0m\u001b[0;34m\u001b[0m\u001b[0;34m\u001b[0m\u001b[0m\n\u001b[0;32m--> 521\u001b[0;31m         \u001b[0mbuf\u001b[0m \u001b[0;34m=\u001b[0m \u001b[0mself\u001b[0m\u001b[0;34m.\u001b[0m\u001b[0m_read\u001b[0m\u001b[0;34m(\u001b[0m\u001b[0msize\u001b[0m\u001b[0;34m)\u001b[0m\u001b[0;34m\u001b[0m\u001b[0;34m\u001b[0m\u001b[0m\n\u001b[0m\u001b[1;32m    522\u001b[0m         \u001b[0mself\u001b[0m\u001b[0;34m.\u001b[0m\u001b[0mpos\u001b[0m \u001b[0;34m+=\u001b[0m \u001b[0mlen\u001b[0m\u001b[0;34m(\u001b[0m\u001b[0mbuf\u001b[0m\u001b[0;34m)\u001b[0m\u001b[0;34m\u001b[0m\u001b[0;34m\u001b[0m\u001b[0m\n\u001b[1;32m    523\u001b[0m         \u001b[0;32mreturn\u001b[0m \u001b[0mbuf\u001b[0m\u001b[0;34m\u001b[0m\u001b[0;34m\u001b[0m\u001b[0m\n",
      "\u001b[0;32m/usr/lib/python3.9/tarfile.py\u001b[0m in \u001b[0;36m_read\u001b[0;34m(self, size)\u001b[0m\n\u001b[1;32m    541\u001b[0m                     \u001b[0;32mbreak\u001b[0m\u001b[0;34m\u001b[0m\u001b[0;34m\u001b[0m\u001b[0m\n\u001b[1;32m    542\u001b[0m             \u001b[0;32mtry\u001b[0m\u001b[0;34m:\u001b[0m\u001b[0;34m\u001b[0m\u001b[0;34m\u001b[0m\u001b[0m\n\u001b[0;32m--> 543\u001b[0;31m                 \u001b[0mbuf\u001b[0m \u001b[0;34m=\u001b[0m \u001b[0mself\u001b[0m\u001b[0;34m.\u001b[0m\u001b[0mcmp\u001b[0m\u001b[0;34m.\u001b[0m\u001b[0mdecompress\u001b[0m\u001b[0;34m(\u001b[0m\u001b[0mbuf\u001b[0m\u001b[0;34m)\u001b[0m\u001b[0;34m\u001b[0m\u001b[0;34m\u001b[0m\u001b[0m\n\u001b[0m\u001b[1;32m    544\u001b[0m             \u001b[0;32mexcept\u001b[0m \u001b[0mself\u001b[0m\u001b[0;34m.\u001b[0m\u001b[0mexception\u001b[0m\u001b[0;34m:\u001b[0m\u001b[0;34m\u001b[0m\u001b[0;34m\u001b[0m\u001b[0m\n\u001b[1;32m    545\u001b[0m                 \u001b[0;32mraise\u001b[0m \u001b[0mReadError\u001b[0m\u001b[0;34m(\u001b[0m\u001b[0;34m\"invalid compressed data\"\u001b[0m\u001b[0;34m)\u001b[0m\u001b[0;34m\u001b[0m\u001b[0;34m\u001b[0m\u001b[0m\n",
      "\u001b[0;31mKeyboardInterrupt\u001b[0m: "
     ]
    }
   ],
   "source": [
    "# Example of pretrained embedding with universal sentence encoder - https://tfhub.dev/google/universal-sentence-encoder/4\n",
    "import tensorflow_hub as hub\n",
    "embed = hub.load(\"https://tfhub.dev/google/universal-sentence-encoder-large/5\") # load Universal Sentence Encoder\n",
    "embed_samples = embed([sample_sentence,\n",
    "                      \"When you call the universal sentence encoder on a sentence, it turns it into numbers.\"])\n",
    "\n",
    "print(embed_samples[0][:50])"
   ]
  },
  {
   "cell_type": "code",
   "execution_count": null,
   "id": "6d1b7690",
   "metadata": {
    "colab": {
     "base_uri": "https://localhost:8080/"
    },
    "id": "6d1b7690",
    "outputId": "00cecf97-03a8-4892-ca85-1dda129dcf8d"
   },
   "outputs": [
    {
     "name": "stderr",
     "output_type": "stream",
     "text": [
      "WARNING:absl:Found untraced functions such as lstm_cell_2_layer_call_fn, lstm_cell_2_layer_call_and_return_conditional_losses, lstm_cell_3_layer_call_fn, lstm_cell_3_layer_call_and_return_conditional_losses while saving (showing 4 of 4). These functions will not be directly callable after loading.\n"
     ]
    }
   ],
   "source": [
    "# Create keras layers using USE pretrained layer from tensorflow hub\n",
    "model_4.save('Model_4',save_format=\"tf\")"
   ]
  },
  {
   "cell_type": "code",
   "execution_count": null,
   "id": "YVWqpDiel-fl",
   "metadata": {
    "colab": {
     "base_uri": "https://localhost:8080/"
    },
    "id": "YVWqpDiel-fl",
    "outputId": "86a519d8-cdef-4ee6-da83-4bf7b2201902"
   },
   "outputs": [
    {
     "data": {
      "text/plain": [
       "TensorShape([512])"
      ]
     },
     "execution_count": 37,
     "metadata": {},
     "output_type": "execute_result"
    }
   ],
   "source": [
    "embed_samples[0].shape"
   ]
  },
  {
   "cell_type": "code",
   "execution_count": null,
   "id": "omcIc7gAn1Di",
   "metadata": {
    "colab": {
     "base_uri": "https://localhost:8080/"
    },
    "id": "omcIc7gAn1Di",
    "outputId": "3421a17e-e491-4d78-85ad-93e1cfc19aca"
   },
   "outputs": [
    {
     "name": "stderr",
     "output_type": "stream",
     "text": [
      "WARNING:tensorflow:Please fix your imports. Module tensorflow.python.training.tracking.data_structures has been moved to tensorflow.python.trackable.data_structures. The old module will be deleted in version 2.11.\n"
     ]
    }
   ],
   "source": [
    "# Create keras layer using the USE pretrained layer from tensorflow hub\n",
    "import tensorflow_hub as hub\n",
    "sentence_encoder_layer=hub.KerasLayer(\"https://tfhub.dev/google/universal-sentence-encoder-large/5\",\n",
    "                                input_shape=[],\n",
    "                                dtype=tf.string,\n",
    "                                trainable=False,\n",
    "                                name=\"USE\"\n",
    "                                )"
   ]
  },
  {
   "cell_type": "code",
   "execution_count": null,
   "id": "wuhdpO-CrbKO",
   "metadata": {
    "colab": {
     "base_uri": "https://localhost:8080/"
    },
    "id": "wuhdpO-CrbKO",
    "outputId": "d6b71d3a-deb2-41c0-bfe7-d02f3c18a2c2"
   },
   "outputs": [
    {
     "name": "stdout",
     "output_type": "stream",
     "text": [
      "Model: \"model_6_USE\"\n",
      "_________________________________________________________________\n",
      " Layer (type)                Output Shape              Param #   \n",
      "=================================================================\n",
      " USE (KerasLayer)            (None, 512)               147354880 \n",
      "                                                                 \n",
      " dense_1 (Dense)             (None, 64)                32832     \n",
      "                                                                 \n",
      " Output_layer (Dense)        (None, 1)                 65        \n",
      "                                                                 \n",
      "=================================================================\n",
      "Total params: 147,387,777\n",
      "Trainable params: 32,897\n",
      "Non-trainable params: 147,354,880\n",
      "_________________________________________________________________\n"
     ]
    }
   ],
   "source": [
    "# Create model using Sequential API\n",
    "from tensorflow.keras import layers\n",
    "model_6=tf.keras.Sequential([\n",
    "    sentence_encoder_layer,\n",
    "    layers.Dense(64,activation=\"relu\"),\n",
    "    layers.Dense(1,activation=\"sigmoid\",name=\"Output_layer\")\n",
    "],name=\"model_6_USE\")\n",
    "\n",
    "#Compile\n",
    "model_6.compile(loss=\"binary_crossentropy\",\n",
    "                optimizer=tf.keras.optimizers.Adam(),\n",
    "                metrics=[\"accuracy\"]\n",
    "                )\n",
    "\n",
    "\n",
    "model_6.summary()"
   ]
  },
  {
   "cell_type": "code",
   "execution_count": null,
   "id": "dE5R9Dnerepr",
   "metadata": {
    "colab": {
     "base_uri": "https://localhost:8080/"
    },
    "id": "dE5R9Dnerepr",
    "outputId": "8d3e663b-bb74-4096-8da3-0cb7423173ec"
   },
   "outputs": [
    {
     "name": "stdout",
     "output_type": "stream",
     "text": [
      "Epoch 1/3\n",
      "215/215 [==============================] - 57s 81ms/step - loss: 0.4989 - accuracy: 0.7920 - val_loss: 0.4311 - val_accuracy: 0.8123\n",
      "Epoch 2/3\n",
      "215/215 [==============================] - 11s 51ms/step - loss: 0.4008 - accuracy: 0.8278 - val_loss: 0.4147 - val_accuracy: 0.8150\n",
      "Epoch 3/3\n",
      "215/215 [==============================] - 12s 55ms/step - loss: 0.3819 - accuracy: 0.8321 - val_loss: 0.4126 - val_accuracy: 0.8228\n"
     ]
    }
   ],
   "source": [
    "#Fit the model\n",
    "model_6_history=model_6.fit(train_sentences,\n",
    "                            train_labels,\n",
    "                            epochs=3,\n",
    "                            validation_data=(val_sentences,val_labels),\n",
    "                            # callbacks=[create_tensorboard_callback(save_dir,\"tf_hub_sentence_encoder\")]\n",
    "                            )"
   ]
  },
  {
   "cell_type": "code",
   "execution_count": null,
   "id": "0UjyJ6Dz3j66",
   "metadata": {
    "colab": {
     "base_uri": "https://localhost:8080/",
     "height": 235
    },
    "id": "0UjyJ6Dz3j66",
    "outputId": "161b4bd0-9c7c-4823-d5da-a9af86bf8aaa"
   },
   "outputs": [
    {
     "ename": "NameError",
     "evalue": "ignored",
     "output_type": "error",
     "traceback": [
      "\u001b[0;31m---------------------------------------------------------------------------\u001b[0m",
      "\u001b[0;31mNameError\u001b[0m                                 Traceback (most recent call last)",
      "\u001b[0;32m<ipython-input-17-02d824b4dbc5>\u001b[0m in \u001b[0;36m<module>\u001b[0;34m\u001b[0m\n\u001b[1;32m      1\u001b[0m \u001b[0;31m#Make predictions\u001b[0m\u001b[0;34m\u001b[0m\u001b[0;34m\u001b[0m\u001b[0m\n\u001b[0;32m----> 2\u001b[0;31m \u001b[0mmodel_6_pred_probs\u001b[0m\u001b[0;34m=\u001b[0m\u001b[0mmodel_6\u001b[0m\u001b[0;34m.\u001b[0m\u001b[0mpredict\u001b[0m\u001b[0;34m(\u001b[0m\u001b[0mval_sentences\u001b[0m\u001b[0;34m)\u001b[0m\u001b[0;34m\u001b[0m\u001b[0;34m\u001b[0m\u001b[0m\n\u001b[0m\u001b[1;32m      3\u001b[0m \u001b[0;34m\u001b[0m\u001b[0m\n\u001b[1;32m      4\u001b[0m \u001b[0;31m#Convert prediction probs\u001b[0m\u001b[0;34m\u001b[0m\u001b[0;34m\u001b[0m\u001b[0m\n\u001b[1;32m      5\u001b[0m \u001b[0mmodel_6_preds\u001b[0m\u001b[0;34m=\u001b[0m\u001b[0mtf\u001b[0m\u001b[0;34m.\u001b[0m\u001b[0msqueeze\u001b[0m\u001b[0;34m(\u001b[0m\u001b[0mtf\u001b[0m\u001b[0;34m.\u001b[0m\u001b[0mround\u001b[0m\u001b[0;34m(\u001b[0m\u001b[0mmodel_6_pred_probs\u001b[0m\u001b[0;34m)\u001b[0m\u001b[0;34m)\u001b[0m\u001b[0;34m\u001b[0m\u001b[0;34m\u001b[0m\u001b[0m\n",
      "\u001b[0;31mNameError\u001b[0m: name 'model_6' is not defined"
     ]
    }
   ],
   "source": [
    "#Make predictions \n",
    "model_6_pred_probs=model_6.predict(val_sentences)\n",
    "\n",
    "#Convert prediction probs\n",
    "model_6_preds=tf.squeeze(tf.round(model_6_pred_probs))\n",
    "\n",
    "#Calculate results\n",
    "model_6_results=calculate_results(val_labels,model_6_preds)\n",
    "model_6_results"
   ]
  },
  {
   "cell_type": "code",
   "execution_count": null,
   "id": "yNwmoXibaemy",
   "metadata": {
    "colab": {
     "base_uri": "https://localhost:8080/",
     "height": 206
    },
    "id": "yNwmoXibaemy",
    "outputId": "a63816b7-b34a-4037-cc9e-565c4661ebd4"
   },
   "outputs": [
    {
     "data": {
      "text/html": [
       "\n",
       "  <div id=\"df-399ecab7-6c5e-40b9-a8e1-1d65af63c31d\">\n",
       "    <div class=\"colab-df-container\">\n",
       "      <div>\n",
       "<style scoped>\n",
       "    .dataframe tbody tr th:only-of-type {\n",
       "        vertical-align: middle;\n",
       "    }\n",
       "\n",
       "    .dataframe tbody tr th {\n",
       "        vertical-align: top;\n",
       "    }\n",
       "\n",
       "    .dataframe thead th {\n",
       "        text-align: right;\n",
       "    }\n",
       "</style>\n",
       "<table border=\"1\" class=\"dataframe\">\n",
       "  <thead>\n",
       "    <tr style=\"text-align: right;\">\n",
       "      <th></th>\n",
       "      <th>id</th>\n",
       "      <th>keyword</th>\n",
       "      <th>location</th>\n",
       "      <th>text</th>\n",
       "    </tr>\n",
       "  </thead>\n",
       "  <tbody>\n",
       "    <tr>\n",
       "      <th>0</th>\n",
       "      <td>0</td>\n",
       "      <td>NaN</td>\n",
       "      <td>NaN</td>\n",
       "      <td>Just happened a terrible car crash</td>\n",
       "    </tr>\n",
       "    <tr>\n",
       "      <th>1</th>\n",
       "      <td>2</td>\n",
       "      <td>NaN</td>\n",
       "      <td>NaN</td>\n",
       "      <td>Heard about #earthquake is different cities, s...</td>\n",
       "    </tr>\n",
       "    <tr>\n",
       "      <th>2</th>\n",
       "      <td>3</td>\n",
       "      <td>NaN</td>\n",
       "      <td>NaN</td>\n",
       "      <td>there is a forest fire at spot pond, geese are...</td>\n",
       "    </tr>\n",
       "    <tr>\n",
       "      <th>3</th>\n",
       "      <td>9</td>\n",
       "      <td>NaN</td>\n",
       "      <td>NaN</td>\n",
       "      <td>Apocalypse lighting. #Spokane #wildfires</td>\n",
       "    </tr>\n",
       "    <tr>\n",
       "      <th>4</th>\n",
       "      <td>11</td>\n",
       "      <td>NaN</td>\n",
       "      <td>NaN</td>\n",
       "      <td>Typhoon Soudelor kills 28 in China and Taiwan</td>\n",
       "    </tr>\n",
       "  </tbody>\n",
       "</table>\n",
       "</div>\n",
       "      <button class=\"colab-df-convert\" onclick=\"convertToInteractive('df-399ecab7-6c5e-40b9-a8e1-1d65af63c31d')\"\n",
       "              title=\"Convert this dataframe to an interactive table.\"\n",
       "              style=\"display:none;\">\n",
       "        \n",
       "  <svg xmlns=\"http://www.w3.org/2000/svg\" height=\"24px\"viewBox=\"0 0 24 24\"\n",
       "       width=\"24px\">\n",
       "    <path d=\"M0 0h24v24H0V0z\" fill=\"none\"/>\n",
       "    <path d=\"M18.56 5.44l.94 2.06.94-2.06 2.06-.94-2.06-.94-.94-2.06-.94 2.06-2.06.94zm-11 1L8.5 8.5l.94-2.06 2.06-.94-2.06-.94L8.5 2.5l-.94 2.06-2.06.94zm10 10l.94 2.06.94-2.06 2.06-.94-2.06-.94-.94-2.06-.94 2.06-2.06.94z\"/><path d=\"M17.41 7.96l-1.37-1.37c-.4-.4-.92-.59-1.43-.59-.52 0-1.04.2-1.43.59L10.3 9.45l-7.72 7.72c-.78.78-.78 2.05 0 2.83L4 21.41c.39.39.9.59 1.41.59.51 0 1.02-.2 1.41-.59l7.78-7.78 2.81-2.81c.8-.78.8-2.07 0-2.86zM5.41 20L4 18.59l7.72-7.72 1.47 1.35L5.41 20z\"/>\n",
       "  </svg>\n",
       "      </button>\n",
       "      \n",
       "  <style>\n",
       "    .colab-df-container {\n",
       "      display:flex;\n",
       "      flex-wrap:wrap;\n",
       "      gap: 12px;\n",
       "    }\n",
       "\n",
       "    .colab-df-convert {\n",
       "      background-color: #E8F0FE;\n",
       "      border: none;\n",
       "      border-radius: 50%;\n",
       "      cursor: pointer;\n",
       "      display: none;\n",
       "      fill: #1967D2;\n",
       "      height: 32px;\n",
       "      padding: 0 0 0 0;\n",
       "      width: 32px;\n",
       "    }\n",
       "\n",
       "    .colab-df-convert:hover {\n",
       "      background-color: #E2EBFA;\n",
       "      box-shadow: 0px 1px 2px rgba(60, 64, 67, 0.3), 0px 1px 3px 1px rgba(60, 64, 67, 0.15);\n",
       "      fill: #174EA6;\n",
       "    }\n",
       "\n",
       "    [theme=dark] .colab-df-convert {\n",
       "      background-color: #3B4455;\n",
       "      fill: #D2E3FC;\n",
       "    }\n",
       "\n",
       "    [theme=dark] .colab-df-convert:hover {\n",
       "      background-color: #434B5C;\n",
       "      box-shadow: 0px 1px 3px 1px rgba(0, 0, 0, 0.15);\n",
       "      filter: drop-shadow(0px 1px 2px rgba(0, 0, 0, 0.3));\n",
       "      fill: #FFFFFF;\n",
       "    }\n",
       "  </style>\n",
       "\n",
       "      <script>\n",
       "        const buttonEl =\n",
       "          document.querySelector('#df-399ecab7-6c5e-40b9-a8e1-1d65af63c31d button.colab-df-convert');\n",
       "        buttonEl.style.display =\n",
       "          google.colab.kernel.accessAllowed ? 'block' : 'none';\n",
       "\n",
       "        async function convertToInteractive(key) {\n",
       "          const element = document.querySelector('#df-399ecab7-6c5e-40b9-a8e1-1d65af63c31d');\n",
       "          const dataTable =\n",
       "            await google.colab.kernel.invokeFunction('convertToInteractive',\n",
       "                                                     [key], {});\n",
       "          if (!dataTable) return;\n",
       "\n",
       "          const docLinkHtml = 'Like what you see? Visit the ' +\n",
       "            '<a target=\"_blank\" href=https://colab.research.google.com/notebooks/data_table.ipynb>data table notebook</a>'\n",
       "            + ' to learn more about interactive tables.';\n",
       "          element.innerHTML = '';\n",
       "          dataTable['output_type'] = 'display_data';\n",
       "          await google.colab.output.renderOutput(dataTable, element);\n",
       "          const docLink = document.createElement('div');\n",
       "          docLink.innerHTML = docLinkHtml;\n",
       "          element.appendChild(docLink);\n",
       "        }\n",
       "      </script>\n",
       "    </div>\n",
       "  </div>\n",
       "  "
      ],
      "text/plain": [
       "   id keyword location                                               text\n",
       "0   0     NaN      NaN                 Just happened a terrible car crash\n",
       "1   2     NaN      NaN  Heard about #earthquake is different cities, s...\n",
       "2   3     NaN      NaN  there is a forest fire at spot pond, geese are...\n",
       "3   9     NaN      NaN           Apocalypse lighting. #Spokane #wildfires\n",
       "4  11     NaN      NaN      Typhoon Soudelor kills 28 in China and Taiwan"
      ]
     },
     "execution_count": 22,
     "metadata": {},
     "output_type": "execute_result"
    }
   ],
   "source": [
    "test_df.head()"
   ]
  },
  {
   "cell_type": "code",
   "execution_count": null,
   "id": "ia-ja7qAatuj",
   "metadata": {
    "colab": {
     "base_uri": "https://localhost:8080/"
    },
    "id": "ia-ja7qAatuj",
    "outputId": "2f638de8-b75b-4805-8225-7ac9a88e7c86"
   },
   "outputs": [
    {
     "name": "stdout",
     "output_type": "stream",
     "text": [
      "102/102 [==============================] - 10s 43ms/step\n"
     ]
    }
   ],
   "source": [
    "# Make predictions with the model\n",
    "pred_probs = model_6.predict(test_df['text'].to_numpy())\n",
    "\n",
    "# Convert prediction probs to labels\n",
    "preds = tf.squeeze(tf.round(pred_probs))\n",
    "preds = tf.cast(preds , dtype = tf.int32)"
   ]
  },
  {
   "cell_type": "code",
   "execution_count": null,
   "id": "-RQxuDEleVIw",
   "metadata": {
    "colab": {
     "base_uri": "https://localhost:8080/",
     "height": 423
    },
    "id": "-RQxuDEleVIw",
    "outputId": "c9c0e4b4-a217-4bd6-dd3f-829e374636bf"
   },
   "outputs": [
    {
     "data": {
      "text/html": [
       "\n",
       "  <div id=\"df-a54abffe-b554-4cd1-a164-76c6c7c8738f\">\n",
       "    <div class=\"colab-df-container\">\n",
       "      <div>\n",
       "<style scoped>\n",
       "    .dataframe tbody tr th:only-of-type {\n",
       "        vertical-align: middle;\n",
       "    }\n",
       "\n",
       "    .dataframe tbody tr th {\n",
       "        vertical-align: top;\n",
       "    }\n",
       "\n",
       "    .dataframe thead th {\n",
       "        text-align: right;\n",
       "    }\n",
       "</style>\n",
       "<table border=\"1\" class=\"dataframe\">\n",
       "  <thead>\n",
       "    <tr style=\"text-align: right;\">\n",
       "      <th></th>\n",
       "      <th>id</th>\n",
       "      <th>target</th>\n",
       "    </tr>\n",
       "  </thead>\n",
       "  <tbody>\n",
       "    <tr>\n",
       "      <th>0</th>\n",
       "      <td>0</td>\n",
       "      <td>1</td>\n",
       "    </tr>\n",
       "    <tr>\n",
       "      <th>1</th>\n",
       "      <td>2</td>\n",
       "      <td>1</td>\n",
       "    </tr>\n",
       "    <tr>\n",
       "      <th>2</th>\n",
       "      <td>3</td>\n",
       "      <td>1</td>\n",
       "    </tr>\n",
       "    <tr>\n",
       "      <th>3</th>\n",
       "      <td>9</td>\n",
       "      <td>1</td>\n",
       "    </tr>\n",
       "    <tr>\n",
       "      <th>4</th>\n",
       "      <td>11</td>\n",
       "      <td>1</td>\n",
       "    </tr>\n",
       "    <tr>\n",
       "      <th>...</th>\n",
       "      <td>...</td>\n",
       "      <td>...</td>\n",
       "    </tr>\n",
       "    <tr>\n",
       "      <th>3258</th>\n",
       "      <td>10861</td>\n",
       "      <td>1</td>\n",
       "    </tr>\n",
       "    <tr>\n",
       "      <th>3259</th>\n",
       "      <td>10865</td>\n",
       "      <td>1</td>\n",
       "    </tr>\n",
       "    <tr>\n",
       "      <th>3260</th>\n",
       "      <td>10868</td>\n",
       "      <td>1</td>\n",
       "    </tr>\n",
       "    <tr>\n",
       "      <th>3261</th>\n",
       "      <td>10874</td>\n",
       "      <td>1</td>\n",
       "    </tr>\n",
       "    <tr>\n",
       "      <th>3262</th>\n",
       "      <td>10875</td>\n",
       "      <td>0</td>\n",
       "    </tr>\n",
       "  </tbody>\n",
       "</table>\n",
       "<p>3263 rows × 2 columns</p>\n",
       "</div>\n",
       "      <button class=\"colab-df-convert\" onclick=\"convertToInteractive('df-a54abffe-b554-4cd1-a164-76c6c7c8738f')\"\n",
       "              title=\"Convert this dataframe to an interactive table.\"\n",
       "              style=\"display:none;\">\n",
       "        \n",
       "  <svg xmlns=\"http://www.w3.org/2000/svg\" height=\"24px\"viewBox=\"0 0 24 24\"\n",
       "       width=\"24px\">\n",
       "    <path d=\"M0 0h24v24H0V0z\" fill=\"none\"/>\n",
       "    <path d=\"M18.56 5.44l.94 2.06.94-2.06 2.06-.94-2.06-.94-.94-2.06-.94 2.06-2.06.94zm-11 1L8.5 8.5l.94-2.06 2.06-.94-2.06-.94L8.5 2.5l-.94 2.06-2.06.94zm10 10l.94 2.06.94-2.06 2.06-.94-2.06-.94-.94-2.06-.94 2.06-2.06.94z\"/><path d=\"M17.41 7.96l-1.37-1.37c-.4-.4-.92-.59-1.43-.59-.52 0-1.04.2-1.43.59L10.3 9.45l-7.72 7.72c-.78.78-.78 2.05 0 2.83L4 21.41c.39.39.9.59 1.41.59.51 0 1.02-.2 1.41-.59l7.78-7.78 2.81-2.81c.8-.78.8-2.07 0-2.86zM5.41 20L4 18.59l7.72-7.72 1.47 1.35L5.41 20z\"/>\n",
       "  </svg>\n",
       "      </button>\n",
       "      \n",
       "  <style>\n",
       "    .colab-df-container {\n",
       "      display:flex;\n",
       "      flex-wrap:wrap;\n",
       "      gap: 12px;\n",
       "    }\n",
       "\n",
       "    .colab-df-convert {\n",
       "      background-color: #E8F0FE;\n",
       "      border: none;\n",
       "      border-radius: 50%;\n",
       "      cursor: pointer;\n",
       "      display: none;\n",
       "      fill: #1967D2;\n",
       "      height: 32px;\n",
       "      padding: 0 0 0 0;\n",
       "      width: 32px;\n",
       "    }\n",
       "\n",
       "    .colab-df-convert:hover {\n",
       "      background-color: #E2EBFA;\n",
       "      box-shadow: 0px 1px 2px rgba(60, 64, 67, 0.3), 0px 1px 3px 1px rgba(60, 64, 67, 0.15);\n",
       "      fill: #174EA6;\n",
       "    }\n",
       "\n",
       "    [theme=dark] .colab-df-convert {\n",
       "      background-color: #3B4455;\n",
       "      fill: #D2E3FC;\n",
       "    }\n",
       "\n",
       "    [theme=dark] .colab-df-convert:hover {\n",
       "      background-color: #434B5C;\n",
       "      box-shadow: 0px 1px 3px 1px rgba(0, 0, 0, 0.15);\n",
       "      filter: drop-shadow(0px 1px 2px rgba(0, 0, 0, 0.3));\n",
       "      fill: #FFFFFF;\n",
       "    }\n",
       "  </style>\n",
       "\n",
       "      <script>\n",
       "        const buttonEl =\n",
       "          document.querySelector('#df-a54abffe-b554-4cd1-a164-76c6c7c8738f button.colab-df-convert');\n",
       "        buttonEl.style.display =\n",
       "          google.colab.kernel.accessAllowed ? 'block' : 'none';\n",
       "\n",
       "        async function convertToInteractive(key) {\n",
       "          const element = document.querySelector('#df-a54abffe-b554-4cd1-a164-76c6c7c8738f');\n",
       "          const dataTable =\n",
       "            await google.colab.kernel.invokeFunction('convertToInteractive',\n",
       "                                                     [key], {});\n",
       "          if (!dataTable) return;\n",
       "\n",
       "          const docLinkHtml = 'Like what you see? Visit the ' +\n",
       "            '<a target=\"_blank\" href=https://colab.research.google.com/notebooks/data_table.ipynb>data table notebook</a>'\n",
       "            + ' to learn more about interactive tables.';\n",
       "          element.innerHTML = '';\n",
       "          dataTable['output_type'] = 'display_data';\n",
       "          await google.colab.output.renderOutput(dataTable, element);\n",
       "          const docLink = document.createElement('div');\n",
       "          docLink.innerHTML = docLinkHtml;\n",
       "          element.appendChild(docLink);\n",
       "        }\n",
       "      </script>\n",
       "    </div>\n",
       "  </div>\n",
       "  "
      ],
      "text/plain": [
       "         id  target\n",
       "0         0       1\n",
       "1         2       1\n",
       "2         3       1\n",
       "3         9       1\n",
       "4        11       1\n",
       "...     ...     ...\n",
       "3258  10861       1\n",
       "3259  10865       1\n",
       "3260  10868       1\n",
       "3261  10874       1\n",
       "3262  10875       0\n",
       "\n",
       "[3263 rows x 2 columns]"
      ]
     },
     "execution_count": 24,
     "metadata": {},
     "output_type": "execute_result"
    }
   ],
   "source": [
    "submission = pd.DataFrame({'id': test_df['id'].values , \n",
    "                           'target': (preds.numpy())})\n",
    "submission"
   ]
  },
  {
   "cell_type": "code",
   "execution_count": null,
   "id": "Yxj55fXTeXcn",
   "metadata": {
    "id": "Yxj55fXTeXcn"
   },
   "outputs": [],
   "source": [
    "submission.to_csv('submission.csv' , index = False)"
   ]
  },
  {
   "cell_type": "code",
   "execution_count": null,
   "id": "xd3IxTpH3qLq",
   "metadata": {
    "colab": {
     "base_uri": "https://localhost:8080/"
    },
    "id": "xd3IxTpH3qLq",
    "outputId": "3e1841cf-2b24-4d03-a853-4af5f1f4b9d3"
   },
   "outputs": [
    {
     "data": {
      "text/plain": [
       "{'accuracy': 79.26509186351706,\n",
       " 'precision': 0.8111390004213173,\n",
       " 'recall': 0.7926509186351706,\n",
       " 'f1': 0.7862189758049549}"
      ]
     },
     "execution_count": 94,
     "metadata": {},
     "output_type": "execute_result"
    }
   ],
   "source": [
    "baseline_results"
   ]
  },
  {
   "cell_type": "markdown",
   "id": "_s5vNPSpor4S",
   "metadata": {
    "id": "_s5vNPSpor4S"
   },
   "source": [
    "##  Model 7: TF Hub Pretrained USE with 10% of dataset\n"
   ]
  },
  {
   "cell_type": "code",
   "execution_count": null,
   "id": "EQmdDKUI2P3E",
   "metadata": {
    "id": "EQmdDKUI2P3E"
   },
   "outputs": [],
   "source": [
    "#Note:Making data splits like below leads to data leakage (model_7 trained on 10% data,outperform model_6 trained on 100%)\n",
    "#Dont make data splits which leak data from validation/test sets into training sets\n",
    "train_10_percent=train_df_shuffled[[\"text\",\"target\"]].sample(frac=0.1,random_state=42)\n",
    "train_sentences_10_percent=train_10_percent[\"text\"].to_list()\n",
    "train_labels_10_percent=train_10_percent[\"target\"].to_list()"
   ]
  },
  {
   "cell_type": "code",
   "execution_count": null,
   "id": "nbKyTShMGL1h",
   "metadata": {
    "id": "nbKyTShMGL1h"
   },
   "outputs": [],
   "source": [
    "#Making a better dataset split (no data leakage)\n",
    "train_10_percent_split=int(0.1 *len(train_sentences))\n",
    "train_10_percent_split\n",
    "train_sentences_10_percent=train_sentences[:train_10_percent_split] \n",
    "train_labels_10_percent=train_labels[:train_10_percent_split] "
   ]
  },
  {
   "cell_type": "code",
   "execution_count": null,
   "id": "Yr52CHJl2Tsx",
   "metadata": {
    "colab": {
     "base_uri": "https://localhost:8080/"
    },
    "id": "Yr52CHJl2Tsx",
    "outputId": "849361bb-601c-4803-8305-7d27f922cc85"
   },
   "outputs": [
    {
     "data": {
      "text/plain": [
       "0    413\n",
       "1    348\n",
       "Name: target, dtype: int64"
      ]
     },
     "execution_count": 97,
     "metadata": {},
     "output_type": "execute_result"
    }
   ],
   "source": [
    "#No of targets in our subset of data\n",
    "train_10_percent[\"target\"].value_counts()"
   ]
  },
  {
   "cell_type": "code",
   "execution_count": null,
   "id": "AFC-bst32Vox",
   "metadata": {
    "colab": {
     "base_uri": "https://localhost:8080/"
    },
    "id": "AFC-bst32Vox",
    "outputId": "a31bf875-c4de-4339-ef29-079865d7e0e9"
   },
   "outputs": [
    {
     "name": "stdout",
     "output_type": "stream",
     "text": [
      "Model: \"model_6_USE\"\n",
      "_________________________________________________________________\n",
      " Layer (type)                Output Shape              Param #   \n",
      "=================================================================\n",
      " USE (KerasLayer)            (None, 512)               256797824 \n",
      "                                                                 \n",
      " dense_5 (Dense)             (None, 64)                32832     \n",
      "                                                                 \n",
      " Output_layer (Dense)        (None, 1)                 65        \n",
      "                                                                 \n",
      "=================================================================\n",
      "Total params: 256,830,721\n",
      "Trainable params: 32,897\n",
      "Non-trainable params: 256,797,824\n",
      "_________________________________________________________________\n"
     ]
    }
   ],
   "source": [
    "# Clone model_6 but reset weights\n",
    "model_7 = tf.keras.models.clone_model(model_6)\n",
    "\n",
    "# Compile model\n",
    "model_7.compile(loss=\"binary_crossentropy\",\n",
    "                optimizer=tf.keras.optimizers.Adam(),\n",
    "                metrics=[\"accuracy\"])\n",
    "\n",
    "# Get a summary (will be same as model_6)\n",
    "model_7.summary()"
   ]
  },
  {
   "cell_type": "code",
   "execution_count": null,
   "id": "iiXrhrBH5Cjz",
   "metadata": {
    "colab": {
     "base_uri": "https://localhost:8080/"
    },
    "id": "iiXrhrBH5Cjz",
    "outputId": "237dcf64-360e-4739-c005-1f5b0302af89"
   },
   "outputs": [
    {
     "name": "stdout",
     "output_type": "stream",
     "text": [
      "Saving TensorBoard log files to: model_logs/tf_hub_sentence_encoder_10_percent/20230309-152032\n",
      "Epoch 1/5\n",
      "22/22 [==============================] - 4s 48ms/step - loss: 0.6653 - accuracy: 0.6993 - val_loss: 0.6447 - val_accuracy: 0.7257\n",
      "Epoch 2/5\n",
      "22/22 [==============================] - 1s 27ms/step - loss: 0.5944 - accuracy: 0.7956 - val_loss: 0.5895 - val_accuracy: 0.7651\n",
      "Epoch 3/5\n",
      "22/22 [==============================] - 1s 28ms/step - loss: 0.5210 - accuracy: 0.8219 - val_loss: 0.5382 - val_accuracy: 0.7822\n",
      "Epoch 4/5\n",
      "22/22 [==============================] - 1s 50ms/step - loss: 0.4625 - accuracy: 0.8248 - val_loss: 0.5074 - val_accuracy: 0.7782\n",
      "Epoch 5/5\n",
      "22/22 [==============================] - 1s 51ms/step - loss: 0.4213 - accuracy: 0.8350 - val_loss: 0.4906 - val_accuracy: 0.7782\n"
     ]
    }
   ],
   "source": [
    "# Fit the model to 10% training subset\n",
    "model_7_history=model_7.fit(train_sentences_10_percent,\n",
    "                            train_labels_10_percent,\n",
    "                            epochs=5,\n",
    "                            validation_data=(val_sentences,val_labels),\n",
    "                            callbacks=[create_tensorboard_callback(save_dir,\"tf_hub_sentence_encoder_10_percent\")]\n",
    "                            )"
   ]
  },
  {
   "cell_type": "code",
   "execution_count": null,
   "id": "Gg7Ca2Lm6W9_",
   "metadata": {
    "colab": {
     "base_uri": "https://localhost:8080/"
    },
    "id": "Gg7Ca2Lm6W9_",
    "outputId": "65a46b75-66c2-4902-cfd6-808f2dc46404"
   },
   "outputs": [
    {
     "name": "stdout",
     "output_type": "stream",
     "text": [
      "24/24 [==============================] - 1s 10ms/step\n"
     ]
    },
    {
     "data": {
      "text/plain": [
       "array([[0.20115642],\n",
       "       [0.6065137 ],\n",
       "       [0.89488393],\n",
       "       [0.3677258 ],\n",
       "       [0.57742876],\n",
       "       [0.70080304],\n",
       "       [0.8724013 ],\n",
       "       [0.8023221 ],\n",
       "       [0.8418231 ],\n",
       "       [0.14728297]], dtype=float32)"
      ]
     },
     "execution_count": 100,
     "metadata": {},
     "output_type": "execute_result"
    }
   ],
   "source": [
    "#Make predictions\n",
    "model_7_pred_probs=model_7.predict(val_sentences)\n",
    "model_7_pred_probs[:10]"
   ]
  },
  {
   "cell_type": "code",
   "execution_count": null,
   "id": "t4Y2Ttlg6iTL",
   "metadata": {
    "id": "t4Y2Ttlg6iTL"
   },
   "outputs": [],
   "source": [
    "#Turn it in labels\n",
    "model_7_preds=tf.squeeze(tf.round(model_7_pred_probs))"
   ]
  },
  {
   "cell_type": "code",
   "execution_count": null,
   "id": "AT2J3LDg6uJK",
   "metadata": {
    "colab": {
     "base_uri": "https://localhost:8080/"
    },
    "id": "AT2J3LDg6uJK",
    "outputId": "18990a7b-93aa-4761-d08b-0928cc5f771f"
   },
   "outputs": [
    {
     "data": {
      "text/plain": [
       "{'accuracy': 77.82152230971128,\n",
       " 'precision': 0.7798979990634543,\n",
       " 'recall': 0.7782152230971129,\n",
       " 'f1': 0.7762659531210079}"
      ]
     },
     "execution_count": 102,
     "metadata": {},
     "output_type": "execute_result"
    }
   ],
   "source": [
    "#Calculate result\n",
    "model_7_results=calculate_results(y_true=val_labels,\n",
    "                                  y_pred=model_7_preds\n",
    "                                  )\n",
    "\n",
    "model_7_results #Data leaking problem"
   ]
  },
  {
   "cell_type": "code",
   "execution_count": null,
   "id": "F6SaW48f67yR",
   "metadata": {
    "colab": {
     "base_uri": "https://localhost:8080/"
    },
    "id": "F6SaW48f67yR",
    "outputId": "a2ff1cbf-79d9-4ed8-8653-5c0560b73697"
   },
   "outputs": [
    {
     "data": {
      "text/plain": [
       "{'accuracy': 79.26509186351706,\n",
       " 'precision': 0.8111390004213173,\n",
       " 'recall': 0.7926509186351706,\n",
       " 'f1': 0.7862189758049549}"
      ]
     },
     "execution_count": 103,
     "metadata": {},
     "output_type": "execute_result"
    }
   ],
   "source": [
    "baseline_results"
   ]
  },
  {
   "cell_type": "code",
   "execution_count": null,
   "id": "sAD9VDlX8nuo",
   "metadata": {
    "colab": {
     "base_uri": "https://localhost:8080/"
    },
    "id": "sAD9VDlX8nuo",
    "outputId": "3468c0ba-1d63-4eb6-f12d-4f346a76f227"
   },
   "outputs": [
    {
     "data": {
      "text/plain": [
       "{'accuracy': 81.49606299212599,\n",
       " 'precision': 0.8172549323109193,\n",
       " 'recall': 0.8149606299212598,\n",
       " 'f1': 0.8134357776936025}"
      ]
     },
     "execution_count": 104,
     "metadata": {},
     "output_type": "execute_result"
    }
   ],
   "source": [
    "model_6_results"
   ]
  },
  {
   "cell_type": "markdown",
   "id": "rVKDjR23I3cG",
   "metadata": {
    "id": "rVKDjR23I3cG"
   },
   "source": [
    "## Comparing the performance of each of our models\n"
   ]
  },
  {
   "cell_type": "code",
   "execution_count": null,
   "id": "0v047MQfKr8P",
   "metadata": {
    "id": "0v047MQfKr8P"
   },
   "outputs": [],
   "source": [
    "# Combine model results into a DataFrame\n",
    "all_model_results=pd.DataFrame({\"0_baseline\":baseline_results,\n",
    "                                \"1_simple_dense\":model_1_results,\n",
    "                                \"2_LSTM\":model_2_results,\n",
    "                                \"3_Gru\":model_3_results,\n",
    "                                \"4_bidirectional\":model_4_results,\n",
    "                                \"5_conv1d\":model_5_results,\n",
    "                                \"6_tf_hub_use_encoder\":model_6_results,\n",
    "                                \"7_tf_hub_use_encoder_10_percent\":model_7_results\n",
    "                                \n",
    "                                \n",
    "                                })"
   ]
  },
  {
   "cell_type": "code",
   "execution_count": null,
   "id": "Bdp68GyCLwx9",
   "metadata": {
    "id": "Bdp68GyCLwx9"
   },
   "outputs": [],
   "source": [
    "all_model_results=all_model_results.transpose()"
   ]
  },
  {
   "cell_type": "code",
   "execution_count": null,
   "id": "VEXjvKK8N0jU",
   "metadata": {
    "id": "VEXjvKK8N0jU"
   },
   "outputs": [],
   "source": [
    "# Reduce the accuracy to same scale as other metrics\n",
    "all_model_results[\"accuracy\"] = all_model_results[\"accuracy\"]/100"
   ]
  },
  {
   "cell_type": "code",
   "execution_count": null,
   "id": "JaLjG8jhPedj",
   "metadata": {
    "colab": {
     "base_uri": "https://localhost:8080/",
     "height": 560
    },
    "id": "JaLjG8jhPedj",
    "outputId": "b12bf1d6-6ee2-4469-f896-f82b52062833"
   },
   "outputs": [
    {
     "data": {
      "image/png": "[encoded data removed]",
      "text/plain": [
       "<Figure size 720x504 with 1 Axes>"
      ]
     },
     "metadata": {
      "needs_background": "light"
     },
     "output_type": "display_data"
    }
   ],
   "source": [
    "# Plot and compare all of the model results\n",
    "all_model_results.plot(kind=\"bar\", figsize=(10, 7)).legend(bbox_to_anchor=(1.0, 1.0));"
   ]
  },
  {
   "cell_type": "code",
   "execution_count": null,
   "id": "bvBmnuuxQTzQ",
   "metadata": {
    "colab": {
     "base_uri": "https://localhost:8080/",
     "height": 590
    },
    "id": "bvBmnuuxQTzQ",
    "outputId": "46e5bddb-7541-44e9-c88a-451d426e7024"
   },
   "outputs": [
    {
     "data": {
      "image/png": "[encoded data removed]",
      "text/plain": [
       "<Figure size 720x504 with 1 Axes>"
      ]
     },
     "metadata": {
      "needs_background": "light"
     },
     "output_type": "display_data"
    }
   ],
   "source": [
    "# Sort model results by f1-score\n",
    "all_model_results.sort_values(\"f1\", ascending=False)[\"f1\"].plot(kind=\"bar\", figsize=(10, 7));"
   ]
  },
  {
   "cell_type": "code",
   "execution_count": null,
   "id": "KvG22stlQvz4",
   "metadata": {
    "colab": {
     "base_uri": "https://localhost:8080/"
    },
    "id": "KvG22stlQvz4",
    "outputId": "bdff034a-7bde-42b8-82a0-a58158e49b45"
   },
   "outputs": [
    {
     "name": "stdout",
     "output_type": "stream",
     "text": [
      "2023-03-09 15:20:42.744543: W tensorflow/compiler/xla/stream_executor/platform/default/dso_loader.cc:64] Could not load dynamic library 'libnvinfer.so.7'; dlerror: libnvinfer.so.7: cannot open shared object file: No such file or directory; LD_LIBRARY_PATH: /usr/lib64-nvidia\n",
      "2023-03-09 15:20:42.744659: W tensorflow/compiler/xla/stream_executor/platform/default/dso_loader.cc:64] Could not load dynamic library 'libnvinfer_plugin.so.7'; dlerror: libnvinfer_plugin.so.7: cannot open shared object file: No such file or directory; LD_LIBRARY_PATH: /usr/lib64-nvidia\n",
      "2023-03-09 15:20:42.744681: W tensorflow/compiler/tf2tensorrt/utils/py_utils.cc:38] TF-TRT Warning: Cannot dlopen some TensorRT libraries. If you would like to use Nvidia GPU with TensorRT, please make sure the missing libraries mentioned above are installed properly.\n",
      "\n",
      "***** TensorBoard Uploader *****\n",
      "\n",
      "This will upload your TensorBoard logs to https://tensorboard.dev/ from\n",
      "the following directory:\n",
      "\n",
      "./model_logs\n",
      "\n",
      "This TensorBoard will be visible to everyone. Do not upload sensitive\n",
      "data.\n",
      "\n",
      "Your use of this service is subject to Google's Terms of Service\n",
      "<https://policies.google.com/terms> and Privacy Policy\n",
      "<https://policies.google.com/privacy>, and TensorBoard.dev's Terms of Service\n",
      "<https://tensorboard.dev/policy/terms/>.\n",
      "\n",
      "This notice will not be shown again while you are logged into the uploader.\n",
      "To log out, run `tensorboard dev auth revoke`.\n",
      "\n",
      "Continue? (yes/NO) yes\n",
      "\n",
      "To sign in with the TensorBoard uploader:\n",
      "\n",
      "1. On your computer or phone, visit:\n",
      "\n",
      "   https://www.google.com/device\n",
      "\n",
      "2. Sign in with your Google account, then enter:\n",
      "\n",
      "   KGH-JVG-LSC\n",
      "\n",
      "\n",
      "\n",
      "New experiment created. View your TensorBoard at: https://tensorboard.dev/experiment/4aWruMpfRRKMbVPBPzMRCQ/\n",
      "\n",
      "\u001b[1m[2023-03-09T15:21:12]\u001b[0m Started scanning logdir.\n",
      "\u001b[1m[2023-03-09T15:21:19]\u001b[0m Total uploaded: 210 scalars, 0 tensors, 7 binary objects (2.8 MB)\n",
      "\u001b[1m[2023-03-09T15:21:19]\u001b[0m Done scanning logdir.\n",
      "\n",
      "\n",
      "Done. View your TensorBoard at https://tensorboard.dev/experiment/4aWruMpfRRKMbVPBPzMRCQ/\n"
     ]
    }
   ],
   "source": [
    "# # View tensorboard logs of transfer learning modelling experiments (should be 4 models)\n",
    "# # Upload TensorBoard dev records\n",
    "!tensorboard dev upload --logdir ./model_logs \\\n",
    "  --name \"NLP modelling experiments\" \\\n",
    "  --description \"A series of different NLP modellings experiments with various models\" \\\n",
    "  --one_shot # exits the uploader when upload has finished"
   ]
  },
  {
   "cell_type": "markdown",
   "id": "veHfFQ86UMBx",
   "metadata": {
    "id": "veHfFQ86UMBx"
   },
   "source": [
    "## Saving and loading a trained model"
   ]
  },
  {
   "cell_type": "code",
   "execution_count": null,
   "id": "e72t5J5CWrda",
   "metadata": {
    "id": "e72t5J5CWrda"
   },
   "outputs": [],
   "source": [
    "# Save TF hub sentence encoder to .h5 format\n",
    "model_6.save(\"model_6.h5\")"
   ]
  },
  {
   "cell_type": "code",
   "execution_count": null,
   "id": "f5MB9BJZXeMN",
   "metadata": {
    "id": "f5MB9BJZXeMN"
   },
   "outputs": [],
   "source": [
    "#Load model with custom hub layer\n",
    "loaded_model_6=tf.keras.models.load_model(\"model_6.h5\",\n",
    "                                          custom_objects={\"KerasLayer\":hub.KerasLayer}\n",
    "                                          )"
   ]
  },
  {
   "cell_type": "code",
   "execution_count": null,
   "id": "lFxdqlGZZGqb",
   "metadata": {
    "colab": {
     "base_uri": "https://localhost:8080/"
    },
    "id": "lFxdqlGZZGqb",
    "outputId": "03673940-492c-4eb8-e6af-76489fb7fe7a"
   },
   "outputs": [
    {
     "name": "stdout",
     "output_type": "stream",
     "text": [
      "24/24 [==============================] - 1s 11ms/step - loss: 0.4320 - accuracy: 0.8150\n"
     ]
    },
    {
     "data": {
      "text/plain": [
       "[0.4319933354854584, 0.8149606585502625]"
      ]
     },
     "execution_count": 113,
     "metadata": {},
     "output_type": "execute_result"
    }
   ],
   "source": [
    "#How does oure model perform?\n",
    "loaded_model_6.evaluate(val_sentences,val_labels)"
   ]
  },
  {
   "cell_type": "code",
   "execution_count": null,
   "id": "6i2KjkiYZyHL",
   "metadata": {
    "colab": {
     "base_uri": "https://localhost:8080/"
    },
    "id": "6i2KjkiYZyHL",
    "outputId": "f0fe9205-2146-4279-df03-1caa03f19657"
   },
   "outputs": [
    {
     "name": "stderr",
     "output_type": "stream",
     "text": [
      "WARNING:absl:Function `_wrapped_model` contains input name(s) USE_input with unsupported characters which will be renamed to use_input in the SavedModel.\n"
     ]
    }
   ],
   "source": [
    "# Save TF Hub Sentence Encoder model to SavedModel format (default)\n",
    "model_6.save(\"model_6_SavedModel_format\")"
   ]
  },
  {
   "cell_type": "code",
   "execution_count": null,
   "id": "5WW8hQdoct7E",
   "metadata": {
    "id": "5WW8hQdoct7E"
   },
   "outputs": [],
   "source": [
    "# Load TF Hub Sentence Encoder SavedModel\n",
    "loaded_model_6_SavedModel = tf.keras.models.load_model(\"model_6_SavedModel_format\")"
   ]
  },
  {
   "cell_type": "code",
   "execution_count": null,
   "id": "b7el2v--cysU",
   "metadata": {
    "colab": {
     "base_uri": "https://localhost:8080/"
    },
    "id": "b7el2v--cysU",
    "outputId": "8d0e9d71-7ee8-41b0-af27-9754e1064277"
   },
   "outputs": [
    {
     "name": "stdout",
     "output_type": "stream",
     "text": [
      "24/24 [==============================] - 1s 17ms/step - loss: 0.4320 - accuracy: 0.8150\n"
     ]
    },
    {
     "data": {
      "text/plain": [
       "[0.4319933354854584, 0.8149606585502625]"
      ]
     },
     "execution_count": 116,
     "metadata": {},
     "output_type": "execute_result"
    }
   ],
   "source": [
    "# Evaluate loaded SavedModel format\n",
    "loaded_model_6_SavedModel.evaluate(val_sentences, val_labels)"
   ]
  },
  {
   "cell_type": "markdown",
   "id": "PBDrsv1sc3XK",
   "metadata": {
    "id": "PBDrsv1sc3XK"
   },
   "source": [
    "## Finding the most wrong examples"
   ]
  },
  {
   "cell_type": "code",
   "execution_count": null,
   "id": "o-Wv5TOC_I3h",
   "metadata": {
    "colab": {
     "base_uri": "https://localhost:8080/"
    },
    "id": "o-Wv5TOC_I3h",
    "outputId": "eebea7f0-419e-4984-e45d-88f1339a21bf"
   },
   "outputs": [
    {
     "name": "stdout",
     "output_type": "stream",
     "text": [
      "--2023-03-09 15:28:57--  https://storage.googleapis.com/ztm_tf_course/08_model_6_USE_feature_extractor.zip\n",
      "Resolving storage.googleapis.com (storage.googleapis.com)... 74.125.142.128, 74.125.195.128, 172.253.117.128, ...\n",
      "Connecting to storage.googleapis.com (storage.googleapis.com)|74.125.142.128|:443... connected.\n",
      "HTTP request sent, awaiting response... 200 OK\n",
      "Length: 960779165 (916M) [application/zip]\n",
      "Saving to: ‘08_model_6_USE_feature_extractor.zip’\n",
      "\n",
      "08_model_6_USE_feat 100%[===================>] 916.27M   219MB/s    in 5.1s    \n",
      "\n",
      "2023-03-09 15:29:02 (179 MB/s) - ‘08_model_6_USE_feature_extractor.zip’ saved [960779165/960779165]\n",
      "\n"
     ]
    }
   ],
   "source": [
    "!wget https://storage.googleapis.com/ztm_tf_course/08_model_6_USE_feature_extractor.zip"
   ]
  },
  {
   "cell_type": "code",
   "execution_count": null,
   "id": "RSNyVi4T-Hfv",
   "metadata": {
    "colab": {
     "base_uri": "https://localhost:8080/"
    },
    "id": "RSNyVi4T-Hfv",
    "outputId": "e930b9b0-3d1b-444a-b087-4558ba74be15"
   },
   "outputs": [
    {
     "name": "stderr",
     "output_type": "stream",
     "text": [
      "WARNING:tensorflow:SavedModel saved prior to TF 2.5 detected when loading Keras model. Please ensure that you are saving the model with model.save() or tf.keras.models.save_model(), *NOT* tf.saved_model.save(). To confirm, there should be a file named \"keras_metadata.pb\" in the SavedModel directory.\n"
     ]
    }
   ],
   "source": [
    "# Create DataFrame with validation sentences and best  performing model predictions\n",
    "unzip_data(\"/content/08_model_6_USE_feature_extractor.zip\")\n",
    "model_6_pretrained=tf.keras.models.load_model(\"08_model_6_USE_feature_extractor\")"
   ]
  },
  {
   "cell_type": "code",
   "execution_count": null,
   "id": "dAqyAMPhCFHn",
   "metadata": {
    "colab": {
     "base_uri": "https://localhost:8080/"
    },
    "id": "dAqyAMPhCFHn",
    "outputId": "571989ad-2db5-40ef-d8c5-8016ec4a9045"
   },
   "outputs": [
    {
     "name": "stdout",
     "output_type": "stream",
     "text": [
      "Model: \"model_6_USE\"\n",
      "_________________________________________________________________\n",
      " Layer (type)                Output Shape              Param #   \n",
      "=================================================================\n",
      " USE (KerasLayer)            (None, 512)               256797824 \n",
      "                                                                 \n",
      " dense_11 (Dense)            (None, 64)                32832     \n",
      "                                                                 \n",
      " output_layer (Dense)        (None, 1)                 65        \n",
      "                                                                 \n",
      "=================================================================\n",
      "Total params: 256,830,721\n",
      "Trainable params: 32,897\n",
      "Non-trainable params: 256,797,824\n",
      "_________________________________________________________________\n"
     ]
    }
   ],
   "source": [
    "model_6_pretrained.summary()"
   ]
  },
  {
   "cell_type": "code",
   "execution_count": null,
   "id": "G5ACcrfcCR55",
   "metadata": {
    "colab": {
     "base_uri": "https://localhost:8080/"
    },
    "id": "G5ACcrfcCR55",
    "outputId": "839eb6ee-c59f-4bce-cca0-4b8129c40359"
   },
   "outputs": [
    {
     "name": "stdout",
     "output_type": "stream",
     "text": [
      "24/24 [==============================] - 2s 21ms/step - loss: 0.4272 - accuracy: 0.8163\n"
     ]
    },
    {
     "data": {
      "text/plain": [
       "[0.42723122239112854, 0.8162729740142822]"
      ]
     },
     "execution_count": 122,
     "metadata": {},
     "output_type": "execute_result"
    }
   ],
   "source": [
    "model_6_pretrained.evaluate(val_sentences,val_labels)"
   ]
  },
  {
   "cell_type": "code",
   "execution_count": null,
   "id": "p9HlzN36C-Sx",
   "metadata": {
    "colab": {
     "base_uri": "https://localhost:8080/"
    },
    "id": "p9HlzN36C-Sx",
    "outputId": "896d4c57-3573-4ed7-ddf3-2f86f0c27cc2"
   },
   "outputs": [
    {
     "name": "stdout",
     "output_type": "stream",
     "text": [
      "24/24 [==============================] - 1s 24ms/step\n"
     ]
    }
   ],
   "source": [
    "model_6_pretrained_pred_probs=model_6_pretrained.predict(val_sentences)"
   ]
  },
  {
   "cell_type": "code",
   "execution_count": null,
   "id": "2UTOLweVDt-p",
   "metadata": {
    "id": "2UTOLweVDt-p"
   },
   "outputs": [],
   "source": [
    "model_6_pretrained_preds=tf.squeeze(tf.round(model_6_pretrained_pred_probs))"
   ]
  },
  {
   "cell_type": "code",
   "execution_count": null,
   "id": "v5n7yZ4FD9Qt",
   "metadata": {
    "colab": {
     "base_uri": "https://localhost:8080/"
    },
    "id": "v5n7yZ4FD9Qt",
    "outputId": "5db2dc20-2b3b-43a5-d1b0-52031951f1ac"
   },
   "outputs": [
    {
     "data": {
      "text/plain": [
       "<tf.Tensor: shape=(10,), dtype=float32, numpy=array([0., 1., 1., 0., 1., 1., 1., 1., 1., 0.], dtype=float32)>"
      ]
     },
     "execution_count": 128,
     "metadata": {},
     "output_type": "execute_result"
    }
   ],
   "source": [
    "model_6_pretrained_preds[:10]"
   ]
  },
  {
   "cell_type": "code",
   "execution_count": null,
   "id": "ClMzkg8hD_8_",
   "metadata": {
    "colab": {
     "base_uri": "https://localhost:8080/",
     "height": 206
    },
    "id": "ClMzkg8hD_8_",
    "outputId": "ba39ea08-8335-46fa-b025-05f00deaf874"
   },
   "outputs": [
    {
     "data": {
      "text/html": [
       "\n",
       "  <div id=\"df-a836dd35-f2cf-4a92-a783-cfeef4be20bd\">\n",
       "    <div class=\"colab-df-container\">\n",
       "      <div>\n",
       "<style scoped>\n",
       "    .dataframe tbody tr th:only-of-type {\n",
       "        vertical-align: middle;\n",
       "    }\n",
       "\n",
       "    .dataframe tbody tr th {\n",
       "        vertical-align: top;\n",
       "    }\n",
       "\n",
       "    .dataframe thead th {\n",
       "        text-align: right;\n",
       "    }\n",
       "</style>\n",
       "<table border=\"1\" class=\"dataframe\">\n",
       "  <thead>\n",
       "    <tr style=\"text-align: right;\">\n",
       "      <th></th>\n",
       "      <th>text</th>\n",
       "      <th>target</th>\n",
       "      <th>pred</th>\n",
       "      <th>pred_prob</th>\n",
       "    </tr>\n",
       "  </thead>\n",
       "  <tbody>\n",
       "    <tr>\n",
       "      <th>0</th>\n",
       "      <td>DFR EP016 Monthly Meltdown - On Dnbheaven 2015...</td>\n",
       "      <td>0</td>\n",
       "      <td>0.0</td>\n",
       "      <td>0.159757</td>\n",
       "    </tr>\n",
       "    <tr>\n",
       "      <th>1</th>\n",
       "      <td>FedEx no longer to transport bioterror germs i...</td>\n",
       "      <td>0</td>\n",
       "      <td>1.0</td>\n",
       "      <td>0.747162</td>\n",
       "    </tr>\n",
       "    <tr>\n",
       "      <th>2</th>\n",
       "      <td>Gunmen kill four in El Salvador bus attack: Su...</td>\n",
       "      <td>1</td>\n",
       "      <td>1.0</td>\n",
       "      <td>0.988749</td>\n",
       "    </tr>\n",
       "    <tr>\n",
       "      <th>3</th>\n",
       "      <td>@camilacabello97 Internally and externally scr...</td>\n",
       "      <td>1</td>\n",
       "      <td>0.0</td>\n",
       "      <td>0.196229</td>\n",
       "    </tr>\n",
       "    <tr>\n",
       "      <th>4</th>\n",
       "      <td>Radiation emergency #preparedness starts with ...</td>\n",
       "      <td>1</td>\n",
       "      <td>1.0</td>\n",
       "      <td>0.707808</td>\n",
       "    </tr>\n",
       "  </tbody>\n",
       "</table>\n",
       "</div>\n",
       "      <button class=\"colab-df-convert\" onclick=\"convertToInteractive('df-a836dd35-f2cf-4a92-a783-cfeef4be20bd')\"\n",
       "              title=\"Convert this dataframe to an interactive table.\"\n",
       "              style=\"display:none;\">\n",
       "        \n",
       "  <svg xmlns=\"http://www.w3.org/2000/svg\" height=\"24px\"viewBox=\"0 0 24 24\"\n",
       "       width=\"24px\">\n",
       "    <path d=\"M0 0h24v24H0V0z\" fill=\"none\"/>\n",
       "    <path d=\"M18.56 5.44l.94 2.06.94-2.06 2.06-.94-2.06-.94-.94-2.06-.94 2.06-2.06.94zm-11 1L8.5 8.5l.94-2.06 2.06-.94-2.06-.94L8.5 2.5l-.94 2.06-2.06.94zm10 10l.94 2.06.94-2.06 2.06-.94-2.06-.94-.94-2.06-.94 2.06-2.06.94z\"/><path d=\"M17.41 7.96l-1.37-1.37c-.4-.4-.92-.59-1.43-.59-.52 0-1.04.2-1.43.59L10.3 9.45l-7.72 7.72c-.78.78-.78 2.05 0 2.83L4 21.41c.39.39.9.59 1.41.59.51 0 1.02-.2 1.41-.59l7.78-7.78 2.81-2.81c.8-.78.8-2.07 0-2.86zM5.41 20L4 18.59l7.72-7.72 1.47 1.35L5.41 20z\"/>\n",
       "  </svg>\n",
       "      </button>\n",
       "      \n",
       "  <style>\n",
       "    .colab-df-container {\n",
       "      display:flex;\n",
       "      flex-wrap:wrap;\n",
       "      gap: 12px;\n",
       "    }\n",
       "\n",
       "    .colab-df-convert {\n",
       "      background-color: #E8F0FE;\n",
       "      border: none;\n",
       "      border-radius: 50%;\n",
       "      cursor: pointer;\n",
       "      display: none;\n",
       "      fill: #1967D2;\n",
       "      height: 32px;\n",
       "      padding: 0 0 0 0;\n",
       "      width: 32px;\n",
       "    }\n",
       "\n",
       "    .colab-df-convert:hover {\n",
       "      background-color: #E2EBFA;\n",
       "      box-shadow: 0px 1px 2px rgba(60, 64, 67, 0.3), 0px 1px 3px 1px rgba(60, 64, 67, 0.15);\n",
       "      fill: #174EA6;\n",
       "    }\n",
       "\n",
       "    [theme=dark] .colab-df-convert {\n",
       "      background-color: #3B4455;\n",
       "      fill: #D2E3FC;\n",
       "    }\n",
       "\n",
       "    [theme=dark] .colab-df-convert:hover {\n",
       "      background-color: #434B5C;\n",
       "      box-shadow: 0px 1px 3px 1px rgba(0, 0, 0, 0.15);\n",
       "      filter: drop-shadow(0px 1px 2px rgba(0, 0, 0, 0.3));\n",
       "      fill: #FFFFFF;\n",
       "    }\n",
       "  </style>\n",
       "\n",
       "      <script>\n",
       "        const buttonEl =\n",
       "          document.querySelector('#df-a836dd35-f2cf-4a92-a783-cfeef4be20bd button.colab-df-convert');\n",
       "        buttonEl.style.display =\n",
       "          google.colab.kernel.accessAllowed ? 'block' : 'none';\n",
       "\n",
       "        async function convertToInteractive(key) {\n",
       "          const element = document.querySelector('#df-a836dd35-f2cf-4a92-a783-cfeef4be20bd');\n",
       "          const dataTable =\n",
       "            await google.colab.kernel.invokeFunction('convertToInteractive',\n",
       "                                                     [key], {});\n",
       "          if (!dataTable) return;\n",
       "\n",
       "          const docLinkHtml = 'Like what you see? Visit the ' +\n",
       "            '<a target=\"_blank\" href=https://colab.research.google.com/notebooks/data_table.ipynb>data table notebook</a>'\n",
       "            + ' to learn more about interactive tables.';\n",
       "          element.innerHTML = '';\n",
       "          dataTable['output_type'] = 'display_data';\n",
       "          await google.colab.output.renderOutput(dataTable, element);\n",
       "          const docLink = document.createElement('div');\n",
       "          docLink.innerHTML = docLinkHtml;\n",
       "          element.appendChild(docLink);\n",
       "        }\n",
       "      </script>\n",
       "    </div>\n",
       "  </div>\n",
       "  "
      ],
      "text/plain": [
       "                                                text  target  pred  pred_prob\n",
       "0  DFR EP016 Monthly Meltdown - On Dnbheaven 2015...       0   0.0   0.159757\n",
       "1  FedEx no longer to transport bioterror germs i...       0   1.0   0.747162\n",
       "2  Gunmen kill four in El Salvador bus attack: Su...       1   1.0   0.988749\n",
       "3  @camilacabello97 Internally and externally scr...       1   0.0   0.196229\n",
       "4  Radiation emergency #preparedness starts with ...       1   1.0   0.707808"
      ]
     },
     "execution_count": 130,
     "metadata": {},
     "output_type": "execute_result"
    }
   ],
   "source": [
    "# Create dataframe with validation sentences and best performing model predictions\n",
    "val_df=pd.DataFrame({\"text\":val_sentences,\n",
    "                     \"target\":val_labels,\n",
    "                     \"pred\":model_6_pretrained_preds,\n",
    "                     \"pred_prob\":tf.squeeze(model_6_pretrained_pred_probs)\n",
    "                     })\n",
    "val_df.head()"
   ]
  },
  {
   "cell_type": "code",
   "execution_count": null,
   "id": "fJNUqHg3HlM3",
   "metadata": {
    "colab": {
     "base_uri": "https://localhost:8080/",
     "height": 407
    },
    "id": "fJNUqHg3HlM3",
    "outputId": "3631c416-7e20-49a7-a7a5-065e1c00d0a2"
   },
   "outputs": [
    {
     "data": {
      "text/html": [
       "\n",
       "  <div id=\"df-1b4c6093-8c12-40df-8e17-9b8bbad6c9ca\">\n",
       "    <div class=\"colab-df-container\">\n",
       "      <div>\n",
       "<style scoped>\n",
       "    .dataframe tbody tr th:only-of-type {\n",
       "        vertical-align: middle;\n",
       "    }\n",
       "\n",
       "    .dataframe tbody tr th {\n",
       "        vertical-align: top;\n",
       "    }\n",
       "\n",
       "    .dataframe thead th {\n",
       "        text-align: right;\n",
       "    }\n",
       "</style>\n",
       "<table border=\"1\" class=\"dataframe\">\n",
       "  <thead>\n",
       "    <tr style=\"text-align: right;\">\n",
       "      <th></th>\n",
       "      <th>text</th>\n",
       "      <th>target</th>\n",
       "      <th>pred</th>\n",
       "      <th>pred_prob</th>\n",
       "    </tr>\n",
       "  </thead>\n",
       "  <tbody>\n",
       "    <tr>\n",
       "      <th>31</th>\n",
       "      <td>? High Skies - Burning Buildings ? http://t.co...</td>\n",
       "      <td>0</td>\n",
       "      <td>1.0</td>\n",
       "      <td>0.910196</td>\n",
       "    </tr>\n",
       "    <tr>\n",
       "      <th>759</th>\n",
       "      <td>FedEx will no longer transport bioterror patho...</td>\n",
       "      <td>0</td>\n",
       "      <td>1.0</td>\n",
       "      <td>0.876982</td>\n",
       "    </tr>\n",
       "    <tr>\n",
       "      <th>628</th>\n",
       "      <td>@noah_anyname That's where the concentration c...</td>\n",
       "      <td>0</td>\n",
       "      <td>1.0</td>\n",
       "      <td>0.852300</td>\n",
       "    </tr>\n",
       "    <tr>\n",
       "      <th>209</th>\n",
       "      <td>Ashes 2015: AustraliaÛªs collapse at Trent Br...</td>\n",
       "      <td>0</td>\n",
       "      <td>1.0</td>\n",
       "      <td>0.835454</td>\n",
       "    </tr>\n",
       "    <tr>\n",
       "      <th>251</th>\n",
       "      <td>@AshGhebranious civil rights continued in the ...</td>\n",
       "      <td>0</td>\n",
       "      <td>1.0</td>\n",
       "      <td>0.827213</td>\n",
       "    </tr>\n",
       "    <tr>\n",
       "      <th>393</th>\n",
       "      <td>@SonofLiberty357 all illuminated by the bright...</td>\n",
       "      <td>0</td>\n",
       "      <td>1.0</td>\n",
       "      <td>0.814816</td>\n",
       "    </tr>\n",
       "    <tr>\n",
       "      <th>109</th>\n",
       "      <td>[55436] 1950 LIONEL TRAINS SMOKE LOCOMOTIVES W...</td>\n",
       "      <td>0</td>\n",
       "      <td>1.0</td>\n",
       "      <td>0.810840</td>\n",
       "    </tr>\n",
       "    <tr>\n",
       "      <th>49</th>\n",
       "      <td>@madonnamking RSPCA site multiple 7 story high...</td>\n",
       "      <td>0</td>\n",
       "      <td>1.0</td>\n",
       "      <td>0.803122</td>\n",
       "    </tr>\n",
       "    <tr>\n",
       "      <th>119</th>\n",
       "      <td>@freefromwolves GodsLove &amp;amp; #thankU brother...</td>\n",
       "      <td>0</td>\n",
       "      <td>1.0</td>\n",
       "      <td>0.766901</td>\n",
       "    </tr>\n",
       "    <tr>\n",
       "      <th>344</th>\n",
       "      <td>Air Group is here to the rescue! We have 24/7 ...</td>\n",
       "      <td>0</td>\n",
       "      <td>1.0</td>\n",
       "      <td>0.766625</td>\n",
       "    </tr>\n",
       "  </tbody>\n",
       "</table>\n",
       "</div>\n",
       "      <button class=\"colab-df-convert\" onclick=\"convertToInteractive('df-1b4c6093-8c12-40df-8e17-9b8bbad6c9ca')\"\n",
       "              title=\"Convert this dataframe to an interactive table.\"\n",
       "              style=\"display:none;\">\n",
       "        \n",
       "  <svg xmlns=\"http://www.w3.org/2000/svg\" height=\"24px\"viewBox=\"0 0 24 24\"\n",
       "       width=\"24px\">\n",
       "    <path d=\"M0 0h24v24H0V0z\" fill=\"none\"/>\n",
       "    <path d=\"M18.56 5.44l.94 2.06.94-2.06 2.06-.94-2.06-.94-.94-2.06-.94 2.06-2.06.94zm-11 1L8.5 8.5l.94-2.06 2.06-.94-2.06-.94L8.5 2.5l-.94 2.06-2.06.94zm10 10l.94 2.06.94-2.06 2.06-.94-2.06-.94-.94-2.06-.94 2.06-2.06.94z\"/><path d=\"M17.41 7.96l-1.37-1.37c-.4-.4-.92-.59-1.43-.59-.52 0-1.04.2-1.43.59L10.3 9.45l-7.72 7.72c-.78.78-.78 2.05 0 2.83L4 21.41c.39.39.9.59 1.41.59.51 0 1.02-.2 1.41-.59l7.78-7.78 2.81-2.81c.8-.78.8-2.07 0-2.86zM5.41 20L4 18.59l7.72-7.72 1.47 1.35L5.41 20z\"/>\n",
       "  </svg>\n",
       "      </button>\n",
       "      \n",
       "  <style>\n",
       "    .colab-df-container {\n",
       "      display:flex;\n",
       "      flex-wrap:wrap;\n",
       "      gap: 12px;\n",
       "    }\n",
       "\n",
       "    .colab-df-convert {\n",
       "      background-color: #E8F0FE;\n",
       "      border: none;\n",
       "      border-radius: 50%;\n",
       "      cursor: pointer;\n",
       "      display: none;\n",
       "      fill: #1967D2;\n",
       "      height: 32px;\n",
       "      padding: 0 0 0 0;\n",
       "      width: 32px;\n",
       "    }\n",
       "\n",
       "    .colab-df-convert:hover {\n",
       "      background-color: #E2EBFA;\n",
       "      box-shadow: 0px 1px 2px rgba(60, 64, 67, 0.3), 0px 1px 3px 1px rgba(60, 64, 67, 0.15);\n",
       "      fill: #174EA6;\n",
       "    }\n",
       "\n",
       "    [theme=dark] .colab-df-convert {\n",
       "      background-color: #3B4455;\n",
       "      fill: #D2E3FC;\n",
       "    }\n",
       "\n",
       "    [theme=dark] .colab-df-convert:hover {\n",
       "      background-color: #434B5C;\n",
       "      box-shadow: 0px 1px 3px 1px rgba(0, 0, 0, 0.15);\n",
       "      filter: drop-shadow(0px 1px 2px rgba(0, 0, 0, 0.3));\n",
       "      fill: #FFFFFF;\n",
       "    }\n",
       "  </style>\n",
       "\n",
       "      <script>\n",
       "        const buttonEl =\n",
       "          document.querySelector('#df-1b4c6093-8c12-40df-8e17-9b8bbad6c9ca button.colab-df-convert');\n",
       "        buttonEl.style.display =\n",
       "          google.colab.kernel.accessAllowed ? 'block' : 'none';\n",
       "\n",
       "        async function convertToInteractive(key) {\n",
       "          const element = document.querySelector('#df-1b4c6093-8c12-40df-8e17-9b8bbad6c9ca');\n",
       "          const dataTable =\n",
       "            await google.colab.kernel.invokeFunction('convertToInteractive',\n",
       "                                                     [key], {});\n",
       "          if (!dataTable) return;\n",
       "\n",
       "          const docLinkHtml = 'Like what you see? Visit the ' +\n",
       "            '<a target=\"_blank\" href=https://colab.research.google.com/notebooks/data_table.ipynb>data table notebook</a>'\n",
       "            + ' to learn more about interactive tables.';\n",
       "          element.innerHTML = '';\n",
       "          dataTable['output_type'] = 'display_data';\n",
       "          await google.colab.output.renderOutput(dataTable, element);\n",
       "          const docLink = document.createElement('div');\n",
       "          docLink.innerHTML = docLinkHtml;\n",
       "          element.appendChild(docLink);\n",
       "        }\n",
       "      </script>\n",
       "    </div>\n",
       "  </div>\n",
       "  "
      ],
      "text/plain": [
       "                                                  text  target  pred  \\\n",
       "31   ? High Skies - Burning Buildings ? http://t.co...       0   1.0   \n",
       "759  FedEx will no longer transport bioterror patho...       0   1.0   \n",
       "628  @noah_anyname That's where the concentration c...       0   1.0   \n",
       "209  Ashes 2015: AustraliaÛªs collapse at Trent Br...       0   1.0   \n",
       "251  @AshGhebranious civil rights continued in the ...       0   1.0   \n",
       "393  @SonofLiberty357 all illuminated by the bright...       0   1.0   \n",
       "109  [55436] 1950 LIONEL TRAINS SMOKE LOCOMOTIVES W...       0   1.0   \n",
       "49   @madonnamking RSPCA site multiple 7 story high...       0   1.0   \n",
       "119  @freefromwolves GodsLove &amp; #thankU brother...       0   1.0   \n",
       "344  Air Group is here to the rescue! We have 24/7 ...       0   1.0   \n",
       "\n",
       "     pred_prob  \n",
       "31    0.910196  \n",
       "759   0.876982  \n",
       "628   0.852300  \n",
       "209   0.835454  \n",
       "251   0.827213  \n",
       "393   0.814816  \n",
       "109   0.810840  \n",
       "49    0.803122  \n",
       "119   0.766901  \n",
       "344   0.766625  "
      ]
     },
     "execution_count": 135,
     "metadata": {},
     "output_type": "execute_result"
    }
   ],
   "source": [
    "# Find the wrong predictions and sort by prediction probabilities\n",
    "most_wrong = val_df[val_df[\"target\"] != val_df[\"pred\"]].sort_values(\"pred_prob\", ascending=False)\n",
    "most_wrong[:10] #False positive\n"
   ]
  },
  {
   "cell_type": "code",
   "execution_count": null,
   "id": "a5DsHEbLPVvn",
   "metadata": {
    "colab": {
     "base_uri": "https://localhost:8080/",
     "height": 206
    },
    "id": "a5DsHEbLPVvn",
    "outputId": "30488db1-129e-46a8-d3dc-3ed73d77ffe9"
   },
   "outputs": [
    {
     "data": {
      "text/html": [
       "\n",
       "  <div id=\"df-495f8140-adee-4dbc-8800-6e0536d63924\">\n",
       "    <div class=\"colab-df-container\">\n",
       "      <div>\n",
       "<style scoped>\n",
       "    .dataframe tbody tr th:only-of-type {\n",
       "        vertical-align: middle;\n",
       "    }\n",
       "\n",
       "    .dataframe tbody tr th {\n",
       "        vertical-align: top;\n",
       "    }\n",
       "\n",
       "    .dataframe thead th {\n",
       "        text-align: right;\n",
       "    }\n",
       "</style>\n",
       "<table border=\"1\" class=\"dataframe\">\n",
       "  <thead>\n",
       "    <tr style=\"text-align: right;\">\n",
       "      <th></th>\n",
       "      <th>text</th>\n",
       "      <th>target</th>\n",
       "      <th>pred</th>\n",
       "      <th>pred_prob</th>\n",
       "    </tr>\n",
       "  </thead>\n",
       "  <tbody>\n",
       "    <tr>\n",
       "      <th>411</th>\n",
       "      <td>@SoonerMagic_ I mean I'm a fan but I don't nee...</td>\n",
       "      <td>1</td>\n",
       "      <td>0.0</td>\n",
       "      <td>0.043919</td>\n",
       "    </tr>\n",
       "    <tr>\n",
       "      <th>233</th>\n",
       "      <td>I get to smoke my shit in peace</td>\n",
       "      <td>1</td>\n",
       "      <td>0.0</td>\n",
       "      <td>0.042087</td>\n",
       "    </tr>\n",
       "    <tr>\n",
       "      <th>38</th>\n",
       "      <td>Why are you deluged with low self-image? Take ...</td>\n",
       "      <td>1</td>\n",
       "      <td>0.0</td>\n",
       "      <td>0.038998</td>\n",
       "    </tr>\n",
       "    <tr>\n",
       "      <th>244</th>\n",
       "      <td>Reddit Will Now QuarantineÛ_ http://t.co/pkUA...</td>\n",
       "      <td>1</td>\n",
       "      <td>0.0</td>\n",
       "      <td>0.038949</td>\n",
       "    </tr>\n",
       "    <tr>\n",
       "      <th>23</th>\n",
       "      <td>Ron &amp;amp; Fez - Dave's High School Crush https...</td>\n",
       "      <td>1</td>\n",
       "      <td>0.0</td>\n",
       "      <td>0.037186</td>\n",
       "    </tr>\n",
       "  </tbody>\n",
       "</table>\n",
       "</div>\n",
       "      <button class=\"colab-df-convert\" onclick=\"convertToInteractive('df-495f8140-adee-4dbc-8800-6e0536d63924')\"\n",
       "              title=\"Convert this dataframe to an interactive table.\"\n",
       "              style=\"display:none;\">\n",
       "        \n",
       "  <svg xmlns=\"http://www.w3.org/2000/svg\" height=\"24px\"viewBox=\"0 0 24 24\"\n",
       "       width=\"24px\">\n",
       "    <path d=\"M0 0h24v24H0V0z\" fill=\"none\"/>\n",
       "    <path d=\"M18.56 5.44l.94 2.06.94-2.06 2.06-.94-2.06-.94-.94-2.06-.94 2.06-2.06.94zm-11 1L8.5 8.5l.94-2.06 2.06-.94-2.06-.94L8.5 2.5l-.94 2.06-2.06.94zm10 10l.94 2.06.94-2.06 2.06-.94-2.06-.94-.94-2.06-.94 2.06-2.06.94z\"/><path d=\"M17.41 7.96l-1.37-1.37c-.4-.4-.92-.59-1.43-.59-.52 0-1.04.2-1.43.59L10.3 9.45l-7.72 7.72c-.78.78-.78 2.05 0 2.83L4 21.41c.39.39.9.59 1.41.59.51 0 1.02-.2 1.41-.59l7.78-7.78 2.81-2.81c.8-.78.8-2.07 0-2.86zM5.41 20L4 18.59l7.72-7.72 1.47 1.35L5.41 20z\"/>\n",
       "  </svg>\n",
       "      </button>\n",
       "      \n",
       "  <style>\n",
       "    .colab-df-container {\n",
       "      display:flex;\n",
       "      flex-wrap:wrap;\n",
       "      gap: 12px;\n",
       "    }\n",
       "\n",
       "    .colab-df-convert {\n",
       "      background-color: #E8F0FE;\n",
       "      border: none;\n",
       "      border-radius: 50%;\n",
       "      cursor: pointer;\n",
       "      display: none;\n",
       "      fill: #1967D2;\n",
       "      height: 32px;\n",
       "      padding: 0 0 0 0;\n",
       "      width: 32px;\n",
       "    }\n",
       "\n",
       "    .colab-df-convert:hover {\n",
       "      background-color: #E2EBFA;\n",
       "      box-shadow: 0px 1px 2px rgba(60, 64, 67, 0.3), 0px 1px 3px 1px rgba(60, 64, 67, 0.15);\n",
       "      fill: #174EA6;\n",
       "    }\n",
       "\n",
       "    [theme=dark] .colab-df-convert {\n",
       "      background-color: #3B4455;\n",
       "      fill: #D2E3FC;\n",
       "    }\n",
       "\n",
       "    [theme=dark] .colab-df-convert:hover {\n",
       "      background-color: #434B5C;\n",
       "      box-shadow: 0px 1px 3px 1px rgba(0, 0, 0, 0.15);\n",
       "      filter: drop-shadow(0px 1px 2px rgba(0, 0, 0, 0.3));\n",
       "      fill: #FFFFFF;\n",
       "    }\n",
       "  </style>\n",
       "\n",
       "      <script>\n",
       "        const buttonEl =\n",
       "          document.querySelector('#df-495f8140-adee-4dbc-8800-6e0536d63924 button.colab-df-convert');\n",
       "        buttonEl.style.display =\n",
       "          google.colab.kernel.accessAllowed ? 'block' : 'none';\n",
       "\n",
       "        async function convertToInteractive(key) {\n",
       "          const element = document.querySelector('#df-495f8140-adee-4dbc-8800-6e0536d63924');\n",
       "          const dataTable =\n",
       "            await google.colab.kernel.invokeFunction('convertToInteractive',\n",
       "                                                     [key], {});\n",
       "          if (!dataTable) return;\n",
       "\n",
       "          const docLinkHtml = 'Like what you see? Visit the ' +\n",
       "            '<a target=\"_blank\" href=https://colab.research.google.com/notebooks/data_table.ipynb>data table notebook</a>'\n",
       "            + ' to learn more about interactive tables.';\n",
       "          element.innerHTML = '';\n",
       "          dataTable['output_type'] = 'display_data';\n",
       "          await google.colab.output.renderOutput(dataTable, element);\n",
       "          const docLink = document.createElement('div');\n",
       "          docLink.innerHTML = docLinkHtml;\n",
       "          element.appendChild(docLink);\n",
       "        }\n",
       "      </script>\n",
       "    </div>\n",
       "  </div>\n",
       "  "
      ],
      "text/plain": [
       "                                                  text  target  pred  \\\n",
       "411  @SoonerMagic_ I mean I'm a fan but I don't nee...       1   0.0   \n",
       "233                    I get to smoke my shit in peace       1   0.0   \n",
       "38   Why are you deluged with low self-image? Take ...       1   0.0   \n",
       "244  Reddit Will Now QuarantineÛ_ http://t.co/pkUA...       1   0.0   \n",
       "23   Ron &amp; Fez - Dave's High School Crush https...       1   0.0   \n",
       "\n",
       "     pred_prob  \n",
       "411   0.043919  \n",
       "233   0.042087  \n",
       "38    0.038998  \n",
       "244   0.038949  \n",
       "23    0.037186  "
      ]
     },
     "execution_count": 137,
     "metadata": {},
     "output_type": "execute_result"
    }
   ],
   "source": [
    "most_wrong.tail() #False negative"
   ]
  },
  {
   "cell_type": "code",
   "execution_count": null,
   "id": "gCscaXrbQE-z",
   "metadata": {
    "colab": {
     "base_uri": "https://localhost:8080/"
    },
    "id": "gCscaXrbQE-z",
    "outputId": "c0114436-1851-4f71-a41e-7da276bcf563"
   },
   "outputs": [
    {
     "name": "stdout",
     "output_type": "stream",
     "text": [
      "Target:0 , Pred:1.0, Prob:0.9101957678794861\n",
      "Text:\n",
      " ? High Skies - Burning Buildings ? http://t.co/uVq41i3Kx2 #nowplaying \n",
      "\n",
      "----\n",
      "\n",
      "Target:0 , Pred:1.0, Prob:0.8769821524620056\n",
      "Text:\n",
      " FedEx will no longer transport bioterror pathogens in wake of anthrax lab mishaps http://t.co/lHpgxc4b8J \n",
      "\n",
      "----\n",
      "\n",
      "Target:0 , Pred:1.0, Prob:0.8523001074790955\n",
      "Text:\n",
      " @noah_anyname That's where the concentration camps and mass murder come in. \n",
      " \n",
      "EVERY. FUCKING. TIME. \n",
      "\n",
      "----\n",
      "\n",
      "Target:0 , Pred:1.0, Prob:0.8354544043540955\n",
      "Text:\n",
      " Ashes 2015: AustraliaÛªs collapse at Trent Bridge among worst in history: England bundled out Australia for 60 ... http://t.co/t5TrhjUAU0 \n",
      "\n",
      "----\n",
      "\n",
      "Target:0 , Pred:1.0, Prob:0.8272132277488708\n",
      "Text:\n",
      " @AshGhebranious civil rights continued in the 60s. And what about trans-generational trauma? if anything we should listen to the Americans. \n",
      "\n",
      "----\n",
      "\n",
      "Target:0 , Pred:1.0, Prob:0.8148158192634583\n",
      "Text:\n",
      " @SonofLiberty357 all illuminated by the brightly burning buildings all around the town! \n",
      "\n",
      "----\n",
      "\n",
      "Target:0 , Pred:1.0, Prob:0.8108396530151367\n",
      "Text:\n",
      " [55436] 1950 LIONEL TRAINS SMOKE LOCOMOTIVES WITH MAGNE-TRACTION INSTRUCTIONS http://t.co/xEZBs3sq0y http://t.co/C2x0QoKGlY \n",
      "\n",
      "----\n",
      "\n",
      "Target:0 , Pred:1.0, Prob:0.8031218647956848\n",
      "Text:\n",
      " @madonnamking RSPCA site multiple 7 story high rise buildings next to low density character residential in an area that floods \n",
      "\n",
      "----\n",
      "\n",
      "Target:0 , Pred:1.0, Prob:0.7669009566307068\n",
      "Text:\n",
      " @freefromwolves GodsLove &amp; #thankU brother Danny for RT of NEW VIDEO http://t.co/cybKsXHF7d The Coming Apocalyptic US Earthquake &amp; Tsunami \n",
      "\n",
      "----\n",
      "\n",
      "Target:0 , Pred:1.0, Prob:0.7666252255439758\n",
      "Text:\n",
      " Air Group is here to the rescue! We have 24/7 Emergency Service! Learn more about it here - http://t.co/9lyx7zMtHE http://t.co/5PbC96rTMJ \n",
      "\n",
      "----\n",
      "\n"
     ]
    }
   ],
   "source": [
    "#Check the false positive\n",
    "for row in most_wrong[:10].itertuples():\n",
    "  _,text,target,pred,pred_prob=row\n",
    "  print(f\"Target:{target} , Pred:{pred}, Prob:{pred_prob}\")\n",
    "  print(f\"Text:\\n {text} \\n\")\n",
    "  print(\"----\\n\")"
   ]
  },
  {
   "cell_type": "code",
   "execution_count": null,
   "id": "fsI6TcBdaKnI",
   "metadata": {
    "colab": {
     "base_uri": "https://localhost:8080/",
     "height": 485
    },
    "id": "fsI6TcBdaKnI",
    "outputId": "9965d88c-5e76-4f6d-8531-4aede395d211"
   },
   "outputs": [
    {
     "data": {
      "text/html": [
       "\n",
       "  <div id=\"df-7fac2934-3058-4720-97b7-07c0f123ec33\">\n",
       "    <div class=\"colab-df-container\">\n",
       "      <div>\n",
       "<style scoped>\n",
       "    .dataframe tbody tr th:only-of-type {\n",
       "        vertical-align: middle;\n",
       "    }\n",
       "\n",
       "    .dataframe tbody tr th {\n",
       "        vertical-align: top;\n",
       "    }\n",
       "\n",
       "    .dataframe thead th {\n",
       "        text-align: right;\n",
       "    }\n",
       "</style>\n",
       "<table border=\"1\" class=\"dataframe\">\n",
       "  <thead>\n",
       "    <tr style=\"text-align: right;\">\n",
       "      <th></th>\n",
       "      <th>id</th>\n",
       "      <th>keyword</th>\n",
       "      <th>location</th>\n",
       "      <th>text</th>\n",
       "    </tr>\n",
       "  </thead>\n",
       "  <tbody>\n",
       "    <tr>\n",
       "      <th>0</th>\n",
       "      <td>0</td>\n",
       "      <td>NaN</td>\n",
       "      <td>NaN</td>\n",
       "      <td>Just happened a terrible car crash</td>\n",
       "    </tr>\n",
       "    <tr>\n",
       "      <th>1</th>\n",
       "      <td>2</td>\n",
       "      <td>NaN</td>\n",
       "      <td>NaN</td>\n",
       "      <td>Heard about #earthquake is different cities, s...</td>\n",
       "    </tr>\n",
       "    <tr>\n",
       "      <th>2</th>\n",
       "      <td>3</td>\n",
       "      <td>NaN</td>\n",
       "      <td>NaN</td>\n",
       "      <td>there is a forest fire at spot pond, geese are...</td>\n",
       "    </tr>\n",
       "    <tr>\n",
       "      <th>3</th>\n",
       "      <td>9</td>\n",
       "      <td>NaN</td>\n",
       "      <td>NaN</td>\n",
       "      <td>Apocalypse lighting. #Spokane #wildfires</td>\n",
       "    </tr>\n",
       "    <tr>\n",
       "      <th>4</th>\n",
       "      <td>11</td>\n",
       "      <td>NaN</td>\n",
       "      <td>NaN</td>\n",
       "      <td>Typhoon Soudelor kills 28 in China and Taiwan</td>\n",
       "    </tr>\n",
       "    <tr>\n",
       "      <th>...</th>\n",
       "      <td>...</td>\n",
       "      <td>...</td>\n",
       "      <td>...</td>\n",
       "      <td>...</td>\n",
       "    </tr>\n",
       "    <tr>\n",
       "      <th>3258</th>\n",
       "      <td>10861</td>\n",
       "      <td>NaN</td>\n",
       "      <td>NaN</td>\n",
       "      <td>EARTHQUAKE SAFETY LOS ANGELES ÛÒ SAFETY FASTE...</td>\n",
       "    </tr>\n",
       "    <tr>\n",
       "      <th>3259</th>\n",
       "      <td>10865</td>\n",
       "      <td>NaN</td>\n",
       "      <td>NaN</td>\n",
       "      <td>Storm in RI worse than last hurricane. My city...</td>\n",
       "    </tr>\n",
       "    <tr>\n",
       "      <th>3260</th>\n",
       "      <td>10868</td>\n",
       "      <td>NaN</td>\n",
       "      <td>NaN</td>\n",
       "      <td>Green Line derailment in Chicago http://t.co/U...</td>\n",
       "    </tr>\n",
       "    <tr>\n",
       "      <th>3261</th>\n",
       "      <td>10874</td>\n",
       "      <td>NaN</td>\n",
       "      <td>NaN</td>\n",
       "      <td>MEG issues Hazardous Weather Outlook (HWO) htt...</td>\n",
       "    </tr>\n",
       "    <tr>\n",
       "      <th>3262</th>\n",
       "      <td>10875</td>\n",
       "      <td>NaN</td>\n",
       "      <td>NaN</td>\n",
       "      <td>#CityofCalgary has activated its Municipal Eme...</td>\n",
       "    </tr>\n",
       "  </tbody>\n",
       "</table>\n",
       "<p>3263 rows × 4 columns</p>\n",
       "</div>\n",
       "      <button class=\"colab-df-convert\" onclick=\"convertToInteractive('df-7fac2934-3058-4720-97b7-07c0f123ec33')\"\n",
       "              title=\"Convert this dataframe to an interactive table.\"\n",
       "              style=\"display:none;\">\n",
       "        \n",
       "  <svg xmlns=\"http://www.w3.org/2000/svg\" height=\"24px\"viewBox=\"0 0 24 24\"\n",
       "       width=\"24px\">\n",
       "    <path d=\"M0 0h24v24H0V0z\" fill=\"none\"/>\n",
       "    <path d=\"M18.56 5.44l.94 2.06.94-2.06 2.06-.94-2.06-.94-.94-2.06-.94 2.06-2.06.94zm-11 1L8.5 8.5l.94-2.06 2.06-.94-2.06-.94L8.5 2.5l-.94 2.06-2.06.94zm10 10l.94 2.06.94-2.06 2.06-.94-2.06-.94-.94-2.06-.94 2.06-2.06.94z\"/><path d=\"M17.41 7.96l-1.37-1.37c-.4-.4-.92-.59-1.43-.59-.52 0-1.04.2-1.43.59L10.3 9.45l-7.72 7.72c-.78.78-.78 2.05 0 2.83L4 21.41c.39.39.9.59 1.41.59.51 0 1.02-.2 1.41-.59l7.78-7.78 2.81-2.81c.8-.78.8-2.07 0-2.86zM5.41 20L4 18.59l7.72-7.72 1.47 1.35L5.41 20z\"/>\n",
       "  </svg>\n",
       "      </button>\n",
       "      \n",
       "  <style>\n",
       "    .colab-df-container {\n",
       "      display:flex;\n",
       "      flex-wrap:wrap;\n",
       "      gap: 12px;\n",
       "    }\n",
       "\n",
       "    .colab-df-convert {\n",
       "      background-color: #E8F0FE;\n",
       "      border: none;\n",
       "      border-radius: 50%;\n",
       "      cursor: pointer;\n",
       "      display: none;\n",
       "      fill: #1967D2;\n",
       "      height: 32px;\n",
       "      padding: 0 0 0 0;\n",
       "      width: 32px;\n",
       "    }\n",
       "\n",
       "    .colab-df-convert:hover {\n",
       "      background-color: #E2EBFA;\n",
       "      box-shadow: 0px 1px 2px rgba(60, 64, 67, 0.3), 0px 1px 3px 1px rgba(60, 64, 67, 0.15);\n",
       "      fill: #174EA6;\n",
       "    }\n",
       "\n",
       "    [theme=dark] .colab-df-convert {\n",
       "      background-color: #3B4455;\n",
       "      fill: #D2E3FC;\n",
       "    }\n",
       "\n",
       "    [theme=dark] .colab-df-convert:hover {\n",
       "      background-color: #434B5C;\n",
       "      box-shadow: 0px 1px 3px 1px rgba(0, 0, 0, 0.15);\n",
       "      filter: drop-shadow(0px 1px 2px rgba(0, 0, 0, 0.3));\n",
       "      fill: #FFFFFF;\n",
       "    }\n",
       "  </style>\n",
       "\n",
       "      <script>\n",
       "        const buttonEl =\n",
       "          document.querySelector('#df-7fac2934-3058-4720-97b7-07c0f123ec33 button.colab-df-convert');\n",
       "        buttonEl.style.display =\n",
       "          google.colab.kernel.accessAllowed ? 'block' : 'none';\n",
       "\n",
       "        async function convertToInteractive(key) {\n",
       "          const element = document.querySelector('#df-7fac2934-3058-4720-97b7-07c0f123ec33');\n",
       "          const dataTable =\n",
       "            await google.colab.kernel.invokeFunction('convertToInteractive',\n",
       "                                                     [key], {});\n",
       "          if (!dataTable) return;\n",
       "\n",
       "          const docLinkHtml = 'Like what you see? Visit the ' +\n",
       "            '<a target=\"_blank\" href=https://colab.research.google.com/notebooks/data_table.ipynb>data table notebook</a>'\n",
       "            + ' to learn more about interactive tables.';\n",
       "          element.innerHTML = '';\n",
       "          dataTable['output_type'] = 'display_data';\n",
       "          await google.colab.output.renderOutput(dataTable, element);\n",
       "          const docLink = document.createElement('div');\n",
       "          docLink.innerHTML = docLinkHtml;\n",
       "          element.appendChild(docLink);\n",
       "        }\n",
       "      </script>\n",
       "    </div>\n",
       "  </div>\n",
       "  "
      ],
      "text/plain": [
       "         id keyword location  \\\n",
       "0         0     NaN      NaN   \n",
       "1         2     NaN      NaN   \n",
       "2         3     NaN      NaN   \n",
       "3         9     NaN      NaN   \n",
       "4        11     NaN      NaN   \n",
       "...     ...     ...      ...   \n",
       "3258  10861     NaN      NaN   \n",
       "3259  10865     NaN      NaN   \n",
       "3260  10868     NaN      NaN   \n",
       "3261  10874     NaN      NaN   \n",
       "3262  10875     NaN      NaN   \n",
       "\n",
       "                                                   text  \n",
       "0                    Just happened a terrible car crash  \n",
       "1     Heard about #earthquake is different cities, s...  \n",
       "2     there is a forest fire at spot pond, geese are...  \n",
       "3              Apocalypse lighting. #Spokane #wildfires  \n",
       "4         Typhoon Soudelor kills 28 in China and Taiwan  \n",
       "...                                                 ...  \n",
       "3258  EARTHQUAKE SAFETY LOS ANGELES ÛÒ SAFETY FASTE...  \n",
       "3259  Storm in RI worse than last hurricane. My city...  \n",
       "3260  Green Line derailment in Chicago http://t.co/U...  \n",
       "3261  MEG issues Hazardous Weather Outlook (HWO) htt...  \n",
       "3262  #CityofCalgary has activated its Municipal Eme...  \n",
       "\n",
       "[3263 rows x 4 columns]"
      ]
     },
     "execution_count": 140,
     "metadata": {},
     "output_type": "execute_result"
    }
   ],
   "source": [
    "test_df"
   ]
  },
  {
   "cell_type": "code",
   "execution_count": null,
   "id": "xvVYbaC5cd2K",
   "metadata": {
    "colab": {
     "base_uri": "https://localhost:8080/"
    },
    "id": "xvVYbaC5cd2K",
    "outputId": "ac85fca2-3c58-4a58-c772-8f753705055d"
   },
   "outputs": [
    {
     "name": "stdout",
     "output_type": "stream",
     "text": [
      "1/1 [==============================] - 0s 81ms/step\n",
      "Pred: 0, Prob: 0.1964809149503708\n",
      "Text:\n",
      "Media stocks are getting destroyed (DIS FOXA CMCSA SNI AMCX VIAB VIA TWX) http://t.co/dQd3YtaZfG\n",
      "\n",
      "----\n",
      "\n",
      "1/1 [==============================] - 0s 61ms/step\n",
      "Pred: 0, Prob: 0.04300571605563164\n",
      "Text:\n",
      "The midnight song I cry out goes 'In reality I... in reality I... was very lonely'\n",
      "Even if it is erased by the blazing sun\n",
      "\n",
      "----\n",
      "\n",
      "1/1 [==============================] - 0s 65ms/step\n",
      "Pred: 0, Prob: 0.4909617602825165\n",
      "Text:\n",
      "@emmap645 @Vickygeex @Zak_Bagans @NickGroff_ @AaronGoodwin A few friends of mine were up investigatin the hellfire last year they had loads\n",
      "\n",
      "----\n",
      "\n",
      "1/1 [==============================] - 0s 66ms/step\n",
      "Pred: 0, Prob: 0.34463053941726685\n",
      "Text:\n",
      "5000 year old ring fort to be demolished http://t.co/kNLZfC8QSl\n",
      "\n",
      "----\n",
      "\n",
      "1/1 [==============================] - 0s 64ms/step\n",
      "Pred: 1, Prob: 0.8562852740287781\n",
      "Text:\n",
      "Residents artists remember aftermath of Hurricane Katrina through artwork - WDSU New Orleans: WDSU New Orlean... http://t.co/U6pAvbZoB3\n",
      "\n",
      "----\n",
      "\n",
      "1/1 [==============================] - 0s 79ms/step\n",
      "Pred: 1, Prob: 0.9172809720039368\n",
      "Text:\n",
      "South Side factory where worker electrocuted pays $17000 penalty #Columbus http://t.co/nSGWiCYXFT\n",
      "\n",
      "----\n",
      "\n",
      "1/1 [==============================] - 0s 87ms/step\n",
      "Pred: 0, Prob: 0.3545408546924591\n",
      "Text:\n",
      "Building structural integrity &amp; failure: problems inspections damages defects testing repair | Rightways https://t.co/a1KN4U3YuA\n",
      "\n",
      "----\n",
      "\n",
      "1/1 [==============================] - 0s 61ms/step\n",
      "Pred: 1, Prob: 0.9076189994812012\n",
      "Text:\n",
      "2 Injured 1 missing in bridge collapse in central Mexico http://t.co/scDa8eVwR6\n",
      "\n",
      "----\n",
      "\n",
      "1/1 [==============================] - 0s 72ms/step\n",
      "Pred: 0, Prob: 0.10307302325963974\n",
      "Text:\n",
      "I BOMBED THE FAKE BOLT CHAT AND EVERYONE THOUGHT BOLT ENDED LMFAO\n",
      "\n",
      "----\n",
      "\n",
      "1/1 [==============================] - 0s 63ms/step\n",
      "Pred: 0, Prob: 0.1363283395767212\n",
      "Text:\n",
      "Detonation fashionable mountaineering electronic watch water-resistant couples leisure tabÛ_ http://t.co/kY9V0pAjY1 http://t.co/QjqpXIxMxz\n",
      "\n",
      "----\n",
      "\n"
     ]
    }
   ],
   "source": [
    "#Making predictions on test dataset\n",
    "# Making predictions on the test dataset\n",
    "test_sentences = test_df[\"text\"].to_list()\n",
    "test_samples = random.sample(test_sentences, 10)\n",
    "for test_sample in test_samples:\n",
    "  pred_prob = tf.squeeze(model_6.predict([test_sample])) # has to be list\n",
    "  pred = tf.round(pred_prob)\n",
    "  print(f\"Pred: {int(pred)}, Prob: {pred_prob}\")\n",
    "  print(f\"Text:\\n{test_sample}\\n\")\n",
    "  print(\"----\\n\")"
   ]
  },
  {
   "cell_type": "markdown",
   "id": "e2-TMDEodYl_",
   "metadata": {
    "id": "e2-TMDEodYl_"
   },
   "source": [
    "## The speed/score tradeoff"
   ]
  },
  {
   "cell_type": "code",
   "execution_count": null,
   "id": "CsBPFgwmedIU",
   "metadata": {
    "colab": {
     "base_uri": "https://localhost:8080/"
    },
    "id": "CsBPFgwmedIU",
    "outputId": "7271ada3-0ef2-49bc-b589-f88715d1d9c1"
   },
   "outputs": [
    {
     "data": {
      "text/plain": [
       "{'accuracy': 81.49606299212599,\n",
       " 'precision': 0.8172549323109193,\n",
       " 'recall': 0.8149606299212598,\n",
       " 'f1': 0.8134357776936025}"
      ]
     },
     "execution_count": 142,
     "metadata": {},
     "output_type": "execute_result"
    }
   ],
   "source": [
    "model_6_results"
   ]
  },
  {
   "cell_type": "code",
   "execution_count": null,
   "id": "-FJaUewWef6a",
   "metadata": {
    "colab": {
     "base_uri": "https://localhost:8080/"
    },
    "id": "-FJaUewWef6a",
    "outputId": "51afe219-d0d5-432b-ff62-2a087b763303"
   },
   "outputs": [
    {
     "data": {
      "text/plain": [
       "{'accuracy': 79.26509186351706,\n",
       " 'precision': 0.8111390004213173,\n",
       " 'recall': 0.7926509186351706,\n",
       " 'f1': 0.7862189758049549}"
      ]
     },
     "execution_count": 143,
     "metadata": {},
     "output_type": "execute_result"
    }
   ],
   "source": [
    "baseline_results"
   ]
  },
  {
   "cell_type": "code",
   "execution_count": null,
   "id": "eJTgv0Obe5zE",
   "metadata": {
    "id": "eJTgv0Obe5zE"
   },
   "outputs": [],
   "source": [
    "# Calculate the time of predictions\n",
    "import time\n",
    "def pred_timer(model, samples):\n",
    "  \"\"\"\n",
    "  Times how long a model takes to make predictions on samples.\n",
    "  \n",
    "  Args:\n",
    "  ----\n",
    "  model = a trained model\n",
    "  sample = a list of samples\n",
    "\n",
    "  Returns:\n",
    "  ----\n",
    "  total_time = total elapsed time for model to make predictions on samples\n",
    "  time_per_pred = time in seconds per single sample\n",
    "  \"\"\"\n",
    "  start_time = time.perf_counter() # get start time\n",
    "  model.predict(samples) # make predictions\n",
    "  end_time = time.perf_counter() # get finish time\n",
    "  total_time = end_time-start_time # calculate how long predictions took to make\n",
    "  time_per_pred = total_time/len(val_sentences) # find prediction time per sample\n",
    "  return total_time, time_per_pred"
   ]
  },
  {
   "cell_type": "code",
   "execution_count": null,
   "id": "wC6q7pnbjFJs",
   "metadata": {
    "colab": {
     "base_uri": "https://localhost:8080/"
    },
    "id": "wC6q7pnbjFJs",
    "outputId": "1fcd09a8-eddb-4f60-d119-a6c87bae4c8c"
   },
   "outputs": [
    {
     "name": "stdout",
     "output_type": "stream",
     "text": [
      "24/24 [==============================] - 0s 10ms/step\n"
     ]
    },
    {
     "data": {
      "text/plain": [
       "(0.29866196700095315, 0.000391944838583928)"
      ]
     },
     "execution_count": 154,
     "metadata": {},
     "output_type": "execute_result"
    }
   ],
   "source": [
    "# Calculate TF Hub Sentence Encoder prediction times\n",
    "model_6_total_pred_time, model_6_time_per_pred = pred_timer(model_6, val_sentences)\n",
    "model_6_total_pred_time, model_6_time_per_pred"
   ]
  },
  {
   "cell_type": "code",
   "execution_count": null,
   "id": "M0bxR66QjWSj",
   "metadata": {
    "colab": {
     "base_uri": "https://localhost:8080/"
    },
    "id": "M0bxR66QjWSj",
    "outputId": "c15c35a2-ec76-4d40-d78c-6d28fcca0b51"
   },
   "outputs": [
    {
     "data": {
      "text/plain": [
       "(0.019965989000411355, 2.6202085302377105e-05)"
      ]
     },
     "execution_count": 155,
     "metadata": {},
     "output_type": "execute_result"
    }
   ],
   "source": [
    "# Calculate Naive Bayes prediction times\n",
    "baseline_total_pred_time, baseline_time_per_pred = pred_timer(model_0, val_sentences)\n",
    "baseline_total_pred_time, baseline_time_per_pred"
   ]
  },
  {
   "cell_type": "code",
   "execution_count": null,
   "id": "D209bf-djXdB",
   "metadata": {
    "colab": {
     "base_uri": "https://localhost:8080/",
     "height": 458
    },
    "id": "D209bf-djXdB",
    "outputId": "f3317406-9c6d-4706-a0fe-5614ffd4d262"
   },
   "outputs": [
    {
     "data": {
      "image/png": "[encoded data removed]",
      "text/plain": [
       "<Figure size 720x504 with 1 Axes>"
      ]
     },
     "metadata": {
      "needs_background": "light"
     },
     "output_type": "display_data"
    }
   ],
   "source": [
    "import matplotlib.pyplot as plt\n",
    "\n",
    "plt.figure(figsize=(10, 7))\n",
    "plt.scatter(baseline_time_per_pred, baseline_results[\"f1\"], label=\"baseline\")\n",
    "plt.scatter(model_6_time_per_pred, model_6_results[\"f1\"], label=\"tf_hub_sentence_encoder\")\n",
    "plt.legend()\n",
    "plt.title(\"F1-score versus time per prediction\")\n",
    "plt.xlabel(\"Time per prediction\")\n",
    "plt.ylabel(\"F1-Score\");"
   ]
  }
 ],
 "metadata": {
  "accelerator": "GPU",
  "colab": {
   "provenance": []
  },
  "gpuClass": "standard",
  "kernelspec": {
   "display_name": "Python 3 (ipykernel)",
   "language": "python",
   "name": "python3"
  },
  "language_info": {
   "codemirror_mode": {
    "name": "ipython",
    "version": 3
   },
   "file_extension": ".py",
   "mimetype": "text/x-python",
   "name": "python",
   "nbconvert_exporter": "python",
   "pygments_lexer": "ipython3",
   "version": "3.9.7"
  }
 },
 "nbformat": 4,
 "nbformat_minor": 5
}
